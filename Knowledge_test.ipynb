{
 "cells": [
  {
   "cell_type": "code",
   "execution_count": 1,
   "id": "ccbd2d45",
   "metadata": {},
   "outputs": [
    {
     "name": "stdout",
     "output_type": "stream",
     "text": [
      "0\n",
      "1\n",
      "1\n",
      "2\n",
      "3\n",
      "5\n"
     ]
    }
   ],
   "source": [
    "# Q1. Write a function to print the fibonaaci series\n",
    "def fibonacci(n =2):\n",
    "    a = [0]*n\n",
    "    a[0] = 0\n",
    "    a[1] = 1\n",
    "    print(a[0])\n",
    "    print(a[1])\n",
    "    for i in range(2, n):\n",
    "        #print(i)\n",
    "        a[i] = a[i-1] +a[i-2]\n",
    "        print(a[i])\n",
    "fibonacci(6)"
   ]
  },
  {
   "cell_type": "code",
   "execution_count": 2,
   "id": "4ba9a40c",
   "metadata": {},
   "outputs": [
    {
     "name": "stdout",
     "output_type": "stream",
     "text": [
      "arm number\n"
     ]
    }
   ],
   "source": [
    "# Q2. What are Armstrong numbers? Write a function if a number is Armstrong number of not\n",
    "# 153 = 1*1*1 + 5*5*5 + 3*3*3  // 153 is an Armstrong number.\n",
    "# 407 is an Armstrong number\n",
    "# 1634 is  an Armstrong number\n",
    "\n",
    "def armstrong(n):\n",
    "    n1=str(n)\n",
    "    l=len(n1)\n",
    "    arm=0\n",
    "    for i in n1:\n",
    "        arm=arm+(int(i)**l)\n",
    "        #return arm\n",
    "    if arm==n:\n",
    "        print('arm number')\n",
    "    else:\n",
    "        print('not arm')\n",
    "armstrong(1634)"
   ]
  },
  {
   "cell_type": "code",
   "execution_count": 5,
   "id": "a20c0159",
   "metadata": {},
   "outputs": [
    {
     "name": "stdout",
     "output_type": "stream",
     "text": [
      "[1, 2, 3, 4]\n",
      "(1, 2, 3, 4)\n",
      "[1, 2, 5, 4]\n"
     ]
    },
    {
     "ename": "TypeError",
     "evalue": "'tuple' object does not support item assignment",
     "output_type": "error",
     "traceback": [
      "\u001b[1;31m---------------------------------------------------------------------------\u001b[0m",
      "\u001b[1;31mTypeError\u001b[0m                                 Traceback (most recent call last)",
      "\u001b[1;32m<ipython-input-5-42924117d894>\u001b[0m in \u001b[0;36m<module>\u001b[1;34m\u001b[0m\n\u001b[0;32m     11\u001b[0m \u001b[0mprint\u001b[0m\u001b[1;33m(\u001b[0m\u001b[0mlist_num\u001b[0m\u001b[1;33m)\u001b[0m\u001b[1;33m\u001b[0m\u001b[1;33m\u001b[0m\u001b[0m\n\u001b[0;32m     12\u001b[0m \u001b[1;33m\u001b[0m\u001b[0m\n\u001b[1;32m---> 13\u001b[1;33m \u001b[0mtup_num\u001b[0m\u001b[1;33m[\u001b[0m\u001b[1;36m2\u001b[0m\u001b[1;33m]\u001b[0m \u001b[1;33m=\u001b[0m \u001b[1;36m5\u001b[0m\u001b[1;33m\u001b[0m\u001b[1;33m\u001b[0m\u001b[0m\n\u001b[0m",
      "\u001b[1;31mTypeError\u001b[0m: 'tuple' object does not support item assignment"
     ]
    }
   ],
   "source": [
    "# Q3. Difference between list and tuple support your answer with coding example\n",
    "# 1) Lists are surrounded by square brackets [] and Tuples are surrounded by parenthesis ().\n",
    "list_num = [1,2,3,4]\n",
    "tup_num = (1,2,3,4)\n",
    "\n",
    "print(list_num)\n",
    "print(tup_num)\n",
    "\n",
    "# 2) Mutable List vs Immutable Tuples. Tuples cannot be modified\n",
    "list_num[2] = 5\n",
    "print(list_num)\n",
    "\n",
    "tup_num[2] = 5\n",
    "\n",
    "# 3) Count and Index are the only 2 method operations that can be done tuples. List has many methods like append, copy, pop, remove, reverse. etc. "
   ]
  },
  {
   "cell_type": "code",
   "execution_count": null,
   "id": "1af282d2",
   "metadata": {},
   "outputs": [],
   "source": [
    "# Q4. What is python doc String\n",
    "\n",
    "Python Docstrings provide a convenient way of associating documentation with Python modules, functions, classes, and methods.\n",
    "\n",
    "It’s specified in source code that is used, like a comment, to document a specific segment of code. The docstring should describe what the function does, not how"
   ]
  },
  {
   "cell_type": "code",
   "execution_count": null,
   "id": "c9faeb84",
   "metadata": {},
   "outputs": [],
   "source": [
    "# Research Test\n",
    "\n",
    "# Q1. what is PEP 8\n",
    "# Used for making the code more readable and eye-pleasing\n",
    "# Making it easy for others to read code\n",
    "# 1. Use 4-space indentation \n",
    "# 2. Use docstrings\n",
    "# 3. Wrap lines so that they don’t exceed 79 characters\n",
    "# 4. Use of regular and updated comments are valuable to both the coders and users\n",
    "# 5. Use of trailing commas (for tuples) like tup = (\"abc\n",
    "# 6. Use Python’s default UTF-8 or ASCII encodings \",)\n",
    "# 7. Use spaces around operators and after commas\n",
    "# 8. The convention is to use CamelCase for classes and lower_case_with_underscores for functions and methods"
   ]
  },
  {
   "cell_type": "code",
   "execution_count": 11,
   "id": "a5e2032a",
   "metadata": {},
   "outputs": [],
   "source": [
    "# Q2. difference between range and xrange\n",
    "# initializing a with range()\n",
    "#The range() and xrange() are two functions that could be used to iterate a certain number of times in for loops in Python. \n",
    "#In Python 3, there is no xrange, but the range function behaves like xrange in Python 2. \n",
    "#If you want to write code that will run on both Python 2 and Python 3, you should use range().\n",
    "\n",
    "#range() – This returns a range object (a type of iterable).\n",
    "\n",
    "#xrange() – This function returns the generator object that can be used to display numbers only by looping. \n",
    "#The only particular range is displayed on demand and hence called “lazy evaluation“."
   ]
  },
  {
   "cell_type": "code",
   "execution_count": 16,
   "id": "74611547",
   "metadata": {},
   "outputs": [
    {
     "name": "stdout",
     "output_type": "stream",
     "text": [
      "30\n",
      "15\n",
      "10\n"
     ]
    },
    {
     "ename": "NameError",
     "evalue": "name 'c' is not defined",
     "output_type": "error",
     "traceback": [
      "\u001b[1;31m---------------------------------------------------------------------------\u001b[0m",
      "\u001b[1;31mNameError\u001b[0m                                 Traceback (most recent call last)",
      "\u001b[1;32m<ipython-input-16-3f0a843cc3c6>\u001b[0m in \u001b[0;36m<module>\u001b[1;34m\u001b[0m\n\u001b[0;32m      9\u001b[0m \u001b[0mprint\u001b[0m\u001b[1;33m(\u001b[0m\u001b[0ma\u001b[0m\u001b[1;33m)\u001b[0m\u001b[1;33m\u001b[0m\u001b[1;33m\u001b[0m\u001b[0m\n\u001b[0;32m     10\u001b[0m \u001b[0mprint\u001b[0m\u001b[1;33m(\u001b[0m\u001b[0mb\u001b[0m\u001b[1;33m)\u001b[0m\u001b[1;33m\u001b[0m\u001b[1;33m\u001b[0m\u001b[0m\n\u001b[1;32m---> 11\u001b[1;33m \u001b[0mprint\u001b[0m\u001b[1;33m(\u001b[0m\u001b[0mc\u001b[0m\u001b[1;33m)\u001b[0m\u001b[1;33m\u001b[0m\u001b[1;33m\u001b[0m\u001b[0m\n\u001b[0m\u001b[0;32m     12\u001b[0m \u001b[1;31m#a and b are global variables but c is local to the function and cannot be used outside the function\u001b[0m\u001b[1;33m\u001b[0m\u001b[1;33m\u001b[0m\u001b[1;33m\u001b[0m\u001b[0m\n",
      "\u001b[1;31mNameError\u001b[0m: name 'c' is not defined"
     ]
    }
   ],
   "source": [
    "# Q3. What are global and local varibales support your answer with coding\n",
    "a=15\n",
    "b=10\n",
    "def fn():\n",
    "    c=30\n",
    "    print(c)\n",
    "\n",
    "fn() #pritning the value of local variable c\n",
    "print(a) #pritning the value of global variable a\n",
    "print(b) #pritning the value of global variable b\n",
    "print(c) #error as c is local to the function and we are trying to print it outside the function\n",
    "#a and b are global variables but c is local to the function and cannot be used outside the function"
   ]
  },
  {
   "cell_type": "code",
   "execution_count": null,
   "id": "23a46743",
   "metadata": {},
   "outputs": [],
   "source": [
    "# # Q4. Difference between python 2 and python 3\n",
    "# 1.\n",
    "# The strings in Python 2 are ASCII code by default and cannot be changed. \n",
    "# To be saved as Unicode, ‘u’ has to be added in the programming statement.\n",
    "# The strings in Python 3 are Unicode by default and cannot be changed. Unicode has more options than ASCII code.\n",
    "\n",
    "# 2.\n",
    "# In python 2 if we perform division on two integers then the output will be an integer too. \n",
    "# But in python 3, output will be accurate, so the result can be in float too\n",
    "\n",
    "# 3.\n",
    "# In python 2 parenthesis aren’t compulsory to use we can print anything without using parenthesis \n",
    "# but in Python 3 it is compulsory to use parenthesis otherwise it will raise error\n",
    "\n",
    "# 4. \n",
    "# In Python 3, there is no xrange, but the range function behaves like xrange in Python 2\n",
    "\n",
    "# 5.\n",
    "# python 2 have input() and raw_input() methods for taking input. \n",
    "# The difference between them raw_input() returns a string, and input() tries to run the input as a python expression.\n",
    "# In python 3 there is no raw_input() method"
   ]
  },
  {
   "cell_type": "code",
   "execution_count": 21,
   "id": "b54aeea0",
   "metadata": {},
   "outputs": [
    {
     "name": "stdout",
     "output_type": "stream",
     "text": [
      "mirrorred palindrome\n",
      "mirrorred palindrome\n",
      "mirrorred palindrome\n"
     ]
    }
   ],
   "source": [
    "# Q5. What are mirrored palindrome? Write a program to check if a string is mirrored palindrome or not?\n",
    "\n",
    "# Mirrored Palindromes are words or phrases that read the same in both directions, e.g. EYE, or RACECAR, or MADAM\n",
    "\n",
    "def mrr_palindrome(a):\n",
    "    if a==a[::-1]:\n",
    "        print('mirrorred palindrome')\n",
    "    else:\n",
    "        print('not mirrorred palindrome')\n",
    "mrr_palindrome('eye')\n",
    "mrr_palindrome('RACECAR')\n",
    "mrr_palindrome(\"MADAM\")"
   ]
  }
 ],
 "metadata": {
  "kernelspec": {
   "display_name": "Python 3",
   "language": "python",
   "name": "python3"
  },
  "language_info": {
   "codemirror_mode": {
    "name": "ipython",
    "version": 3
   },
   "file_extension": ".py",
   "mimetype": "text/x-python",
   "name": "python",
   "nbconvert_exporter": "python",
   "pygments_lexer": "ipython3",
   "version": "3.8.8"
  }
 },
 "nbformat": 4,
 "nbformat_minor": 5
}
