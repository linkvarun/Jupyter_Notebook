{
 "cells": [
  {
   "cell_type": "code",
   "execution_count": null,
   "id": "87505bc7",
   "metadata": {},
   "outputs": [],
   "source": [
    "# Datatypes"
   ]
  },
  {
   "cell_type": "code",
   "execution_count": 14,
   "id": "73030730",
   "metadata": {},
   "outputs": [
    {
     "name": "stdout",
     "output_type": "stream",
     "text": [
      "12\n",
      "3.3333333333333335\n",
      "3\n",
      "3.0\n",
      "1\n",
      "32\n",
      "36.75834735990512\n"
     ]
    }
   ],
   "source": [
    "# Arithmatic operations\n",
    "print(10+2) #add\n",
    "print(10/3) #division\n",
    "print(10//3) # floor division\n",
    "print(10//3.0)\n",
    "print(10%3) #returns the remainder\n",
    "print(2**5) # power\n",
    "print(pow(2,5)) # 2 power 5"
   ]
  },
  {
   "cell_type": "code",
   "execution_count": 5,
   "id": "a7004f23",
   "metadata": {},
   "outputs": [
    {
     "name": "stdout",
     "output_type": "stream",
     "text": [
      "2\n"
     ]
    }
   ],
   "source": [
    "#type conversion\n",
    "print(int(10/3))"
   ]
  },
  {
   "cell_type": "code",
   "execution_count": 10,
   "id": "746295de",
   "metadata": {},
   "outputs": [
    {
     "data": {
      "text/plain": [
       "4"
      ]
     },
     "execution_count": 10,
     "metadata": {},
     "output_type": "execute_result"
    }
   ],
   "source": [
    "#for ceiling value\n",
    "import math\n",
    "math.ceil(10/3)"
   ]
  },
  {
   "cell_type": "code",
   "execution_count": 16,
   "id": "5a44be21",
   "metadata": {},
   "outputs": [
    {
     "data": {
      "text/plain": [
       "False"
      ]
     },
     "execution_count": 16,
     "metadata": {},
     "output_type": "execute_result"
    }
   ],
   "source": [
    "#Comparison oprator always returns a value in the form of True/False(boolean)\n",
    "\n",
    "\"\"\"\n",
    "only comparison b/w the following:\n",
    "integer vs integer\n",
    "integer vs float\n",
    "string vs string\n",
    "\n",
    "Comparison operators : <  >  >=  <=\n",
    "\"\"\"\n"
   ]
  },
  {
   "cell_type": "code",
   "execution_count": 17,
   "id": "8dbb831a",
   "metadata": {},
   "outputs": [
    {
     "name": "stdout",
     "output_type": "stream",
     "text": [
      "True\n"
     ]
    }
   ],
   "source": [
    "a=10\n",
    "b=20.2\n",
    "print(b>a)"
   ]
  },
  {
   "cell_type": "code",
   "execution_count": 27,
   "id": "f492cebd",
   "metadata": {},
   "outputs": [
    {
     "name": "stdout",
     "output_type": "stream",
     "text": [
      "True\n"
     ]
    }
   ],
   "source": [
    "a='varun'\n",
    "b='arora'\n",
    "#print(a>=b)\n",
    "#compares the ASCII values \n",
    "x='a'\n",
    "y=97\n",
    "print(ord(x)==y)\n",
    "\n",
    "#print(ord('a'))  ord function gives the ascii value\n"
   ]
  },
  {
   "cell_type": "code",
   "execution_count": 31,
   "id": "7129e44b",
   "metadata": {},
   "outputs": [
    {
     "data": {
      "text/plain": [
       "'A'"
      ]
     },
     "execution_count": 31,
     "metadata": {},
     "output_type": "execute_result"
    }
   ],
   "source": [
    "#chr() gives the character from the ASCII value\n",
    "chr(65)\n",
    "#ord('c')"
   ]
  },
  {
   "cell_type": "code",
   "execution_count": null,
   "id": "e7db622c",
   "metadata": {},
   "outputs": [],
   "source": [
    "# Logical Operators: AND , OR, NOT"
   ]
  },
  {
   "cell_type": "code",
   "execution_count": 32,
   "id": "9747f620",
   "metadata": {},
   "outputs": [
    {
     "name": "stdout",
     "output_type": "stream",
     "text": [
      "True\n"
     ]
    }
   ],
   "source": [
    "print(True==1)"
   ]
  },
  {
   "cell_type": "code",
   "execution_count": 38,
   "id": "96245233",
   "metadata": {},
   "outputs": [
    {
     "data": {
      "text/plain": [
       "False"
      ]
     },
     "execution_count": 38,
     "metadata": {},
     "output_type": "execute_result"
    }
   ],
   "source": [
    "# bool('')\n",
    "# bool(0.0)\n",
    "# bool(0)\n",
    "#bool(0+0j)"
   ]
  }
 ],
 "metadata": {
  "kernelspec": {
   "display_name": "Python 3",
   "language": "python",
   "name": "python3"
  },
  "language_info": {
   "codemirror_mode": {
    "name": "ipython",
    "version": 3
   },
   "file_extension": ".py",
   "mimetype": "text/x-python",
   "name": "python",
   "nbconvert_exporter": "python",
   "pygments_lexer": "ipython3",
   "version": "3.8.8"
  }
 },
 "nbformat": 4,
 "nbformat_minor": 5
}
