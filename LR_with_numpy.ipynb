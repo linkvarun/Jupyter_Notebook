{
  "nbformat": 4,
  "nbformat_minor": 0,
  "metadata": {
    "colab": {
      "provenance": [],
      "include_colab_link": true
    },
    "kernelspec": {
      "name": "python3",
      "display_name": "Python 3"
    }
  },
  "cells": [
    {
      "cell_type": "markdown",
      "metadata": {
        "id": "view-in-github",
        "colab_type": "text"
      },
      "source": [
        "<a href=\"https://colab.research.google.com/github/linkvarun/Jupyter_Notebook/blob/master/LR_with_numpy.ipynb\" target=\"_parent\"><img src=\"https://colab.research.google.com/assets/colab-badge.svg\" alt=\"Open In Colab\"/></a>"
      ]
    },
    {
      "cell_type": "code",
      "metadata": {
        "id": "BDalWkpdFB1-"
      },
      "source": [
        "import numpy as np\n",
        "import matplotlib.pyplot as plt"
      ],
      "execution_count": null,
      "outputs": []
    },
    {
      "cell_type": "code",
      "metadata": {
        "id": "8JLiICJmFLE0",
        "colab": {
          "base_uri": "https://localhost:8080/"
        },
        "outputId": "8b762816-8271-4951-86ef-f48e1f23aa90"
      },
      "source": [
        "np.random.seed(5)\n",
        "data_x = np.linspace(-10.0, 10.0, 100)[:, np.newaxis]\n",
        "data_y = np.sin(data_x) + 0.1 * np.power(data_x, 2) + 0.5 * np.random.randn(100, 1)\n",
        "# data_y = 40*data_x + 20* np.random.randn(100, 1)  # creating your data\n",
        "data_x /= np.max(data_x) #scaling\n",
        "data_x"
      ],
      "execution_count": null,
      "outputs": [
        {
          "output_type": "execute_result",
          "data": {
            "text/plain": [
              "array([[-1.        ],\n",
              "       [-0.97979798],\n",
              "       [-0.95959596],\n",
              "       [-0.93939394],\n",
              "       [-0.91919192],\n",
              "       [-0.8989899 ],\n",
              "       [-0.87878788],\n",
              "       [-0.85858586],\n",
              "       [-0.83838384],\n",
              "       [-0.81818182],\n",
              "       [-0.7979798 ],\n",
              "       [-0.77777778],\n",
              "       [-0.75757576],\n",
              "       [-0.73737374],\n",
              "       [-0.71717172],\n",
              "       [-0.6969697 ],\n",
              "       [-0.67676768],\n",
              "       [-0.65656566],\n",
              "       [-0.63636364],\n",
              "       [-0.61616162],\n",
              "       [-0.5959596 ],\n",
              "       [-0.57575758],\n",
              "       [-0.55555556],\n",
              "       [-0.53535354],\n",
              "       [-0.51515152],\n",
              "       [-0.49494949],\n",
              "       [-0.47474747],\n",
              "       [-0.45454545],\n",
              "       [-0.43434343],\n",
              "       [-0.41414141],\n",
              "       [-0.39393939],\n",
              "       [-0.37373737],\n",
              "       [-0.35353535],\n",
              "       [-0.33333333],\n",
              "       [-0.31313131],\n",
              "       [-0.29292929],\n",
              "       [-0.27272727],\n",
              "       [-0.25252525],\n",
              "       [-0.23232323],\n",
              "       [-0.21212121],\n",
              "       [-0.19191919],\n",
              "       [-0.17171717],\n",
              "       [-0.15151515],\n",
              "       [-0.13131313],\n",
              "       [-0.11111111],\n",
              "       [-0.09090909],\n",
              "       [-0.07070707],\n",
              "       [-0.05050505],\n",
              "       [-0.03030303],\n",
              "       [-0.01010101],\n",
              "       [ 0.01010101],\n",
              "       [ 0.03030303],\n",
              "       [ 0.05050505],\n",
              "       [ 0.07070707],\n",
              "       [ 0.09090909],\n",
              "       [ 0.11111111],\n",
              "       [ 0.13131313],\n",
              "       [ 0.15151515],\n",
              "       [ 0.17171717],\n",
              "       [ 0.19191919],\n",
              "       [ 0.21212121],\n",
              "       [ 0.23232323],\n",
              "       [ 0.25252525],\n",
              "       [ 0.27272727],\n",
              "       [ 0.29292929],\n",
              "       [ 0.31313131],\n",
              "       [ 0.33333333],\n",
              "       [ 0.35353535],\n",
              "       [ 0.37373737],\n",
              "       [ 0.39393939],\n",
              "       [ 0.41414141],\n",
              "       [ 0.43434343],\n",
              "       [ 0.45454545],\n",
              "       [ 0.47474747],\n",
              "       [ 0.49494949],\n",
              "       [ 0.51515152],\n",
              "       [ 0.53535354],\n",
              "       [ 0.55555556],\n",
              "       [ 0.57575758],\n",
              "       [ 0.5959596 ],\n",
              "       [ 0.61616162],\n",
              "       [ 0.63636364],\n",
              "       [ 0.65656566],\n",
              "       [ 0.67676768],\n",
              "       [ 0.6969697 ],\n",
              "       [ 0.71717172],\n",
              "       [ 0.73737374],\n",
              "       [ 0.75757576],\n",
              "       [ 0.77777778],\n",
              "       [ 0.7979798 ],\n",
              "       [ 0.81818182],\n",
              "       [ 0.83838384],\n",
              "       [ 0.85858586],\n",
              "       [ 0.87878788],\n",
              "       [ 0.8989899 ],\n",
              "       [ 0.91919192],\n",
              "       [ 0.93939394],\n",
              "       [ 0.95959596],\n",
              "       [ 0.97979798],\n",
              "       [ 1.        ]])"
            ]
          },
          "metadata": {},
          "execution_count": 16
        }
      ]
    },
    {
      "cell_type": "code",
      "metadata": {
        "colab": {
          "base_uri": "https://localhost:8080/"
        },
        "id": "1pCA3mzvJiRY",
        "outputId": "1e34681e-a1da-4405-a2dc-eaebb6841501"
      },
      "source": [
        "from scipy import stats\n",
        "a = np.array([0,1,2,3,4,5,6, 23, 19, 11])\n",
        "b = np.array([0, 1, 4, 9, 16, 25, 36, 144, 225, 196])\n",
        "stats.pearsonr(a,b)"
      ],
      "execution_count": null,
      "outputs": [
        {
          "output_type": "execute_result",
          "data": {
            "text/plain": [
              "PearsonRResult(statistic=0.8615898239550396, pvalue=0.0013540376408062698)"
            ]
          },
          "metadata": {},
          "execution_count": 17
        }
      ]
    },
    {
      "cell_type": "code",
      "source": [
        "a = np.array([0,1,2,7,8])\n",
        "b = np.array([11, 19, 23, 31, 39])\n",
        "stats.pearsonr(a,b)"
      ],
      "metadata": {
        "colab": {
          "base_uri": "https://localhost:8080/"
        },
        "id": "DhYMsGBqQ0L_",
        "outputId": "5f1e5277-3beb-4093-8170-b80135d7a716"
      },
      "execution_count": null,
      "outputs": [
        {
          "output_type": "execute_result",
          "data": {
            "text/plain": [
              "PearsonRResult(statistic=0.9590573057149805, pvalue=0.009883555244098244)"
            ]
          },
          "metadata": {},
          "execution_count": 18
        }
      ]
    },
    {
      "cell_type": "code",
      "source": [
        "stats.pearsonr(data_x.reshape(100,),data_y.reshape(100,))"
      ],
      "metadata": {
        "colab": {
          "base_uri": "https://localhost:8080/"
        },
        "id": "35MR4WtaDZnN",
        "outputId": "7de415ab-2e5a-47ae-dc18-77bbabc1b178"
      },
      "execution_count": null,
      "outputs": [
        {
          "output_type": "execute_result",
          "data": {
            "text/plain": [
              "PearsonRResult(statistic=0.040603274375516946, pvalue=0.6883513744353572)"
            ]
          },
          "metadata": {},
          "execution_count": 19
        }
      ]
    },
    {
      "cell_type": "code",
      "metadata": {
        "id": "4TdaAALnFUOe",
        "colab": {
          "base_uri": "https://localhost:8080/"
        },
        "outputId": "7b0133c5-cbd0-451a-ff2e-a9df16306651"
      },
      "source": [
        "data_x = np.hstack((np.ones_like(data_x), data_x))\n",
        "data_x"
      ],
      "execution_count": null,
      "outputs": [
        {
          "output_type": "execute_result",
          "data": {
            "text/plain": [
              "array([[ 1.        , -1.        ],\n",
              "       [ 1.        , -0.97979798],\n",
              "       [ 1.        , -0.95959596],\n",
              "       [ 1.        , -0.93939394],\n",
              "       [ 1.        , -0.91919192],\n",
              "       [ 1.        , -0.8989899 ],\n",
              "       [ 1.        , -0.87878788],\n",
              "       [ 1.        , -0.85858586],\n",
              "       [ 1.        , -0.83838384],\n",
              "       [ 1.        , -0.81818182],\n",
              "       [ 1.        , -0.7979798 ],\n",
              "       [ 1.        , -0.77777778],\n",
              "       [ 1.        , -0.75757576],\n",
              "       [ 1.        , -0.73737374],\n",
              "       [ 1.        , -0.71717172],\n",
              "       [ 1.        , -0.6969697 ],\n",
              "       [ 1.        , -0.67676768],\n",
              "       [ 1.        , -0.65656566],\n",
              "       [ 1.        , -0.63636364],\n",
              "       [ 1.        , -0.61616162],\n",
              "       [ 1.        , -0.5959596 ],\n",
              "       [ 1.        , -0.57575758],\n",
              "       [ 1.        , -0.55555556],\n",
              "       [ 1.        , -0.53535354],\n",
              "       [ 1.        , -0.51515152],\n",
              "       [ 1.        , -0.49494949],\n",
              "       [ 1.        , -0.47474747],\n",
              "       [ 1.        , -0.45454545],\n",
              "       [ 1.        , -0.43434343],\n",
              "       [ 1.        , -0.41414141],\n",
              "       [ 1.        , -0.39393939],\n",
              "       [ 1.        , -0.37373737],\n",
              "       [ 1.        , -0.35353535],\n",
              "       [ 1.        , -0.33333333],\n",
              "       [ 1.        , -0.31313131],\n",
              "       [ 1.        , -0.29292929],\n",
              "       [ 1.        , -0.27272727],\n",
              "       [ 1.        , -0.25252525],\n",
              "       [ 1.        , -0.23232323],\n",
              "       [ 1.        , -0.21212121],\n",
              "       [ 1.        , -0.19191919],\n",
              "       [ 1.        , -0.17171717],\n",
              "       [ 1.        , -0.15151515],\n",
              "       [ 1.        , -0.13131313],\n",
              "       [ 1.        , -0.11111111],\n",
              "       [ 1.        , -0.09090909],\n",
              "       [ 1.        , -0.07070707],\n",
              "       [ 1.        , -0.05050505],\n",
              "       [ 1.        , -0.03030303],\n",
              "       [ 1.        , -0.01010101],\n",
              "       [ 1.        ,  0.01010101],\n",
              "       [ 1.        ,  0.03030303],\n",
              "       [ 1.        ,  0.05050505],\n",
              "       [ 1.        ,  0.07070707],\n",
              "       [ 1.        ,  0.09090909],\n",
              "       [ 1.        ,  0.11111111],\n",
              "       [ 1.        ,  0.13131313],\n",
              "       [ 1.        ,  0.15151515],\n",
              "       [ 1.        ,  0.17171717],\n",
              "       [ 1.        ,  0.19191919],\n",
              "       [ 1.        ,  0.21212121],\n",
              "       [ 1.        ,  0.23232323],\n",
              "       [ 1.        ,  0.25252525],\n",
              "       [ 1.        ,  0.27272727],\n",
              "       [ 1.        ,  0.29292929],\n",
              "       [ 1.        ,  0.31313131],\n",
              "       [ 1.        ,  0.33333333],\n",
              "       [ 1.        ,  0.35353535],\n",
              "       [ 1.        ,  0.37373737],\n",
              "       [ 1.        ,  0.39393939],\n",
              "       [ 1.        ,  0.41414141],\n",
              "       [ 1.        ,  0.43434343],\n",
              "       [ 1.        ,  0.45454545],\n",
              "       [ 1.        ,  0.47474747],\n",
              "       [ 1.        ,  0.49494949],\n",
              "       [ 1.        ,  0.51515152],\n",
              "       [ 1.        ,  0.53535354],\n",
              "       [ 1.        ,  0.55555556],\n",
              "       [ 1.        ,  0.57575758],\n",
              "       [ 1.        ,  0.5959596 ],\n",
              "       [ 1.        ,  0.61616162],\n",
              "       [ 1.        ,  0.63636364],\n",
              "       [ 1.        ,  0.65656566],\n",
              "       [ 1.        ,  0.67676768],\n",
              "       [ 1.        ,  0.6969697 ],\n",
              "       [ 1.        ,  0.71717172],\n",
              "       [ 1.        ,  0.73737374],\n",
              "       [ 1.        ,  0.75757576],\n",
              "       [ 1.        ,  0.77777778],\n",
              "       [ 1.        ,  0.7979798 ],\n",
              "       [ 1.        ,  0.81818182],\n",
              "       [ 1.        ,  0.83838384],\n",
              "       [ 1.        ,  0.85858586],\n",
              "       [ 1.        ,  0.87878788],\n",
              "       [ 1.        ,  0.8989899 ],\n",
              "       [ 1.        ,  0.91919192],\n",
              "       [ 1.        ,  0.93939394],\n",
              "       [ 1.        ,  0.95959596],\n",
              "       [ 1.        ,  0.97979798],\n",
              "       [ 1.        ,  1.        ]])"
            ]
          },
          "metadata": {},
          "execution_count": 20
        }
      ]
    },
    {
      "cell_type": "code",
      "metadata": {
        "id": "5o4IpF-zFWxc",
        "colab": {
          "base_uri": "https://localhost:8080/"
        },
        "outputId": "a7e5aecb-b6a6-4f5c-e26a-ba46c29c28df"
      },
      "source": [
        "order = np.random.permutation(len(data_x))\n",
        "portion = 20\n",
        "test_x = data_x[order[:portion]]\n",
        "test_y = data_y[order[:portion]]\n",
        "train_x = data_x[order[portion:]]\n",
        "train_y = data_y[order[portion:]]\n",
        "print(order)\n",
        "print (test_x.shape, train_x.size, test_y.size, train_y.size)\n",
        "print (test_x)"
      ],
      "execution_count": null,
      "outputs": [
        {
          "output_type": "stream",
          "name": "stdout",
          "text": [
            "[56 34 87 24 27 92 67 43 65 69 12 59 47 62 72 40 44 80 46 29 77  0 52 84\n",
            " 58 93 88 33 19 61 90 51 49 13 39 36 50 16 22 63 66 25 57 20 97 91 76 11\n",
            " 82 53 15 81 73 17 48 32 60 10 21 42  4 96 78 70 79 68  9 74  7  6 94 30\n",
            "  1 37 86 95 71 18 38 54  2 85 23  3 55 89 35 75 98 83 41 26  5 45 31 99\n",
            " 14  8 28 64]\n",
            "(20, 2) 160 20 80\n",
            "[[ 1.          0.13131313]\n",
            " [ 1.         -0.31313131]\n",
            " [ 1.          0.75757576]\n",
            " [ 1.         -0.51515152]\n",
            " [ 1.         -0.45454545]\n",
            " [ 1.          0.85858586]\n",
            " [ 1.          0.35353535]\n",
            " [ 1.         -0.13131313]\n",
            " [ 1.          0.31313131]\n",
            " [ 1.          0.39393939]\n",
            " [ 1.         -0.75757576]\n",
            " [ 1.          0.19191919]\n",
            " [ 1.         -0.05050505]\n",
            " [ 1.          0.25252525]\n",
            " [ 1.          0.45454545]\n",
            " [ 1.         -0.19191919]\n",
            " [ 1.         -0.11111111]\n",
            " [ 1.          0.61616162]\n",
            " [ 1.         -0.07070707]\n",
            " [ 1.         -0.41414141]]\n"
          ]
        }
      ]
    },
    {
      "cell_type": "code",
      "metadata": {
        "id": "KJU06clcU5iw",
        "colab": {
          "base_uri": "https://localhost:8080/",
          "height": 430
        },
        "outputId": "158d7052-2648-437a-c826-2aba5552a484"
      },
      "source": [
        "plt.scatter(train_x[:,1], train_y, c='b', label='Data')\n",
        "plt.show()"
      ],
      "execution_count": null,
      "outputs": [
        {
          "output_type": "display_data",
          "data": {
            "text/plain": [
              "<Figure size 640x480 with 1 Axes>"
            ],
            "image/png": "[encoded data removed]"
          },
          "metadata": {}
        }
      ]
    },
    {
      "cell_type": "code",
      "metadata": {
        "id": "2_qABGqzFZOm"
      },
      "source": [
        "def get_gradient(w, x, y):\n",
        "    y_estimate = (np.power(x,2).dot(w)).flatten() #hypothesis\n",
        "    error = (y.flatten() - y_estimate)\n",
        "    mse = (1.0/len(x))*np.sum(np.power(error,2)) # mse\n",
        "    gradient = -(1.0/len(x)) * error.dot(np.power(x,2))         # gradient\n",
        "    return gradient, mse"
      ],
      "execution_count": null,
      "outputs": []
    },
    {
      "cell_type": "code",
      "metadata": {
        "id": "XuzNhrcTFcm6",
        "colab": {
          "base_uri": "https://localhost:8080/"
        },
        "outputId": "bebf65bd-c957-4a4e-cd58-9c7d1b182b67"
      },
      "source": [
        "w = np.random.randn(2) # Random Intialization\n",
        "alpha = 0.4 # learning rate\n",
        "tolerance = 1e-3 # param for stopping the loop\n",
        "print(\"Intial values of Weights:\")\n",
        "print(w[1], w[0])\n",
        "# Perform Gradient Descent\n",
        "iterations = 1\n",
        "while True:\n",
        "    gradient, error = get_gradient(w, train_x, train_y)\n",
        "    new_w = w - alpha * gradient\n",
        "#     print(gradient)\n",
        "\n",
        "    # Stopping Condition\n",
        "    if np.sum(abs(new_w - w)) < tolerance:\n",
        "        print (\"Converged\")\n",
        "        break\n",
        "\n",
        "    # Print error every 10 iterations\n",
        "    if iterations % 10 == 0:\n",
        "        print (\"Iteration: %d - Error: %.4f\" %(iterations, error))\n",
        "        print (\"Updated Weights : {:f} , {:f}\".format(w[1], w[0]))\n",
        "    iterations += 1\n",
        "    w = new_w\n",
        "\n",
        "print (\"Final Weights : {:f} , {:f}\".format(w[1], w[0]))\n",
        "print (\"Test Cost =\", get_gradient(w, test_x, test_y)[1])"
      ],
      "execution_count": null,
      "outputs": [
        {
          "output_type": "stream",
          "name": "stdout",
          "text": [
            "Intial values of Weights:\n",
            "-0.034702101230658505 2.2332708137448996\n",
            "Iteration: 10 - Error: 5.2743\n",
            "Updated Weights : 3.089208 , 2.860015\n",
            "Iteration: 20 - Error: 3.0300\n",
            "Updated Weights : 5.057423 , 2.055159\n",
            "Iteration: 30 - Error: 1.9000\n",
            "Updated Weights : 6.452219 , 1.479700\n",
            "Iteration: 40 - Error: 1.3311\n",
            "Updated Weights : 7.441924 , 1.071360\n",
            "Iteration: 50 - Error: 1.0447\n",
            "Updated Weights : 8.144192 , 0.781614\n",
            "Iteration: 60 - Error: 0.9004\n",
            "Updated Weights : 8.642502 , 0.576017\n",
            "Iteration: 70 - Error: 0.8278\n",
            "Updated Weights : 8.996090 , 0.430132\n",
            "Iteration: 80 - Error: 0.7913\n",
            "Updated Weights : 9.246986 , 0.326616\n",
            "Iteration: 90 - Error: 0.7729\n",
            "Updated Weights : 9.425015 , 0.253163\n",
            "Iteration: 100 - Error: 0.7636\n",
            "Updated Weights : 9.551340 , 0.201043\n",
            "Iteration: 110 - Error: 0.7589\n",
            "Updated Weights : 9.640976 , 0.164060\n",
            "Iteration: 120 - Error: 0.7566\n",
            "Updated Weights : 9.704580 , 0.137818\n",
            "Iteration: 130 - Error: 0.7554\n",
            "Updated Weights : 9.749711 , 0.119198\n",
            "Iteration: 140 - Error: 0.7548\n",
            "Updated Weights : 9.781735 , 0.105985\n",
            "Iteration: 150 - Error: 0.7545\n",
            "Updated Weights : 9.804459 , 0.096610\n",
            "Iteration: 160 - Error: 0.7543\n",
            "Updated Weights : 9.820583 , 0.089957\n",
            "Iteration: 170 - Error: 0.7543\n",
            "Updated Weights : 9.832024 , 0.085237\n",
            "Converged\n",
            "Final Weights : 9.839450 , 0.082173\n",
            "Test Cost = 0.5709838967047931\n"
          ]
        }
      ]
    },
    {
      "cell_type": "code",
      "metadata": {
        "id": "r1UZuG1AHrVa",
        "colab": {
          "base_uri": "https://localhost:8080/"
        },
        "outputId": "8d2b263e-e607-4402-da97-48b3ab9b95fe"
      },
      "source": [
        "print(\"Final eqn / hypothesis looks like:\")\n",
        "print('y = {:f}.x^2 + {:f}'.format(w[1], w[0]))"
      ],
      "execution_count": null,
      "outputs": [
        {
          "output_type": "stream",
          "name": "stdout",
          "text": [
            "Final eqn / hypothesis looks like:\n",
            "y = 9.839450.x^2 + 0.082173\n"
          ]
        }
      ]
    },
    {
      "cell_type": "code",
      "metadata": {
        "id": "qkh4rdrEFkdf",
        "colab": {
          "base_uri": "https://localhost:8080/",
          "height": 449
        },
        "outputId": "b4fd4125-91a1-4d95-f697-ba7f43fe9d3c"
      },
      "source": [
        "plt.plot(data_x[:,1], (data_x**2).dot(w), c='g', label='Model')\n",
        "plt.scatter(train_x[:,1], train_y, c='b', label='Train Set')\n",
        "plt.scatter(test_x[:,1], test_y, c='r', label='Test Set')\n",
        "plt.grid()\n",
        "plt.legend(loc='best')\n",
        "plt.xlabel('X')\n",
        "plt.ylabel('Y')\n",
        "plt.show()"
      ],
      "execution_count": null,
      "outputs": [
        {
          "output_type": "display_data",
          "data": {
            "text/plain": [
              "<Figure size 640x480 with 1 Axes>"
            ],
            "image/png": "[encoded data removed]"
          },
          "metadata": {}
        }
      ]
    },
    {
      "cell_type": "code",
      "metadata": {
        "id": "T8k2vm1FOzg9",
        "colab": {
          "base_uri": "https://localhost:8080/"
        },
        "outputId": "bfcffc2c-d142-40fb-eb51-79c55104e440"
      },
      "source": [
        "w # trained model contains values of weights/parameters"
      ],
      "execution_count": null,
      "outputs": [
        {
          "output_type": "execute_result",
          "data": {
            "text/plain": [
              "array([0.08217285, 9.83944957])"
            ]
          },
          "metadata": {},
          "execution_count": 31
        }
      ]
    },
    {
      "cell_type": "code",
      "source": [
        "x_val = 15.4\n",
        "\n",
        "x_val = x_val/10\n",
        "\n",
        "w[1] * x_val**2 + w[0] # prediction. No change is caused to parameters here"
      ],
      "metadata": {
        "colab": {
          "base_uri": "https://localhost:8080/"
        },
        "id": "qovukr2BfKd9",
        "outputId": "a41b419d-b46e-44bd-a1a1-d1a8125f2d29"
      },
      "execution_count": null,
      "outputs": [
        {
          "output_type": "execute_result",
          "data": {
            "text/plain": [
              "23.417411459622198"
            ]
          },
          "metadata": {},
          "execution_count": 32
        }
      ]
    }
  ]
}