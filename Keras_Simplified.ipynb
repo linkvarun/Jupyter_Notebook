{
  "nbformat": 4,
  "nbformat_minor": 0,
  "metadata": {
    "colab": {
      "provenance": [],
      "include_colab_link": true
    },
    "kernelspec": {
      "name": "python3",
      "display_name": "Python 3"
    },
    "accelerator": "GPU"
  },
  "cells": [
    {
      "cell_type": "markdown",
      "metadata": {
        "id": "view-in-github",
        "colab_type": "text"
      },
      "source": [
        "<a href=\"https://colab.research.google.com/github/linkvarun/Jupyter_Notebook/blob/master/Keras_Simplified.ipynb\" target=\"_parent\"><img src=\"https://colab.research.google.com/assets/colab-badge.svg\" alt=\"Open In Colab\"/></a>"
      ]
    },
    {
      "cell_type": "markdown",
      "metadata": {
        "id": "83GhqtvLNFQO"
      },
      "source": [
        "# tf.Keras\n",
        "\n",
        "Keras is a high-level neural networks API, written in Python and capable of running on top of TensorFlow, CNTK, or Theano. It was developed with a focus on enabling fast experimentation. Being able to go from idea to result with the least possible delay is key to doing good research.\n",
        "\n",
        "Use Keras if you need a deep learning library that:\n",
        "\n",
        "\n",
        "\n",
        "*   Allows for easy and fast prototyping (through user friendliness, modularity, and extensibility).\n",
        "*   Supports both convolutional networks and recurrent networks, as well as combinations of the two.\n",
        "*   Runs seamlessly on CPU and GPU.\n",
        "\n",
        "\n"
      ]
    },
    {
      "cell_type": "markdown",
      "metadata": {
        "id": "qWhh_ehpluZM"
      },
      "source": [
        "## Keras backends\n",
        "\n",
        "What is a \"backend\"?\n",
        "\n",
        "Keras is a model-level library, providing high-level building blocks for developing deep learning models. It does not handle itself low-level operations such as tensor products, convolutions and so on. Instead, it relies on a specialized, well-optimized tensor manipulation library to do so, serving as the \"backend engine\" of Keras. Rather than picking one single tensor library and making the implementation of Keras tied to that library, Keras handles the problem in a modular way, and several different backend engines can be plugged seamlessly into Keras.\n",
        "\n",
        "At this time, Keras has three backend implementations available: **the TensorFlow backend, the Theano backend, and the CNTK backend**.\n",
        "\n",
        "TensorFlow is an open-source symbolic tensor manipulation framework developed by Google.\n",
        "\n",
        "Theano is an open-source symbolic tensor manipulation framework developed by LISA Lab at Université de Montréal. ( No further development on this framework)\n",
        "\n",
        "CNTK is an open-source toolkit for deep learning developed by Microsoft."
      ]
    },
    {
      "cell_type": "code",
      "metadata": {
        "id": "clYg3xvabncf"
      },
      "source": [
        "import tensorflow as tf"
      ],
      "execution_count": null,
      "outputs": []
    },
    {
      "cell_type": "code",
      "metadata": {
        "colab": {
          "base_uri": "https://localhost:8080/"
        },
        "id": "m9ozrUMY4yOW",
        "outputId": "3267275f-4833-4536-b519-b8279cdc63ab"
      },
      "source": [
        "foo = [-10, -5, 0.0, 5, 10]\n",
        "tf.keras.activations.relu(foo).numpy()"
      ],
      "execution_count": null,
      "outputs": [
        {
          "output_type": "execute_result",
          "data": {
            "text/plain": [
              "array([ 0.,  0.,  0.,  5., 10.], dtype=float32)"
            ]
          },
          "metadata": {},
          "execution_count": 2
        }
      ]
    },
    {
      "cell_type": "code",
      "source": [
        "tf.keras.activations.swish(foo)"
      ],
      "metadata": {
        "colab": {
          "base_uri": "https://localhost:8080/"
        },
        "id": "Omsrp0A2JIpH",
        "outputId": "735d0a5e-4dd2-43d4-c56d-6bef11f2a9b2"
      },
      "execution_count": null,
      "outputs": [
        {
          "output_type": "execute_result",
          "data": {
            "text/plain": [
              "<tf.Tensor: shape=(5,), dtype=float32, numpy=\n",
              "array([-4.5397869e-04, -3.3464253e-02,  0.0000000e+00,  4.9665360e+00,\n",
              "        9.9995461e+00], dtype=float32)>"
            ]
          },
          "metadata": {},
          "execution_count": 3
        }
      ]
    },
    {
      "cell_type": "markdown",
      "metadata": {
        "id": "6a4UfNBWay_U"
      },
      "source": [
        "## Layers\n",
        "The first class you need to know is Layer. Pretty much everything in Keras derives from it.\n",
        "\n",
        "A Layer encapsulates a state (weights) and some computation (defined in the call method)."
      ]
    },
    {
      "cell_type": "code",
      "metadata": {
        "id": "XFHbwHk6a42U",
        "colab": {
          "base_uri": "https://localhost:8080/"
        },
        "outputId": "7009b595-2fc1-4118-8668-7a6cf599d8e7"
      },
      "source": [
        "tf.keras.layers.Layer(\n",
        "    trainable=True, name=None, dtype=None, dynamic=False)"
      ],
      "execution_count": null,
      "outputs": [
        {
          "output_type": "execute_result",
          "data": {
            "text/plain": [
              "<keras.engine.base_layer.Layer at 0x7f742abdabf0>"
            ]
          },
          "metadata": {},
          "execution_count": 4
        }
      ]
    },
    {
      "cell_type": "markdown",
      "metadata": {
        "id": "6JhqZlBobN3n"
      },
      "source": [
        "A layer is a class implementing common neural networks operations, such as convolution, batch norm, etc. These operations require managing weights, losses, updates, and inter-layer connectivity.\n",
        "\n",
        "Users will just instantiate a layer and then treat it as a callable.\n",
        "\n",
        "We recommend that descendants of Layer implement the following methods:\n",
        "\n",
        "**__init__()**: Save configuration in member variables\n",
        "\n",
        "**build()**: Called once from __call__, when we know the shapes of inputs and dtype. Should have the calls to add_weight(), and then call the super's build() (which sets self.built = True, which is nice in case the user wants to call build() manually before the first __call__).\n",
        "\n",
        "**call()**: Called in __call__ after making sure build() has been called once. Should actually perform the logic of applying the layer to the input tensors (which should be passed in as the first argument)."
      ]
    },
    {
      "cell_type": "code",
      "metadata": {
        "id": "CoFeHTTVbe3o"
      },
      "source": [
        "from tensorflow.keras.layers import Layer\n",
        "\n",
        "class Linear(Layer):\n",
        "  \"\"\"y = w.x + b\"\"\"\n",
        "\n",
        "  def __init__(self, units=32, input_dim=32): # constructor\n",
        "      super(Linear, self).__init__()\n",
        "      w_init = tf.random_normal_initializer() # weight's random normal intialization\n",
        "      self.w = tf.Variable(\n",
        "          initial_value=w_init(shape=(input_dim, units), dtype='float32'),\n",
        "          trainable=True)\n",
        "      b_init = tf.zeros_initializer() # bias intialized with Zero\n",
        "      self.b = tf.Variable(\n",
        "          initial_value=b_init(shape=(units,), dtype='float32'),\n",
        "          trainable=True)\n",
        "\n",
        "  def call(self, inputs):\n",
        "      return tf.matmul(inputs, self.w) + self.b"
      ],
      "execution_count": null,
      "outputs": []
    },
    {
      "cell_type": "markdown",
      "metadata": {
        "id": "Bn47JPUmOplq"
      },
      "source": [
        "### Model\n",
        "The core data structure of Keras is a model, a way to organize layers. The simplest type of model is the **Sequential model**, a linear stack of layers. For more complex architectures, you should use the Keras functional API, which allows to build arbitrary graphs of layers."
      ]
    },
    {
      "cell_type": "markdown",
      "metadata": {
        "id": "-q2biiyERX0K"
      },
      "source": [
        "Here's an example of a sequential model"
      ]
    },
    {
      "cell_type": "code",
      "metadata": {
        "id": "XKRz5ktMRSyC"
      },
      "source": [
        "from tensorflow.keras import Sequential\n",
        "\n",
        "model = Sequential()"
      ],
      "execution_count": null,
      "outputs": []
    },
    {
      "cell_type": "markdown",
      "metadata": {
        "id": "ho8OlNTTcxJ0"
      },
      "source": [
        "## Built-in layers\n",
        "\n",
        "Keras provides you with a [wide range of built-in layers](https://www.tensorflow.org/api_docs/python/tf/keras/layers/), so that you don't have to implement your own layers all the time.\n",
        "- Dense layers\n",
        "- Convolution layers\n",
        "- Transposed convolutions\n",
        "- Separateable convolutions\n",
        "- Average and max pooling\n",
        "- Global average and max pooling\n",
        "- LSTM, GRU (with built-in cuDNN acceleration)\n",
        "- BatchNormalization\n",
        "- Dropout\n",
        "- Attention\n",
        "- ConvLSTM2D"
      ]
    },
    {
      "cell_type": "markdown",
      "metadata": {
        "id": "5Q59yJ9mRoY8"
      },
      "source": [
        "Stacking is done through add()"
      ]
    },
    {
      "cell_type": "code",
      "metadata": {
        "id": "tF9hkE8kcjGS",
        "colab": {
          "base_uri": "https://localhost:8080/",
          "height": 235
        },
        "outputId": "62d9905a-216d-4b55-e44c-66af0e580101"
      },
      "source": [
        "from tensorflow.keras.layers import Dense\n",
        "# Optionally, the first layer can receive an `input_shape` argument:\n",
        "model = Sequential()\n",
        "model.add(Dense(32, input_shape=(500,))) # 1st Hidden Layer\n",
        "# Afterwards, we do automatic shape inference:\n",
        "model.add(Dense(32))\n",
        "\n",
        "# This is identical to the following:\n",
        "model = Sequential()\n",
        "model.add(Dense(32, input_dim=500))\n",
        "\n",
        "# And to the following:\n",
        "model = Sequential()\n",
        "model.add(Dense(32, batch_input_shape=(None, 500)))\n",
        "\n",
        "# Note that you can also omit the `input_shape` argument:\n",
        "# In that case the model gets built the first time you call `fit` (or other\n",
        "# training and evaluation methods).\n",
        "model = Sequential()\n",
        "model.add(Dense(32))  # layer 1\n",
        "model.add(Dense(32))  # layer 2\n",
        "model.compile(optimizer=optimizer, loss=loss)\n",
        "# This builds the model for the first time:\n",
        "model.fit(x, y, batch_size=32, epochs=10) #training\n",
        "\n",
        "# Note that when using this delayed-build pattern (no input shape specified),\n",
        "# the model doesn't have any weights until the first call\n",
        "# to a training/evaluation method (since it isn't yet built):\n",
        "model = Sequential()\n",
        "model.add(Dense(32))\n",
        "model.add(Dense(32))\n",
        "model.weights  # returns []\n",
        "\n",
        "# Whereas if you specify the input shape, the model gets built continuously\n",
        "# as you are adding layers:\n",
        "model = Sequential()\n",
        "model.add(Dense(32, input_shape=(500,)))\n",
        "model.add(Dense(32))\n",
        "model.weights  # returns list of length 4\n",
        "\n",
        "# When using the delayed-build pattern (no input shape specified), you can\n",
        "# choose to manually build your model by calling `build(batch_input_shape)`:\n",
        "model = Sequential()\n",
        "model.add(Dense(32))\n",
        "model.add(Dense(32))\n",
        "model.build((None, 500))\n",
        "model.weights  # returns list of length 4"
      ],
      "execution_count": null,
      "outputs": [
        {
          "output_type": "error",
          "ename": "NameError",
          "evalue": "ignored",
          "traceback": [
            "\u001b[0;31m---------------------------------------------------------------------------\u001b[0m",
            "\u001b[0;31mNameError\u001b[0m                                 Traceback (most recent call last)",
            "\u001b[0;32m<ipython-input-7-f8dabaae4ae1>\u001b[0m in \u001b[0;36m<cell line: 22>\u001b[0;34m()\u001b[0m\n\u001b[1;32m     20\u001b[0m \u001b[0mmodel\u001b[0m\u001b[0;34m.\u001b[0m\u001b[0madd\u001b[0m\u001b[0;34m(\u001b[0m\u001b[0mDense\u001b[0m\u001b[0;34m(\u001b[0m\u001b[0;36m32\u001b[0m\u001b[0;34m)\u001b[0m\u001b[0;34m)\u001b[0m  \u001b[0;31m# layer 1\u001b[0m\u001b[0;34m\u001b[0m\u001b[0;34m\u001b[0m\u001b[0m\n\u001b[1;32m     21\u001b[0m \u001b[0mmodel\u001b[0m\u001b[0;34m.\u001b[0m\u001b[0madd\u001b[0m\u001b[0;34m(\u001b[0m\u001b[0mDense\u001b[0m\u001b[0;34m(\u001b[0m\u001b[0;36m32\u001b[0m\u001b[0;34m)\u001b[0m\u001b[0;34m)\u001b[0m  \u001b[0;31m# layer 2\u001b[0m\u001b[0;34m\u001b[0m\u001b[0;34m\u001b[0m\u001b[0m\n\u001b[0;32m---> 22\u001b[0;31m \u001b[0mmodel\u001b[0m\u001b[0;34m.\u001b[0m\u001b[0mcompile\u001b[0m\u001b[0;34m(\u001b[0m\u001b[0moptimizer\u001b[0m\u001b[0;34m=\u001b[0m\u001b[0moptimizer\u001b[0m\u001b[0;34m,\u001b[0m \u001b[0mloss\u001b[0m\u001b[0;34m=\u001b[0m\u001b[0mloss\u001b[0m\u001b[0;34m)\u001b[0m\u001b[0;34m\u001b[0m\u001b[0;34m\u001b[0m\u001b[0m\n\u001b[0m\u001b[1;32m     23\u001b[0m \u001b[0;31m# This builds the model for the first time:\u001b[0m\u001b[0;34m\u001b[0m\u001b[0;34m\u001b[0m\u001b[0m\n\u001b[1;32m     24\u001b[0m \u001b[0mmodel\u001b[0m\u001b[0;34m.\u001b[0m\u001b[0mfit\u001b[0m\u001b[0;34m(\u001b[0m\u001b[0mx\u001b[0m\u001b[0;34m,\u001b[0m \u001b[0my\u001b[0m\u001b[0;34m,\u001b[0m \u001b[0mbatch_size\u001b[0m\u001b[0;34m=\u001b[0m\u001b[0;36m32\u001b[0m\u001b[0;34m,\u001b[0m \u001b[0mepochs\u001b[0m\u001b[0;34m=\u001b[0m\u001b[0;36m10\u001b[0m\u001b[0;34m)\u001b[0m \u001b[0;31m#training\u001b[0m\u001b[0;34m\u001b[0m\u001b[0;34m\u001b[0m\u001b[0m\n",
            "\u001b[0;31mNameError\u001b[0m: name 'optimizer' is not defined"
          ]
        }
      ]
    },
    {
      "cell_type": "markdown",
      "metadata": {
        "id": "z3Xgjg-QR3Nj"
      },
      "source": [
        "Once we build the model we configure the model's learning process with compile()"
      ]
    },
    {
      "cell_type": "code",
      "metadata": {
        "id": "JvhrZYaPSCxu"
      },
      "source": [
        "model.compile(optimizer=tf.keras.optimizers.Adam(learning_rate=1e-3),\n",
        "              loss=tf.keras.losses.BinaryCrossentropy(),\n",
        "              metrics=[tf.keras.metrics.BinaryAccuracy(),\n",
        "                       tf.keras.metrics.FalseNegatives()])"
      ],
      "execution_count": null,
      "outputs": []
    },
    {
      "cell_type": "code",
      "metadata": {
        "colab": {
          "base_uri": "https://localhost:8080/"
        },
        "id": "4HZJtXyD8ILg",
        "outputId": "c1eb7943-239b-4db4-8fed-61d828485291"
      },
      "source": [
        "from tensorflow.keras.losses import mean_squared_error\n",
        "y_pred = [12000, 14000, 20000]\n",
        "y_true = [12800, 14250, 21000]\n",
        "\n",
        "print(mean_squared_error(y_true, y_pred))"
      ],
      "execution_count": null,
      "outputs": [
        {
          "output_type": "stream",
          "name": "stdout",
          "text": [
            "tf.Tensor(567500, shape=(), dtype=int32)\n"
          ]
        }
      ]
    },
    {
      "cell_type": "markdown",
      "metadata": {
        "id": "Jbq3ioKYdYAV"
      },
      "source": [
        "**optimizer**: String (name of optimizer) or optimizer instance. See tf.keras.optimizers.\n",
        "\n",
        "**loss**: String (name of objective function), objective function or tf.keras.losses.Loss instance. See tf.keras.losses. An objective function is any callable with the signature scalar_loss = fn(y_true, y_pred). If the model has multiple outputs, you can use a different loss on each output by passing a dictionary or a list of losses. The loss value that will be minimized by the model will then be the sum of all individual losses.\n",
        "\n",
        "**metrics**: List of metrics to be evaluated by the model during training and testing. Typically you will use metrics=['accuracy']. To specify different metrics for different outputs of a multi-output model, you could also pass a dictionary, such as metrics={'output_a': 'accuracy', 'output_b': ['accuracy', 'mse']}. You can also pass a list (len = len(outputs)) of lists of metrics such as metrics=[['accuracy'], ['accuracy', 'mse']] or metrics=['accuracy', ['accuracy', 'mse']]."
      ]
    },
    {
      "cell_type": "markdown",
      "metadata": {
        "id": "znuTR-50d1lk"
      },
      "source": [
        "**evaluate()**\n",
        "\n",
        "Returns the loss value & metrics values for the model in test mode.\n",
        "\n",
        "Computation is done in batches."
      ]
    },
    {
      "cell_type": "code",
      "metadata": {
        "id": "DEBa6C7Gd8Oi",
        "colab": {
          "base_uri": "https://localhost:8080/",
          "height": 218
        },
        "outputId": "485be5c8-f3ac-4565-e22b-a01b7fe51e23"
      },
      "source": [
        "evaluate(\n",
        "    x=None, y=None, batch_size=None, verbose=1, sample_weight=None, steps=None,\n",
        "    callbacks=None, max_queue_size=10, workers=1, use_multiprocessing=False\n",
        ")"
      ],
      "execution_count": null,
      "outputs": [
        {
          "output_type": "error",
          "ename": "NameError",
          "evalue": "ignored",
          "traceback": [
            "\u001b[0;31m---------------------------------------------------------------------------\u001b[0m",
            "\u001b[0;31mNameError\u001b[0m                                 Traceback (most recent call last)",
            "\u001b[0;32m<ipython-input-10-873a5756cf7e>\u001b[0m in \u001b[0;36m<cell line: 1>\u001b[0;34m()\u001b[0m\n\u001b[0;32m----> 1\u001b[0;31m evaluate(\n\u001b[0m\u001b[1;32m      2\u001b[0m     \u001b[0mx\u001b[0m\u001b[0;34m=\u001b[0m\u001b[0;32mNone\u001b[0m\u001b[0;34m,\u001b[0m \u001b[0my\u001b[0m\u001b[0;34m=\u001b[0m\u001b[0;32mNone\u001b[0m\u001b[0;34m,\u001b[0m \u001b[0mbatch_size\u001b[0m\u001b[0;34m=\u001b[0m\u001b[0;32mNone\u001b[0m\u001b[0;34m,\u001b[0m \u001b[0mverbose\u001b[0m\u001b[0;34m=\u001b[0m\u001b[0;36m1\u001b[0m\u001b[0;34m,\u001b[0m \u001b[0msample_weight\u001b[0m\u001b[0;34m=\u001b[0m\u001b[0;32mNone\u001b[0m\u001b[0;34m,\u001b[0m \u001b[0msteps\u001b[0m\u001b[0;34m=\u001b[0m\u001b[0;32mNone\u001b[0m\u001b[0;34m,\u001b[0m\u001b[0;34m\u001b[0m\u001b[0;34m\u001b[0m\u001b[0m\n\u001b[1;32m      3\u001b[0m     \u001b[0mcallbacks\u001b[0m\u001b[0;34m=\u001b[0m\u001b[0;32mNone\u001b[0m\u001b[0;34m,\u001b[0m \u001b[0mmax_queue_size\u001b[0m\u001b[0;34m=\u001b[0m\u001b[0;36m10\u001b[0m\u001b[0;34m,\u001b[0m \u001b[0mworkers\u001b[0m\u001b[0;34m=\u001b[0m\u001b[0;36m1\u001b[0m\u001b[0;34m,\u001b[0m \u001b[0muse_multiprocessing\u001b[0m\u001b[0;34m=\u001b[0m\u001b[0;32mFalse\u001b[0m\u001b[0;34m\u001b[0m\u001b[0;34m\u001b[0m\u001b[0m\n\u001b[1;32m      4\u001b[0m )\n",
            "\u001b[0;31mNameError\u001b[0m: name 'evaluate' is not defined"
          ]
        }
      ]
    },
    {
      "cell_type": "markdown",
      "metadata": {
        "id": "fk6fd32PeSLK"
      },
      "source": [
        "**fit()**\n",
        "\n",
        "Trains the model for a fixed number of epochs (iterations on a dataset)."
      ]
    },
    {
      "cell_type": "code",
      "metadata": {
        "id": "AVpK4JODeUrq",
        "colab": {
          "base_uri": "https://localhost:8080/",
          "height": 235
        },
        "outputId": "4d2f2a65-010e-4bee-bb90-9fddb883b5be"
      },
      "source": [
        "fit(\n",
        "    x=None, y=None, batch_size=None, epochs=1, verbose=1, callbacks=None,\n",
        "    validation_split=0.0, validation_data=None, shuffle=True, class_weight=None,\n",
        "    sample_weight=None, initial_epoch=0, steps_per_epoch=None,\n",
        "    validation_steps=None, validation_freq=1, max_queue_size=10, workers=1,\n",
        "    use_multiprocessing=False, **kwargs\n",
        ")"
      ],
      "execution_count": null,
      "outputs": [
        {
          "output_type": "error",
          "ename": "NameError",
          "evalue": "ignored",
          "traceback": [
            "\u001b[0;31m---------------------------------------------------------------------------\u001b[0m",
            "\u001b[0;31mNameError\u001b[0m                                 Traceback (most recent call last)",
            "\u001b[0;32m<ipython-input-11-99e89dd4ce21>\u001b[0m in \u001b[0;36m<cell line: 1>\u001b[0;34m()\u001b[0m\n\u001b[0;32m----> 1\u001b[0;31m fit(\n\u001b[0m\u001b[1;32m      2\u001b[0m     \u001b[0mx\u001b[0m\u001b[0;34m=\u001b[0m\u001b[0;32mNone\u001b[0m\u001b[0;34m,\u001b[0m \u001b[0my\u001b[0m\u001b[0;34m=\u001b[0m\u001b[0;32mNone\u001b[0m\u001b[0;34m,\u001b[0m \u001b[0mbatch_size\u001b[0m\u001b[0;34m=\u001b[0m\u001b[0;32mNone\u001b[0m\u001b[0;34m,\u001b[0m \u001b[0mepochs\u001b[0m\u001b[0;34m=\u001b[0m\u001b[0;36m1\u001b[0m\u001b[0;34m,\u001b[0m \u001b[0mverbose\u001b[0m\u001b[0;34m=\u001b[0m\u001b[0;36m1\u001b[0m\u001b[0;34m,\u001b[0m \u001b[0mcallbacks\u001b[0m\u001b[0;34m=\u001b[0m\u001b[0;32mNone\u001b[0m\u001b[0;34m,\u001b[0m\u001b[0;34m\u001b[0m\u001b[0;34m\u001b[0m\u001b[0m\n\u001b[1;32m      3\u001b[0m     \u001b[0mvalidation_split\u001b[0m\u001b[0;34m=\u001b[0m\u001b[0;36m0.0\u001b[0m\u001b[0;34m,\u001b[0m \u001b[0mvalidation_data\u001b[0m\u001b[0;34m=\u001b[0m\u001b[0;32mNone\u001b[0m\u001b[0;34m,\u001b[0m \u001b[0mshuffle\u001b[0m\u001b[0;34m=\u001b[0m\u001b[0;32mTrue\u001b[0m\u001b[0;34m,\u001b[0m \u001b[0mclass_weight\u001b[0m\u001b[0;34m=\u001b[0m\u001b[0;32mNone\u001b[0m\u001b[0;34m,\u001b[0m\u001b[0;34m\u001b[0m\u001b[0;34m\u001b[0m\u001b[0m\n\u001b[1;32m      4\u001b[0m     \u001b[0msample_weight\u001b[0m\u001b[0;34m=\u001b[0m\u001b[0;32mNone\u001b[0m\u001b[0;34m,\u001b[0m \u001b[0minitial_epoch\u001b[0m\u001b[0;34m=\u001b[0m\u001b[0;36m0\u001b[0m\u001b[0;34m,\u001b[0m \u001b[0msteps_per_epoch\u001b[0m\u001b[0;34m=\u001b[0m\u001b[0;32mNone\u001b[0m\u001b[0;34m,\u001b[0m\u001b[0;34m\u001b[0m\u001b[0;34m\u001b[0m\u001b[0m\n\u001b[1;32m      5\u001b[0m     \u001b[0mvalidation_steps\u001b[0m\u001b[0;34m=\u001b[0m\u001b[0;32mNone\u001b[0m\u001b[0;34m,\u001b[0m \u001b[0mvalidation_freq\u001b[0m\u001b[0;34m=\u001b[0m\u001b[0;36m1\u001b[0m\u001b[0;34m,\u001b[0m \u001b[0mmax_queue_size\u001b[0m\u001b[0;34m=\u001b[0m\u001b[0;36m10\u001b[0m\u001b[0;34m,\u001b[0m \u001b[0mworkers\u001b[0m\u001b[0;34m=\u001b[0m\u001b[0;36m1\u001b[0m\u001b[0;34m,\u001b[0m\u001b[0;34m\u001b[0m\u001b[0;34m\u001b[0m\u001b[0m\n",
            "\u001b[0;31mNameError\u001b[0m: name 'fit' is not defined"
          ]
        }
      ]
    },
    {
      "cell_type": "markdown",
      "metadata": {
        "id": "X4vxyxjvSHL9"
      },
      "source": [
        "You can now iterate on your training data in batches:"
      ]
    },
    {
      "cell_type": "code",
      "metadata": {
        "id": "2rTu5SlySapX",
        "colab": {
          "base_uri": "https://localhost:8080/",
          "height": 201
        },
        "outputId": "947bb965-c9a1-40d3-e96c-b41116731b28"
      },
      "source": [
        "# dummy code\n",
        "# x_train and y_train are Numpy arrays --just like in the Scikit-Learn API.\n",
        "model.fit(x_train, y_train, epochs=5, batch_size=32)"
      ],
      "execution_count": null,
      "outputs": [
        {
          "output_type": "error",
          "ename": "NameError",
          "evalue": "ignored",
          "traceback": [
            "\u001b[0;31m---------------------------------------------------------------------------\u001b[0m",
            "\u001b[0;31mNameError\u001b[0m                                 Traceback (most recent call last)",
            "\u001b[0;32m<ipython-input-12-1c5aaadb22a1>\u001b[0m in \u001b[0;36m<cell line: 3>\u001b[0;34m()\u001b[0m\n\u001b[1;32m      1\u001b[0m \u001b[0;31m# dummy code\u001b[0m\u001b[0;34m\u001b[0m\u001b[0;34m\u001b[0m\u001b[0m\n\u001b[1;32m      2\u001b[0m \u001b[0;31m# x_train and y_train are Numpy arrays --just like in the Scikit-Learn API.\u001b[0m\u001b[0;34m\u001b[0m\u001b[0;34m\u001b[0m\u001b[0m\n\u001b[0;32m----> 3\u001b[0;31m \u001b[0mmodel\u001b[0m\u001b[0;34m.\u001b[0m\u001b[0mfit\u001b[0m\u001b[0;34m(\u001b[0m\u001b[0mx_train\u001b[0m\u001b[0;34m,\u001b[0m \u001b[0my_train\u001b[0m\u001b[0;34m,\u001b[0m \u001b[0mepochs\u001b[0m\u001b[0;34m=\u001b[0m\u001b[0;36m5\u001b[0m\u001b[0;34m,\u001b[0m \u001b[0mbatch_size\u001b[0m\u001b[0;34m=\u001b[0m\u001b[0;36m32\u001b[0m\u001b[0;34m)\u001b[0m\u001b[0;34m\u001b[0m\u001b[0;34m\u001b[0m\u001b[0m\n\u001b[0m",
            "\u001b[0;31mNameError\u001b[0m: name 'x_train' is not defined"
          ]
        }
      ]
    },
    {
      "cell_type": "markdown",
      "metadata": {
        "id": "2lViHZ8kSdz9"
      },
      "source": [
        "Evaluate your performance in one line:"
      ]
    },
    {
      "cell_type": "code",
      "metadata": {
        "id": "42DjEx2eSmy5",
        "colab": {
          "base_uri": "https://localhost:8080/",
          "height": 166
        },
        "outputId": "a06df71d-ead9-4c8a-aa48-41fe8f295943"
      },
      "source": [
        "loss_and_metrics = model.evaluate(x_test, y_test, batch_size=128)"
      ],
      "execution_count": null,
      "outputs": [
        {
          "output_type": "error",
          "ename": "NameError",
          "evalue": "ignored",
          "traceback": [
            "\u001b[0;31m---------------------------------------------------------------------------\u001b[0m",
            "\u001b[0;31mNameError\u001b[0m                                 Traceback (most recent call last)",
            "\u001b[0;32m<ipython-input-13-330f7375f467>\u001b[0m in \u001b[0;36m<cell line: 1>\u001b[0;34m()\u001b[0m\n\u001b[0;32m----> 1\u001b[0;31m \u001b[0mloss_and_metrics\u001b[0m \u001b[0;34m=\u001b[0m \u001b[0mmodel\u001b[0m\u001b[0;34m.\u001b[0m\u001b[0mevaluate\u001b[0m\u001b[0;34m(\u001b[0m\u001b[0mx_test\u001b[0m\u001b[0;34m,\u001b[0m \u001b[0my_test\u001b[0m\u001b[0;34m,\u001b[0m \u001b[0mbatch_size\u001b[0m\u001b[0;34m=\u001b[0m\u001b[0;36m128\u001b[0m\u001b[0;34m)\u001b[0m\u001b[0;34m\u001b[0m\u001b[0;34m\u001b[0m\u001b[0m\n\u001b[0m",
            "\u001b[0;31mNameError\u001b[0m: name 'x_test' is not defined"
          ]
        }
      ]
    },
    {
      "cell_type": "markdown",
      "metadata": {
        "id": "X857qVXkSnnv"
      },
      "source": [
        "Or generate predictions on new data:"
      ]
    },
    {
      "cell_type": "code",
      "metadata": {
        "id": "Fv5nqLbhSrIe",
        "colab": {
          "base_uri": "https://localhost:8080/",
          "height": 166
        },
        "outputId": "59a9d0eb-b7bf-473d-8be3-a137fff55b3b"
      },
      "source": [
        "classes = model.predict(x_test, batch_size=128)"
      ],
      "execution_count": null,
      "outputs": [
        {
          "output_type": "error",
          "ename": "NameError",
          "evalue": "ignored",
          "traceback": [
            "\u001b[0;31m---------------------------------------------------------------------------\u001b[0m",
            "\u001b[0;31mNameError\u001b[0m                                 Traceback (most recent call last)",
            "\u001b[0;32m<ipython-input-14-dd7bea78f917>\u001b[0m in \u001b[0;36m<cell line: 1>\u001b[0;34m()\u001b[0m\n\u001b[0;32m----> 1\u001b[0;31m \u001b[0mclasses\u001b[0m \u001b[0;34m=\u001b[0m \u001b[0mmodel\u001b[0m\u001b[0;34m.\u001b[0m\u001b[0mpredict\u001b[0m\u001b[0;34m(\u001b[0m\u001b[0mx_test\u001b[0m\u001b[0;34m,\u001b[0m \u001b[0mbatch_size\u001b[0m\u001b[0;34m=\u001b[0m\u001b[0;36m128\u001b[0m\u001b[0;34m)\u001b[0m\u001b[0;34m\u001b[0m\u001b[0;34m\u001b[0m\u001b[0m\n\u001b[0m",
            "\u001b[0;31mNameError\u001b[0m: name 'x_test' is not defined"
          ]
        }
      ]
    },
    {
      "cell_type": "markdown",
      "metadata": {
        "id": "IEbco6_Eq8aa"
      },
      "source": [
        "### Keras MNIST Neural Net example"
      ]
    },
    {
      "cell_type": "code",
      "metadata": {
        "id": "xAUToqAfewTX",
        "colab": {
          "base_uri": "https://localhost:8080/"
        },
        "outputId": "8912f5ce-0645-4c5b-d8f3-f2e83d261e59"
      },
      "source": [
        "(x_train, y_train), (x_test, y_test) = tf.keras.datasets.mnist.load_data()\n",
        "x_train = x_train.reshape(60000, 784).astype('float32') / 255\n",
        "\n",
        "num_val_samples = 10000\n",
        "x_val = x_train[-num_val_samples:]\n",
        "y_val = y_train[-num_val_samples:]\n",
        "x_train = x_train[:-num_val_samples]\n",
        "y_train = y_train[:-num_val_samples]\n",
        "\n",
        "# Instantiate a simple classification model\n",
        "model = tf.keras.Sequential([\n",
        "  tf.keras.layers.Dense(512, activation=tf.nn.relu),\n",
        "  tf.keras.layers.Dense(256, activation=tf.nn.tanh),\n",
        "  tf.keras.layers.Dense(128, activation=tf.nn.relu),\n",
        "  tf.keras.layers.Dense(64, activation=tf.nn.relu),\n",
        "  tf.keras.layers.Dense(10)\n",
        "])\n",
        "\n",
        "# Instantiate a logistic loss function that expects integer targets.\n",
        "loss = tf.keras.losses.SparseCategoricalCrossentropy(from_logits=True)\n",
        "\n",
        "# Instantiate an accuracy metric.\n",
        "accuracy = tf.keras.metrics.SparseCategoricalAccuracy()\n",
        "# recall = tf.keras.metrics.Recall()\n",
        "\n",
        "# Instantiate an optimizer.\n",
        "optimizer = tf.keras.optimizers.Adam()\n",
        "\n",
        "model.compile(optimizer=optimizer,\n",
        "              loss=loss,\n",
        "              metrics=[accuracy])\n",
        "model.fit(x_train, y_train,\n",
        "          validation_data=(x_val, y_val),\n",
        "          epochs=10,\n",
        "          batch_size=128, verbose=1)"
      ],
      "execution_count": null,
      "outputs": [
        {
          "output_type": "stream",
          "name": "stdout",
          "text": [
            "Epoch 1/10\n",
            "391/391 [==============================] - 3s 4ms/step - loss: 0.2527 - sparse_categorical_accuracy: 0.9240 - val_loss: 0.1100 - val_sparse_categorical_accuracy: 0.9666\n",
            "Epoch 2/10\n",
            "391/391 [==============================] - 2s 4ms/step - loss: 0.0941 - sparse_categorical_accuracy: 0.9699 - val_loss: 0.0906 - val_sparse_categorical_accuracy: 0.9718\n",
            "Epoch 3/10\n",
            "391/391 [==============================] - 2s 4ms/step - loss: 0.0638 - sparse_categorical_accuracy: 0.9799 - val_loss: 0.0889 - val_sparse_categorical_accuracy: 0.9742\n",
            "Epoch 4/10\n",
            "391/391 [==============================] - 2s 5ms/step - loss: 0.0425 - sparse_categorical_accuracy: 0.9863 - val_loss: 0.0828 - val_sparse_categorical_accuracy: 0.9762\n",
            "Epoch 5/10\n",
            "391/391 [==============================] - 2s 5ms/step - loss: 0.0343 - sparse_categorical_accuracy: 0.9886 - val_loss: 0.0763 - val_sparse_categorical_accuracy: 0.9780\n",
            "Epoch 6/10\n",
            "391/391 [==============================] - 2s 4ms/step - loss: 0.0293 - sparse_categorical_accuracy: 0.9901 - val_loss: 0.1023 - val_sparse_categorical_accuracy: 0.9737\n",
            "Epoch 7/10\n",
            "391/391 [==============================] - 1s 4ms/step - loss: 0.0289 - sparse_categorical_accuracy: 0.9904 - val_loss: 0.0973 - val_sparse_categorical_accuracy: 0.9778\n",
            "Epoch 8/10\n",
            "391/391 [==============================] - 1s 4ms/step - loss: 0.0235 - sparse_categorical_accuracy: 0.9928 - val_loss: 0.0988 - val_sparse_categorical_accuracy: 0.9758\n",
            "Epoch 9/10\n",
            "391/391 [==============================] - 2s 4ms/step - loss: 0.0172 - sparse_categorical_accuracy: 0.9946 - val_loss: 0.1121 - val_sparse_categorical_accuracy: 0.9727\n",
            "Epoch 10/10\n",
            "391/391 [==============================] - 2s 4ms/step - loss: 0.0193 - sparse_categorical_accuracy: 0.9936 - val_loss: 0.0969 - val_sparse_categorical_accuracy: 0.9778\n"
          ]
        },
        {
          "output_type": "execute_result",
          "data": {
            "text/plain": [
              "<keras.callbacks.History at 0x7f7389fa4130>"
            ]
          },
          "metadata": {},
          "execution_count": 18
        }
      ]
    },
    {
      "cell_type": "code",
      "metadata": {
        "colab": {
          "base_uri": "https://localhost:8080/"
        },
        "id": "bsDeNx1cxRY_",
        "outputId": "4da84737-4a46-49e0-f3cf-4a2ef31f98fa"
      },
      "source": [
        "model.evaluate(x_test.reshape(10000, 784).astype('float32') / 255, y_test)"
      ],
      "execution_count": null,
      "outputs": [
        {
          "output_type": "stream",
          "name": "stdout",
          "text": [
            "313/313 [==============================] - 1s 2ms/step - loss: 0.0915 - sparse_categorical_accuracy: 0.9794\n"
          ]
        },
        {
          "output_type": "execute_result",
          "data": {
            "text/plain": [
              "[0.09149813652038574, 0.9793999791145325]"
            ]
          },
          "metadata": {},
          "execution_count": 19
        }
      ]
    },
    {
      "cell_type": "markdown",
      "metadata": {
        "id": "DgjwTFnBfqcB"
      },
      "source": [
        "## Building a Neural Network for Regression Task"
      ]
    },
    {
      "cell_type": "code",
      "metadata": {
        "id": "rN2NH7ACfvIq"
      },
      "source": [
        "import pandas as pd\n",
        "import numpy as np\n",
        "import tensorflow as tf\n",
        "\n",
        "import matplotlib.pyplot as plt\n",
        "%matplotlib inline\n",
        "\n",
        "import seaborn as sns\n",
        "sns.set(style=\"darkgrid\")\n",
        "from tensorflow.keras.layers import Input, Dense\n",
        "from tensorflow.keras.models import Model"
      ],
      "execution_count": null,
      "outputs": []
    },
    {
      "cell_type": "code",
      "metadata": {
        "id": "HO2V_QUff-rl"
      },
      "source": [
        "petrol_cons = pd.read_csv(r'/content/petrol_consumption.csv')"
      ],
      "execution_count": null,
      "outputs": []
    },
    {
      "cell_type": "code",
      "metadata": {
        "id": "4JK4q-sXgAz4",
        "colab": {
          "base_uri": "https://localhost:8080/",
          "height": 206
        },
        "outputId": "5b1f3bc0-e20f-4951-8e4e-015e4c8eda17"
      },
      "source": [
        "petrol_cons.head()"
      ],
      "execution_count": null,
      "outputs": [
        {
          "output_type": "execute_result",
          "data": {
            "text/plain": [
              "   Petrol_tax  Average_income  Paved_Highways  Population_Driver_licence(%)  \\\n",
              "0         9.0            3571            1976                         0.525   \n",
              "1         9.0            4092            1250                         0.572   \n",
              "2         9.0            3865            1586                         0.580   \n",
              "3         7.5            4870            2351                         0.529   \n",
              "4         8.0            4399             431                         0.544   \n",
              "\n",
              "   Petrol_Consumption  \n",
              "0                 541  \n",
              "1                 524  \n",
              "2                 561  \n",
              "3                 414  \n",
              "4                 410  "
            ],
            "text/html": [
              "\n",
              "  <div id=\"df-d90c3c2d-7af3-4934-ba3e-18a3245d39ef\">\n",
              "    <div class=\"colab-df-container\">\n",
              "      <div>\n",
              "<style scoped>\n",
              "    .dataframe tbody tr th:only-of-type {\n",
              "        vertical-align: middle;\n",
              "    }\n",
              "\n",
              "    .dataframe tbody tr th {\n",
              "        vertical-align: top;\n",
              "    }\n",
              "\n",
              "    .dataframe thead th {\n",
              "        text-align: right;\n",
              "    }\n",
              "</style>\n",
              "<table border=\"1\" class=\"dataframe\">\n",
              "  <thead>\n",
              "    <tr style=\"text-align: right;\">\n",
              "      <th></th>\n",
              "      <th>Petrol_tax</th>\n",
              "      <th>Average_income</th>\n",
              "      <th>Paved_Highways</th>\n",
              "      <th>Population_Driver_licence(%)</th>\n",
              "      <th>Petrol_Consumption</th>\n",
              "    </tr>\n",
              "  </thead>\n",
              "  <tbody>\n",
              "    <tr>\n",
              "      <th>0</th>\n",
              "      <td>9.0</td>\n",
              "      <td>3571</td>\n",
              "      <td>1976</td>\n",
              "      <td>0.525</td>\n",
              "      <td>541</td>\n",
              "    </tr>\n",
              "    <tr>\n",
              "      <th>1</th>\n",
              "      <td>9.0</td>\n",
              "      <td>4092</td>\n",
              "      <td>1250</td>\n",
              "      <td>0.572</td>\n",
              "      <td>524</td>\n",
              "    </tr>\n",
              "    <tr>\n",
              "      <th>2</th>\n",
              "      <td>9.0</td>\n",
              "      <td>3865</td>\n",
              "      <td>1586</td>\n",
              "      <td>0.580</td>\n",
              "      <td>561</td>\n",
              "    </tr>\n",
              "    <tr>\n",
              "      <th>3</th>\n",
              "      <td>7.5</td>\n",
              "      <td>4870</td>\n",
              "      <td>2351</td>\n",
              "      <td>0.529</td>\n",
              "      <td>414</td>\n",
              "    </tr>\n",
              "    <tr>\n",
              "      <th>4</th>\n",
              "      <td>8.0</td>\n",
              "      <td>4399</td>\n",
              "      <td>431</td>\n",
              "      <td>0.544</td>\n",
              "      <td>410</td>\n",
              "    </tr>\n",
              "  </tbody>\n",
              "</table>\n",
              "</div>\n",
              "      <button class=\"colab-df-convert\" onclick=\"convertToInteractive('df-d90c3c2d-7af3-4934-ba3e-18a3245d39ef')\"\n",
              "              title=\"Convert this dataframe to an interactive table.\"\n",
              "              style=\"display:none;\">\n",
              "        \n",
              "  <svg xmlns=\"http://www.w3.org/2000/svg\" height=\"24px\"viewBox=\"0 0 24 24\"\n",
              "       width=\"24px\">\n",
              "    <path d=\"M0 0h24v24H0V0z\" fill=\"none\"/>\n",
              "    <path d=\"M18.56 5.44l.94 2.06.94-2.06 2.06-.94-2.06-.94-.94-2.06-.94 2.06-2.06.94zm-11 1L8.5 8.5l.94-2.06 2.06-.94-2.06-.94L8.5 2.5l-.94 2.06-2.06.94zm10 10l.94 2.06.94-2.06 2.06-.94-2.06-.94-.94-2.06-.94 2.06-2.06.94z\"/><path d=\"M17.41 7.96l-1.37-1.37c-.4-.4-.92-.59-1.43-.59-.52 0-1.04.2-1.43.59L10.3 9.45l-7.72 7.72c-.78.78-.78 2.05 0 2.83L4 21.41c.39.39.9.59 1.41.59.51 0 1.02-.2 1.41-.59l7.78-7.78 2.81-2.81c.8-.78.8-2.07 0-2.86zM5.41 20L4 18.59l7.72-7.72 1.47 1.35L5.41 20z\"/>\n",
              "  </svg>\n",
              "      </button>\n",
              "      \n",
              "  <style>\n",
              "    .colab-df-container {\n",
              "      display:flex;\n",
              "      flex-wrap:wrap;\n",
              "      gap: 12px;\n",
              "    }\n",
              "\n",
              "    .colab-df-convert {\n",
              "      background-color: #E8F0FE;\n",
              "      border: none;\n",
              "      border-radius: 50%;\n",
              "      cursor: pointer;\n",
              "      display: none;\n",
              "      fill: #1967D2;\n",
              "      height: 32px;\n",
              "      padding: 0 0 0 0;\n",
              "      width: 32px;\n",
              "    }\n",
              "\n",
              "    .colab-df-convert:hover {\n",
              "      background-color: #E2EBFA;\n",
              "      box-shadow: 0px 1px 2px rgba(60, 64, 67, 0.3), 0px 1px 3px 1px rgba(60, 64, 67, 0.15);\n",
              "      fill: #174EA6;\n",
              "    }\n",
              "\n",
              "    [theme=dark] .colab-df-convert {\n",
              "      background-color: #3B4455;\n",
              "      fill: #D2E3FC;\n",
              "    }\n",
              "\n",
              "    [theme=dark] .colab-df-convert:hover {\n",
              "      background-color: #434B5C;\n",
              "      box-shadow: 0px 1px 3px 1px rgba(0, 0, 0, 0.15);\n",
              "      filter: drop-shadow(0px 1px 2px rgba(0, 0, 0, 0.3));\n",
              "      fill: #FFFFFF;\n",
              "    }\n",
              "  </style>\n",
              "\n",
              "      <script>\n",
              "        const buttonEl =\n",
              "          document.querySelector('#df-d90c3c2d-7af3-4934-ba3e-18a3245d39ef button.colab-df-convert');\n",
              "        buttonEl.style.display =\n",
              "          google.colab.kernel.accessAllowed ? 'block' : 'none';\n",
              "\n",
              "        async function convertToInteractive(key) {\n",
              "          const element = document.querySelector('#df-d90c3c2d-7af3-4934-ba3e-18a3245d39ef');\n",
              "          const dataTable =\n",
              "            await google.colab.kernel.invokeFunction('convertToInteractive',\n",
              "                                                     [key], {});\n",
              "          if (!dataTable) return;\n",
              "\n",
              "          const docLinkHtml = 'Like what you see? Visit the ' +\n",
              "            '<a target=\"_blank\" href=https://colab.research.google.com/notebooks/data_table.ipynb>data table notebook</a>'\n",
              "            + ' to learn more about interactive tables.';\n",
              "          element.innerHTML = '';\n",
              "          dataTable['output_type'] = 'display_data';\n",
              "          await google.colab.output.renderOutput(dataTable, element);\n",
              "          const docLink = document.createElement('div');\n",
              "          docLink.innerHTML = docLinkHtml;\n",
              "          element.appendChild(docLink);\n",
              "        }\n",
              "      </script>\n",
              "    </div>\n",
              "  </div>\n",
              "  "
            ]
          },
          "metadata": {},
          "execution_count": 6
        }
      ]
    },
    {
      "cell_type": "markdown",
      "metadata": {
        "id": "_oQ1-6r0gINl"
      },
      "source": [
        "One can see that there are five columns in the dataset. The regression model will be trained on the first four columns, i.e. Petrol_tax, Average_income, Paved_Highways, & Population_Driver_License. The value for the last column i.e. Petrol_Consumption will be predicted (Y)."
      ]
    },
    {
      "cell_type": "code",
      "metadata": {
        "id": "rVS79Sh7gKDm"
      },
      "source": [
        "X = petrol_cons.iloc[:, 0:4].values\n",
        "y = petrol_cons.iloc[:, 4].values\n",
        "\n",
        "from sklearn.model_selection import train_test_split\n",
        "\n",
        "X_train, X_test, y_train, y_test = train_test_split(X, y, test_size=0.2, random_state=0)\n",
        "\n",
        "from sklearn.preprocessing import StandardScaler\n",
        "\n",
        "sc = StandardScaler()\n",
        "X_train = sc.fit_transform(X_train)\n",
        "X_test = sc.transform(X_test)"
      ],
      "execution_count": null,
      "outputs": []
    },
    {
      "cell_type": "code",
      "metadata": {
        "id": "Lc5emwPYvQ-i",
        "colab": {
          "base_uri": "https://localhost:8080/"
        },
        "outputId": "d73c83ac-18ea-4c96-d24c-8dce7da9fa89"
      },
      "source": [
        "X_train"
      ],
      "execution_count": null,
      "outputs": [
        {
          "output_type": "execute_result",
          "data": {
            "text/plain": [
              "array([[-1.32525691e-01,  1.50577399e+00,  2.25854636e+00,\n",
              "        -9.15791057e-01],\n",
              "       [-6.28192647e-01, -1.83367022e+00,  2.12333843e-01,\n",
              "        -1.12852703e+00],\n",
              "       [-1.32525691e-01, -1.78897047e+00, -4.54194551e-01,\n",
              "        -5.25775100e-01],\n",
              "       [-1.32525691e-01, -8.78212954e-01,  8.77245103e-01,\n",
              "         4.15208375e-02],\n",
              "       [-6.28192647e-01,  1.27482526e+00,  1.07480487e+00,\n",
              "         2.89712810e-01],\n",
              "       [ 1.35447518e+00, -8.42825648e-01, -1.13743332e+00,\n",
              "         5.92488356e-02],\n",
              "       [-6.28192647e-01, -4.00925436e-02, -4.64436395e-01,\n",
              "         8.21552752e-01],\n",
              "       [-6.28192647e-01,  7.42153173e-01,  2.93282707e-02,\n",
              "         2.61208055e+00],\n",
              "       [-6.28192647e-01,  8.82232011e-04,  1.22196399e+00,\n",
              "         1.65616824e-01],\n",
              "       [ 3.63141265e-01, -2.41241442e-01,  4.54996025e-02,\n",
              "        -2.42127131e-01],\n",
              "       [ 1.35447518e+00,  1.07926383e+00, -9.04835665e-01,\n",
              "        -1.16398303e+00],\n",
              "       [-6.28192647e-01, -2.07716626e-01,  7.28199328e-01,\n",
              "        -8.25751488e-02],\n",
              "       [-6.28192647e-01, -1.23208602e+00, -4.90849570e-01,\n",
              "        -2.42127131e-01],\n",
              "       [-6.28192647e-01,  5.13066928e-01,  5.46541367e-01,\n",
              "         1.53067267e+00],\n",
              "       [-6.28192647e-01, -3.26425844e-02, -5.85182339e-01,\n",
              "         4.66992791e-01],\n",
              "       [ 3.63141265e-01,  2.41143416e-01,  7.46796360e-01,\n",
              "        -8.44879065e-01],\n",
              "       [-6.28192647e-01, -2.05854136e-01,  2.08560532e-01,\n",
              "        -5.61231096e-01],\n",
              "       [ 1.35447518e+00, -1.11102418e+00, -2.85743178e-01,\n",
              "        -5.78959094e-01],\n",
              "       [ 2.34580909e+00,  1.90807179e+00, -1.20562244e+00,\n",
              "        -1.00303147e-01],\n",
              "       [-6.28192647e-01, -1.11661165e+00, -2.91403144e-01,\n",
              "        -6.49871086e-01],\n",
              "       [-1.04455289e+00, -9.60162506e-01,  5.46541367e-01,\n",
              "         9.27920740e-01],\n",
              "       [-6.28192647e-01,  2.69570892e-02,  6.34136081e-01,\n",
              "         5.55632781e-01],\n",
              "       [ 8.58808221e-01, -1.27119830e+00, -6.82479852e-01,\n",
              "         1.53067267e+00],\n",
              "       [ 1.35447518e+00, -4.20040463e-01, -1.22799278e+00,\n",
              "        -8.25751488e-02],\n",
              "       [-6.28192647e-01,  9.30264643e-01,  3.02893301e-01,\n",
              "        -4.71191527e-02],\n",
              "       [-6.28192647e-01, -1.06632442e+00, -8.61173069e-01,\n",
              "        -1.21716702e+00],\n",
              "       [ 8.58808221e-01,  4.77679621e-01, -8.59016891e-01,\n",
              "        -4.54863108e-01],\n",
              "       [ 3.63141265e-01,  1.86523452e+00,  1.63379391e+00,\n",
              "        -2.22766291e+00],\n",
              "       [ 1.35447518e+00, -1.10867156e-01, -3.01914510e-01,\n",
              "        -1.05761504e+00],\n",
              "       [-2.61086047e+00, -5.07577484e-01,  3.22774818e+00,\n",
              "        -1.88943137e-01],\n",
              "       [ 3.63141265e-01,  1.23943795e+00, -1.40264316e+00,\n",
              "         4.49264793e-01],\n",
              "       [ 8.58808221e-01,  4.37194975e-02,  5.49328794e-02,\n",
              "         1.77886465e+00],\n",
              "       [-6.28192647e-01,  3.62205254e-01,  7.27929806e-01,\n",
              "        -4.37135110e-01],\n",
              "       [-6.28192647e-01,  5.11694567e-02, -5.12411346e-01,\n",
              "         1.69022466e+00],\n",
              "       [ 1.35447518e+00,  2.95155621e-01, -5.02439024e-01,\n",
              "        -1.00303147e-01],\n",
              "       [-1.32525691e-01,  1.02897660e+00, -9.31248840e-01,\n",
              "        -8.44879065e-01],\n",
              "       [ 1.35447518e+00, -1.39039765e+00, -1.03231966e+00,\n",
              "        -9.15791057e-01],\n",
              "       [-1.61952656e+00,  1.67153558e+00, -9.44455428e-01,\n",
              "         1.69022466e+00]])"
            ]
          },
          "metadata": {},
          "execution_count": 8
        }
      ]
    },
    {
      "cell_type": "code",
      "metadata": {
        "id": "onCzENoRgObK"
      },
      "source": [
        "input_layer = Input(shape=(X.shape[1],))\n",
        "dense_layer_1 = Dense(100, activation='relu')(input_layer)\n",
        "dense_layer_2 = Dense(50, activation='relu')(dense_layer_1)\n",
        "dense_layer_3 = Dense(25, activation='relu')(dense_layer_2)\n",
        "output = Dense(1)(dense_layer_3)\n",
        "\n",
        "model = Model(inputs=input_layer, outputs=output)\n",
        "model.compile(loss=\"mean_squared_error\" , optimizer=\"adam\", metrics=[\"mean_squared_error\"])"
      ],
      "execution_count": null,
      "outputs": []
    },
    {
      "cell_type": "code",
      "metadata": {
        "colab": {
          "base_uri": "https://localhost:8080/"
        },
        "id": "zm90oKJIlhAW",
        "outputId": "00593196-f58c-42ff-dfda-6aedef5b22c3"
      },
      "source": [
        "model.summary()"
      ],
      "execution_count": null,
      "outputs": [
        {
          "output_type": "stream",
          "name": "stdout",
          "text": [
            "Model: \"model\"\n",
            "_________________________________________________________________\n",
            " Layer (type)                Output Shape              Param #   \n",
            "=================================================================\n",
            " input_1 (InputLayer)        [(None, 4)]               0         \n",
            "                                                                 \n",
            " dense (Dense)               (None, 100)               500       \n",
            "                                                                 \n",
            " dense_1 (Dense)             (None, 50)                5050      \n",
            "                                                                 \n",
            " dense_2 (Dense)             (None, 25)                1275      \n",
            "                                                                 \n",
            " dense_3 (Dense)             (None, 1)                 26        \n",
            "                                                                 \n",
            "=================================================================\n",
            "Total params: 6,851\n",
            "Trainable params: 6,851\n",
            "Non-trainable params: 0\n",
            "_________________________________________________________________\n"
          ]
        }
      ]
    },
    {
      "cell_type": "code",
      "metadata": {
        "id": "IKqfasUEgVES",
        "colab": {
          "base_uri": "https://localhost:8080/"
        },
        "outputId": "b86af626-dd82-4c70-cf26-c8cb859a045b"
      },
      "source": [
        "history = model.fit(X_train, y_train, batch_size=10, epochs=100, verbose=1, validation_split=0.2)"
      ],
      "execution_count": null,
      "outputs": [
        {
          "output_type": "stream",
          "name": "stdout",
          "text": [
            "Epoch 1/100\n",
            "3/3 [==============================] - 6s 105ms/step - loss: 342004.4688 - mean_squared_error: 342004.4375 - val_loss: 402804.6250 - val_mean_squared_error: 402804.6250\n",
            "Epoch 2/100\n",
            "3/3 [==============================] - 0s 17ms/step - loss: 341860.6562 - mean_squared_error: 341860.6562 - val_loss: 402657.6250 - val_mean_squared_error: 402657.6250\n",
            "Epoch 3/100\n",
            "3/3 [==============================] - 0s 16ms/step - loss: 341728.0625 - mean_squared_error: 341728.0625 - val_loss: 402511.8125 - val_mean_squared_error: 402511.8125\n",
            "Epoch 4/100\n",
            "3/3 [==============================] - 0s 27ms/step - loss: 341597.9062 - mean_squared_error: 341597.9062 - val_loss: 402369.8750 - val_mean_squared_error: 402369.8750\n",
            "Epoch 5/100\n",
            "3/3 [==============================] - 0s 18ms/step - loss: 341475.2812 - mean_squared_error: 341475.2812 - val_loss: 402223.7500 - val_mean_squared_error: 402223.7500\n",
            "Epoch 6/100\n",
            "3/3 [==============================] - 0s 16ms/step - loss: 341339.2188 - mean_squared_error: 341339.2188 - val_loss: 402062.2188 - val_mean_squared_error: 402062.2188\n",
            "Epoch 7/100\n",
            "3/3 [==============================] - 0s 16ms/step - loss: 341178.2812 - mean_squared_error: 341178.2812 - val_loss: 401887.4062 - val_mean_squared_error: 401887.4062\n",
            "Epoch 8/100\n",
            "3/3 [==============================] - 0s 16ms/step - loss: 341011.6875 - mean_squared_error: 341011.6875 - val_loss: 401687.7500 - val_mean_squared_error: 401687.7500\n",
            "Epoch 9/100\n",
            "3/3 [==============================] - 0s 16ms/step - loss: 340815.8750 - mean_squared_error: 340815.8438 - val_loss: 401460.5000 - val_mean_squared_error: 401460.5000\n",
            "Epoch 10/100\n",
            "3/3 [==============================] - 0s 16ms/step - loss: 340599.5312 - mean_squared_error: 340599.5000 - val_loss: 401193.0000 - val_mean_squared_error: 401193.0000\n",
            "Epoch 11/100\n",
            "3/3 [==============================] - 0s 16ms/step - loss: 340336.0000 - mean_squared_error: 340336.0000 - val_loss: 400878.0312 - val_mean_squared_error: 400878.0312\n",
            "Epoch 12/100\n",
            "3/3 [==============================] - 0s 20ms/step - loss: 340023.9375 - mean_squared_error: 340023.9375 - val_loss: 400505.9062 - val_mean_squared_error: 400505.9062\n",
            "Epoch 13/100\n",
            "3/3 [==============================] - 0s 16ms/step - loss: 339660.2812 - mean_squared_error: 339660.2812 - val_loss: 400074.0312 - val_mean_squared_error: 400074.0312\n",
            "Epoch 14/100\n",
            "3/3 [==============================] - 0s 16ms/step - loss: 339254.5000 - mean_squared_error: 339254.5000 - val_loss: 399561.0938 - val_mean_squared_error: 399561.0938\n",
            "Epoch 15/100\n",
            "3/3 [==============================] - 0s 16ms/step - loss: 338737.1562 - mean_squared_error: 338737.1562 - val_loss: 398970.7500 - val_mean_squared_error: 398970.7500\n",
            "Epoch 16/100\n",
            "3/3 [==============================] - 0s 17ms/step - loss: 338178.8125 - mean_squared_error: 338178.8125 - val_loss: 398280.8125 - val_mean_squared_error: 398280.8125\n",
            "Epoch 17/100\n",
            "3/3 [==============================] - 0s 18ms/step - loss: 337468.8750 - mean_squared_error: 337468.8750 - val_loss: 397469.0000 - val_mean_squared_error: 397469.0000\n",
            "Epoch 18/100\n",
            "3/3 [==============================] - 0s 17ms/step - loss: 336690.8750 - mean_squared_error: 336690.9062 - val_loss: 396524.1250 - val_mean_squared_error: 396524.1250\n",
            "Epoch 19/100\n",
            "3/3 [==============================] - 0s 17ms/step - loss: 335725.7188 - mean_squared_error: 335725.7188 - val_loss: 395404.9062 - val_mean_squared_error: 395404.9062\n",
            "Epoch 20/100\n",
            "3/3 [==============================] - 0s 19ms/step - loss: 334672.4062 - mean_squared_error: 334672.4062 - val_loss: 394098.2500 - val_mean_squared_error: 394098.2500\n",
            "Epoch 21/100\n",
            "3/3 [==============================] - 0s 17ms/step - loss: 333260.8125 - mean_squared_error: 333260.8125 - val_loss: 392618.7500 - val_mean_squared_error: 392618.7500\n",
            "Epoch 22/100\n",
            "3/3 [==============================] - 0s 16ms/step - loss: 331853.0000 - mean_squared_error: 331853.0000 - val_loss: 390887.5312 - val_mean_squared_error: 390887.5312\n",
            "Epoch 23/100\n",
            "3/3 [==============================] - 0s 16ms/step - loss: 330098.6250 - mean_squared_error: 330098.6250 - val_loss: 388917.5938 - val_mean_squared_error: 388917.5938\n",
            "Epoch 24/100\n",
            "3/3 [==============================] - 0s 25ms/step - loss: 328073.4062 - mean_squared_error: 328073.4062 - val_loss: 386667.8750 - val_mean_squared_error: 386667.8750\n",
            "Epoch 25/100\n",
            "3/3 [==============================] - 0s 16ms/step - loss: 325733.5625 - mean_squared_error: 325733.5625 - val_loss: 384098.4688 - val_mean_squared_error: 384098.4688\n",
            "Epoch 26/100\n",
            "3/3 [==============================] - 0s 16ms/step - loss: 323001.5938 - mean_squared_error: 323001.5938 - val_loss: 381226.0000 - val_mean_squared_error: 381226.0000\n",
            "Epoch 27/100\n",
            "3/3 [==============================] - 0s 25ms/step - loss: 320048.4688 - mean_squared_error: 320048.4688 - val_loss: 377972.3750 - val_mean_squared_error: 377972.3750\n",
            "Epoch 28/100\n",
            "3/3 [==============================] - 0s 18ms/step - loss: 316746.0000 - mean_squared_error: 316746.0000 - val_loss: 374272.1250 - val_mean_squared_error: 374272.1250\n",
            "Epoch 29/100\n",
            "3/3 [==============================] - 0s 15ms/step - loss: 312980.0000 - mean_squared_error: 312980.0000 - val_loss: 370158.7500 - val_mean_squared_error: 370158.7500\n",
            "Epoch 30/100\n",
            "3/3 [==============================] - 0s 16ms/step - loss: 308564.3438 - mean_squared_error: 308564.3438 - val_loss: 365644.0000 - val_mean_squared_error: 365644.0000\n",
            "Epoch 31/100\n",
            "3/3 [==============================] - 0s 16ms/step - loss: 303814.4062 - mean_squared_error: 303814.4062 - val_loss: 360620.8125 - val_mean_squared_error: 360620.8125\n",
            "Epoch 32/100\n",
            "3/3 [==============================] - 0s 16ms/step - loss: 298547.8750 - mean_squared_error: 298547.8750 - val_loss: 355064.2500 - val_mean_squared_error: 355064.2500\n",
            "Epoch 33/100\n",
            "3/3 [==============================] - 0s 16ms/step - loss: 292664.6562 - mean_squared_error: 292664.6562 - val_loss: 348946.7188 - val_mean_squared_error: 348946.7188\n",
            "Epoch 34/100\n",
            "3/3 [==============================] - 0s 16ms/step - loss: 286228.7812 - mean_squared_error: 286228.7812 - val_loss: 342107.4375 - val_mean_squared_error: 342107.4375\n",
            "Epoch 35/100\n",
            "3/3 [==============================] - 0s 16ms/step - loss: 279162.0625 - mean_squared_error: 279162.0625 - val_loss: 334698.4375 - val_mean_squared_error: 334698.4375\n",
            "Epoch 36/100\n",
            "3/3 [==============================] - 0s 17ms/step - loss: 271297.2188 - mean_squared_error: 271297.2188 - val_loss: 326583.5000 - val_mean_squared_error: 326583.5000\n",
            "Epoch 37/100\n",
            "3/3 [==============================] - 0s 16ms/step - loss: 262751.5312 - mean_squared_error: 262751.5312 - val_loss: 317787.5000 - val_mean_squared_error: 317787.5000\n",
            "Epoch 38/100\n",
            "3/3 [==============================] - 0s 16ms/step - loss: 253668.4375 - mean_squared_error: 253668.4375 - val_loss: 308478.7188 - val_mean_squared_error: 308478.7188\n",
            "Epoch 39/100\n",
            "3/3 [==============================] - 0s 22ms/step - loss: 243460.9844 - mean_squared_error: 243460.9688 - val_loss: 298497.6562 - val_mean_squared_error: 298497.6562\n",
            "Epoch 40/100\n",
            "3/3 [==============================] - 0s 17ms/step - loss: 233262.9062 - mean_squared_error: 233262.9062 - val_loss: 287715.2500 - val_mean_squared_error: 287715.2500\n",
            "Epoch 41/100\n",
            "3/3 [==============================] - 0s 17ms/step - loss: 222107.5781 - mean_squared_error: 222107.5781 - val_loss: 276313.9062 - val_mean_squared_error: 276313.9062\n",
            "Epoch 42/100\n",
            "3/3 [==============================] - 0s 25ms/step - loss: 210211.5312 - mean_squared_error: 210211.5312 - val_loss: 264123.8125 - val_mean_squared_error: 264123.8125\n",
            "Epoch 43/100\n",
            "3/3 [==============================] - 0s 16ms/step - loss: 197719.5469 - mean_squared_error: 197719.5469 - val_loss: 251566.8750 - val_mean_squared_error: 251566.8750\n",
            "Epoch 44/100\n",
            "3/3 [==============================] - 0s 16ms/step - loss: 184922.0938 - mean_squared_error: 184922.0938 - val_loss: 238282.2500 - val_mean_squared_error: 238282.2500\n",
            "Epoch 45/100\n",
            "3/3 [==============================] - 0s 20ms/step - loss: 171352.9062 - mean_squared_error: 171352.9062 - val_loss: 224667.4219 - val_mean_squared_error: 224667.4219\n",
            "Epoch 46/100\n",
            "3/3 [==============================] - 0s 16ms/step - loss: 157841.7344 - mean_squared_error: 157841.7344 - val_loss: 210831.0938 - val_mean_squared_error: 210831.0938\n",
            "Epoch 47/100\n",
            "3/3 [==============================] - 0s 16ms/step - loss: 144472.6406 - mean_squared_error: 144472.6406 - val_loss: 196420.4062 - val_mean_squared_error: 196420.4062\n",
            "Epoch 48/100\n",
            "3/3 [==============================] - 0s 17ms/step - loss: 130644.8984 - mean_squared_error: 130644.8984 - val_loss: 182103.8281 - val_mean_squared_error: 182103.8281\n",
            "Epoch 49/100\n",
            "3/3 [==============================] - 0s 17ms/step - loss: 117468.6797 - mean_squared_error: 117468.6797 - val_loss: 167790.6406 - val_mean_squared_error: 167790.6406\n",
            "Epoch 50/100\n",
            "3/3 [==============================] - 0s 17ms/step - loss: 104102.9531 - mean_squared_error: 104102.9531 - val_loss: 153622.5781 - val_mean_squared_error: 153622.5781\n",
            "Epoch 51/100\n",
            "3/3 [==============================] - 0s 16ms/step - loss: 91603.9844 - mean_squared_error: 91603.9844 - val_loss: 140114.8594 - val_mean_squared_error: 140114.8594\n",
            "Epoch 52/100\n",
            "3/3 [==============================] - 0s 17ms/step - loss: 80030.0078 - mean_squared_error: 80030.0078 - val_loss: 127160.9531 - val_mean_squared_error: 127160.9531\n",
            "Epoch 53/100\n",
            "3/3 [==============================] - 0s 16ms/step - loss: 69897.1641 - mean_squared_error: 69897.1641 - val_loss: 114413.9141 - val_mean_squared_error: 114413.9141\n",
            "Epoch 54/100\n",
            "3/3 [==============================] - 0s 15ms/step - loss: 60366.5508 - mean_squared_error: 60366.5508 - val_loss: 102713.7422 - val_mean_squared_error: 102713.7422\n",
            "Epoch 55/100\n",
            "3/3 [==============================] - 0s 15ms/step - loss: 51463.1328 - mean_squared_error: 51463.1328 - val_loss: 92101.4922 - val_mean_squared_error: 92101.4922\n",
            "Epoch 56/100\n",
            "3/3 [==============================] - 0s 16ms/step - loss: 45325.4727 - mean_squared_error: 45325.4766 - val_loss: 82253.1406 - val_mean_squared_error: 82253.1406\n",
            "Epoch 57/100\n",
            "3/3 [==============================] - 0s 29ms/step - loss: 38482.0898 - mean_squared_error: 38482.0898 - val_loss: 73944.2344 - val_mean_squared_error: 73944.2344\n",
            "Epoch 58/100\n",
            "3/3 [==============================] - 0s 32ms/step - loss: 34588.7695 - mean_squared_error: 34588.7695 - val_loss: 66413.7578 - val_mean_squared_error: 66413.7578\n",
            "Epoch 59/100\n",
            "3/3 [==============================] - 0s 29ms/step - loss: 31434.2090 - mean_squared_error: 31434.2090 - val_loss: 59894.5977 - val_mean_squared_error: 59894.5977\n",
            "Epoch 60/100\n",
            "3/3 [==============================] - 0s 32ms/step - loss: 27636.7637 - mean_squared_error: 27636.7637 - val_loss: 54930.7383 - val_mean_squared_error: 54930.7383\n",
            "Epoch 61/100\n",
            "3/3 [==============================] - 0s 26ms/step - loss: 26229.2676 - mean_squared_error: 26229.2676 - val_loss: 50425.9648 - val_mean_squared_error: 50425.9648\n",
            "Epoch 62/100\n",
            "3/3 [==============================] - 0s 21ms/step - loss: 24780.0117 - mean_squared_error: 24780.0117 - val_loss: 46736.2500 - val_mean_squared_error: 46736.2500\n",
            "Epoch 63/100\n",
            "3/3 [==============================] - 0s 23ms/step - loss: 23644.1758 - mean_squared_error: 23644.1758 - val_loss: 43688.8125 - val_mean_squared_error: 43688.8125\n",
            "Epoch 64/100\n",
            "3/3 [==============================] - 0s 22ms/step - loss: 22653.6914 - mean_squared_error: 22653.6914 - val_loss: 41240.4922 - val_mean_squared_error: 41240.4922\n",
            "Epoch 65/100\n",
            "3/3 [==============================] - 0s 30ms/step - loss: 21776.2988 - mean_squared_error: 21776.2988 - val_loss: 39059.9062 - val_mean_squared_error: 39059.9062\n",
            "Epoch 66/100\n",
            "3/3 [==============================] - 0s 31ms/step - loss: 21059.5918 - mean_squared_error: 21059.5918 - val_loss: 37229.1250 - val_mean_squared_error: 37229.1250\n",
            "Epoch 67/100\n",
            "3/3 [==============================] - 0s 31ms/step - loss: 20282.5430 - mean_squared_error: 20282.5430 - val_loss: 35704.7773 - val_mean_squared_error: 35704.7773\n",
            "Epoch 68/100\n",
            "3/3 [==============================] - 0s 30ms/step - loss: 19579.3965 - mean_squared_error: 19579.3965 - val_loss: 34300.9844 - val_mean_squared_error: 34300.9844\n",
            "Epoch 69/100\n",
            "3/3 [==============================] - 0s 30ms/step - loss: 18831.4238 - mean_squared_error: 18831.4238 - val_loss: 32831.5156 - val_mean_squared_error: 32831.5156\n",
            "Epoch 70/100\n",
            "3/3 [==============================] - 0s 27ms/step - loss: 18244.6250 - mean_squared_error: 18244.6250 - val_loss: 31653.1602 - val_mean_squared_error: 31653.1602\n",
            "Epoch 71/100\n",
            "3/3 [==============================] - 0s 21ms/step - loss: 17508.8711 - mean_squared_error: 17508.8711 - val_loss: 30488.0723 - val_mean_squared_error: 30488.0723\n",
            "Epoch 72/100\n",
            "3/3 [==============================] - 0s 32ms/step - loss: 17107.0645 - mean_squared_error: 17107.0645 - val_loss: 29603.1836 - val_mean_squared_error: 29603.1836\n",
            "Epoch 73/100\n",
            "3/3 [==============================] - 0s 32ms/step - loss: 16390.1055 - mean_squared_error: 16390.1055 - val_loss: 28653.7559 - val_mean_squared_error: 28653.7559\n",
            "Epoch 74/100\n",
            "3/3 [==============================] - 0s 41ms/step - loss: 16004.9775 - mean_squared_error: 16004.9775 - val_loss: 27751.4355 - val_mean_squared_error: 27751.4355\n",
            "Epoch 75/100\n",
            "3/3 [==============================] - 0s 38ms/step - loss: 15677.7559 - mean_squared_error: 15677.7559 - val_loss: 27031.7969 - val_mean_squared_error: 27031.7969\n",
            "Epoch 76/100\n",
            "3/3 [==============================] - 0s 31ms/step - loss: 15116.4795 - mean_squared_error: 15116.4795 - val_loss: 26093.1270 - val_mean_squared_error: 26093.1270\n",
            "Epoch 77/100\n",
            "3/3 [==============================] - 0s 33ms/step - loss: 14841.6240 - mean_squared_error: 14841.6240 - val_loss: 25383.2969 - val_mean_squared_error: 25383.2969\n",
            "Epoch 78/100\n",
            "3/3 [==============================] - 0s 30ms/step - loss: 14414.4502 - mean_squared_error: 14414.4502 - val_loss: 24601.8438 - val_mean_squared_error: 24601.8438\n",
            "Epoch 79/100\n",
            "3/3 [==============================] - 0s 22ms/step - loss: 14042.2695 - mean_squared_error: 14042.2705 - val_loss: 23853.2500 - val_mean_squared_error: 23853.2500\n",
            "Epoch 80/100\n",
            "3/3 [==============================] - 0s 31ms/step - loss: 13733.7129 - mean_squared_error: 13733.7129 - val_loss: 23134.0391 - val_mean_squared_error: 23134.0391\n",
            "Epoch 81/100\n",
            "3/3 [==============================] - 0s 22ms/step - loss: 13564.0146 - mean_squared_error: 13564.0146 - val_loss: 22576.6055 - val_mean_squared_error: 22576.6055\n",
            "Epoch 82/100\n",
            "3/3 [==============================] - 0s 31ms/step - loss: 13192.0605 - mean_squared_error: 13192.0605 - val_loss: 21979.2324 - val_mean_squared_error: 21979.2324\n",
            "Epoch 83/100\n",
            "3/3 [==============================] - 0s 30ms/step - loss: 12934.1416 - mean_squared_error: 12934.1416 - val_loss: 21428.0078 - val_mean_squared_error: 21428.0078\n",
            "Epoch 84/100\n",
            "3/3 [==============================] - 0s 31ms/step - loss: 12723.1289 - mean_squared_error: 12723.1289 - val_loss: 20937.7930 - val_mean_squared_error: 20937.7930\n",
            "Epoch 85/100\n",
            "3/3 [==============================] - 0s 32ms/step - loss: 12397.1621 - mean_squared_error: 12397.1621 - val_loss: 20399.7930 - val_mean_squared_error: 20399.7930\n",
            "Epoch 86/100\n",
            "3/3 [==============================] - 0s 34ms/step - loss: 12160.9502 - mean_squared_error: 12160.9502 - val_loss: 19947.2344 - val_mean_squared_error: 19947.2344\n",
            "Epoch 87/100\n",
            "3/3 [==============================] - 0s 31ms/step - loss: 11914.2998 - mean_squared_error: 11914.2998 - val_loss: 19482.5938 - val_mean_squared_error: 19482.5938\n",
            "Epoch 88/100\n",
            "3/3 [==============================] - 0s 31ms/step - loss: 11737.6250 - mean_squared_error: 11737.6250 - val_loss: 19113.0293 - val_mean_squared_error: 19113.0293\n",
            "Epoch 89/100\n",
            "3/3 [==============================] - 0s 20ms/step - loss: 11522.3418 - mean_squared_error: 11522.3408 - val_loss: 18766.5918 - val_mean_squared_error: 18766.5918\n",
            "Epoch 90/100\n",
            "3/3 [==============================] - 0s 16ms/step - loss: 11331.6650 - mean_squared_error: 11331.6650 - val_loss: 18452.9258 - val_mean_squared_error: 18452.9258\n",
            "Epoch 91/100\n",
            "3/3 [==============================] - 0s 16ms/step - loss: 11141.3291 - mean_squared_error: 11141.3301 - val_loss: 18156.6113 - val_mean_squared_error: 18156.6113\n",
            "Epoch 92/100\n",
            "3/3 [==============================] - 0s 18ms/step - loss: 10912.7812 - mean_squared_error: 10912.7812 - val_loss: 17861.8750 - val_mean_squared_error: 17861.8750\n",
            "Epoch 93/100\n",
            "3/3 [==============================] - 0s 16ms/step - loss: 10721.3994 - mean_squared_error: 10721.3994 - val_loss: 17594.7539 - val_mean_squared_error: 17594.7539\n",
            "Epoch 94/100\n",
            "3/3 [==============================] - 0s 17ms/step - loss: 10562.9492 - mean_squared_error: 10562.9492 - val_loss: 17372.3633 - val_mean_squared_error: 17372.3633\n",
            "Epoch 95/100\n",
            "3/3 [==============================] - 0s 17ms/step - loss: 10381.0586 - mean_squared_error: 10381.0586 - val_loss: 17157.3613 - val_mean_squared_error: 17157.3613\n",
            "Epoch 96/100\n",
            "3/3 [==============================] - 0s 18ms/step - loss: 10224.6387 - mean_squared_error: 10224.6387 - val_loss: 16983.3047 - val_mean_squared_error: 16983.3047\n",
            "Epoch 97/100\n",
            "3/3 [==============================] - 0s 17ms/step - loss: 10055.1123 - mean_squared_error: 10055.1123 - val_loss: 16812.1895 - val_mean_squared_error: 16812.1895\n",
            "Epoch 98/100\n",
            "3/3 [==============================] - 0s 16ms/step - loss: 9869.7520 - mean_squared_error: 9869.7520 - val_loss: 16610.9062 - val_mean_squared_error: 16610.9062\n",
            "Epoch 99/100\n",
            "3/3 [==============================] - 0s 17ms/step - loss: 9746.6562 - mean_squared_error: 9746.6562 - val_loss: 16444.5879 - val_mean_squared_error: 16444.5879\n",
            "Epoch 100/100\n",
            "3/3 [==============================] - 0s 21ms/step - loss: 9586.3389 - mean_squared_error: 9586.3389 - val_loss: 16293.0430 - val_mean_squared_error: 16293.0430\n"
          ]
        }
      ]
    },
    {
      "cell_type": "code",
      "metadata": {
        "colab": {
          "base_uri": "https://localhost:8080/"
        },
        "id": "yd3bsBTngRL9",
        "outputId": "0374f89f-a987-489a-ef85-49cd33c3554f"
      },
      "source": [
        "print(history.history)"
      ],
      "execution_count": null,
      "outputs": [
        {
          "output_type": "stream",
          "name": "stdout",
          "text": [
            "{'loss': [342004.46875, 341860.65625, 341728.0625, 341597.90625, 341475.28125, 341339.21875, 341178.28125, 341011.6875, 340815.875, 340599.53125, 340336.0, 340023.9375, 339660.28125, 339254.5, 338737.15625, 338178.8125, 337468.875, 336690.875, 335725.71875, 334672.40625, 333260.8125, 331853.0, 330098.625, 328073.40625, 325733.5625, 323001.59375, 320048.46875, 316746.0, 312980.0, 308564.34375, 303814.40625, 298547.875, 292664.65625, 286228.78125, 279162.0625, 271297.21875, 262751.53125, 253668.4375, 243460.984375, 233262.90625, 222107.578125, 210211.53125, 197719.546875, 184922.09375, 171352.90625, 157841.734375, 144472.640625, 130644.8984375, 117468.6796875, 104102.953125, 91603.984375, 80030.0078125, 69897.1640625, 60366.55078125, 51463.1328125, 45325.47265625, 38482.08984375, 34588.76953125, 31434.208984375, 27636.763671875, 26229.267578125, 24780.01171875, 23644.17578125, 22653.69140625, 21776.298828125, 21059.591796875, 20282.54296875, 19579.396484375, 18831.423828125, 18244.625, 17508.87109375, 17107.064453125, 16390.10546875, 16004.9775390625, 15677.755859375, 15116.4794921875, 14841.6240234375, 14414.4501953125, 14042.26953125, 13733.712890625, 13564.0146484375, 13192.060546875, 12934.1416015625, 12723.12890625, 12397.162109375, 12160.9501953125, 11914.2998046875, 11737.625, 11522.341796875, 11331.6650390625, 11141.3291015625, 10912.78125, 10721.3994140625, 10562.94921875, 10381.05859375, 10224.638671875, 10055.1123046875, 9869.751953125, 9746.65625, 9586.3388671875], 'mean_squared_error': [342004.4375, 341860.65625, 341728.0625, 341597.90625, 341475.28125, 341339.21875, 341178.28125, 341011.6875, 340815.84375, 340599.5, 340336.0, 340023.9375, 339660.28125, 339254.5, 338737.15625, 338178.8125, 337468.875, 336690.90625, 335725.71875, 334672.40625, 333260.8125, 331853.0, 330098.625, 328073.40625, 325733.5625, 323001.59375, 320048.46875, 316746.0, 312980.0, 308564.34375, 303814.40625, 298547.875, 292664.65625, 286228.78125, 279162.0625, 271297.21875, 262751.53125, 253668.4375, 243460.96875, 233262.90625, 222107.578125, 210211.53125, 197719.546875, 184922.09375, 171352.90625, 157841.734375, 144472.640625, 130644.8984375, 117468.6796875, 104102.953125, 91603.984375, 80030.0078125, 69897.1640625, 60366.55078125, 51463.1328125, 45325.4765625, 38482.08984375, 34588.76953125, 31434.208984375, 27636.763671875, 26229.267578125, 24780.01171875, 23644.17578125, 22653.69140625, 21776.298828125, 21059.591796875, 20282.54296875, 19579.396484375, 18831.423828125, 18244.625, 17508.87109375, 17107.064453125, 16390.10546875, 16004.9775390625, 15677.755859375, 15116.4794921875, 14841.6240234375, 14414.4501953125, 14042.2705078125, 13733.712890625, 13564.0146484375, 13192.060546875, 12934.1416015625, 12723.12890625, 12397.162109375, 12160.9501953125, 11914.2998046875, 11737.625, 11522.3408203125, 11331.6650390625, 11141.330078125, 10912.78125, 10721.3994140625, 10562.94921875, 10381.05859375, 10224.638671875, 10055.1123046875, 9869.751953125, 9746.65625, 9586.3388671875], 'val_loss': [402804.625, 402657.625, 402511.8125, 402369.875, 402223.75, 402062.21875, 401887.40625, 401687.75, 401460.5, 401193.0, 400878.03125, 400505.90625, 400074.03125, 399561.09375, 398970.75, 398280.8125, 397469.0, 396524.125, 395404.90625, 394098.25, 392618.75, 390887.53125, 388917.59375, 386667.875, 384098.46875, 381226.0, 377972.375, 374272.125, 370158.75, 365644.0, 360620.8125, 355064.25, 348946.71875, 342107.4375, 334698.4375, 326583.5, 317787.5, 308478.71875, 298497.65625, 287715.25, 276313.90625, 264123.8125, 251566.875, 238282.25, 224667.421875, 210831.09375, 196420.40625, 182103.828125, 167790.640625, 153622.578125, 140114.859375, 127160.953125, 114413.9140625, 102713.7421875, 92101.4921875, 82253.140625, 73944.234375, 66413.7578125, 59894.59765625, 54930.73828125, 50425.96484375, 46736.25, 43688.8125, 41240.4921875, 39059.90625, 37229.125, 35704.77734375, 34300.984375, 32831.515625, 31653.16015625, 30488.072265625, 29603.18359375, 28653.755859375, 27751.435546875, 27031.796875, 26093.126953125, 25383.296875, 24601.84375, 23853.25, 23134.0390625, 22576.60546875, 21979.232421875, 21428.0078125, 20937.79296875, 20399.79296875, 19947.234375, 19482.59375, 19113.029296875, 18766.591796875, 18452.92578125, 18156.611328125, 17861.875, 17594.75390625, 17372.36328125, 17157.361328125, 16983.3046875, 16812.189453125, 16610.90625, 16444.587890625, 16293.04296875], 'val_mean_squared_error': [402804.625, 402657.625, 402511.8125, 402369.875, 402223.75, 402062.21875, 401887.40625, 401687.75, 401460.5, 401193.0, 400878.03125, 400505.90625, 400074.03125, 399561.09375, 398970.75, 398280.8125, 397469.0, 396524.125, 395404.90625, 394098.25, 392618.75, 390887.53125, 388917.59375, 386667.875, 384098.46875, 381226.0, 377972.375, 374272.125, 370158.75, 365644.0, 360620.8125, 355064.25, 348946.71875, 342107.4375, 334698.4375, 326583.5, 317787.5, 308478.71875, 298497.65625, 287715.25, 276313.90625, 264123.8125, 251566.875, 238282.25, 224667.421875, 210831.09375, 196420.40625, 182103.828125, 167790.640625, 153622.578125, 140114.859375, 127160.953125, 114413.9140625, 102713.7421875, 92101.4921875, 82253.140625, 73944.234375, 66413.7578125, 59894.59765625, 54930.73828125, 50425.96484375, 46736.25, 43688.8125, 41240.4921875, 39059.90625, 37229.125, 35704.77734375, 34300.984375, 32831.515625, 31653.16015625, 30488.072265625, 29603.18359375, 28653.755859375, 27751.435546875, 27031.796875, 26093.126953125, 25383.296875, 24601.84375, 23853.25, 23134.0390625, 22576.60546875, 21979.232421875, 21428.0078125, 20937.79296875, 20399.79296875, 19947.234375, 19482.59375, 19113.029296875, 18766.591796875, 18452.92578125, 18156.611328125, 17861.875, 17594.75390625, 17372.36328125, 17157.361328125, 16983.3046875, 16812.189453125, 16610.90625, 16444.587890625, 16293.04296875]}\n"
          ]
        }
      ]
    },
    {
      "cell_type": "code",
      "metadata": {
        "colab": {
          "base_uri": "https://localhost:8080/",
          "height": 451
        },
        "id": "3ovhPQY1ga6P",
        "outputId": "a20e237c-610f-44a3-b5b5-df4651b1bbfd"
      },
      "source": [
        "plt.plot(history.history['loss'])\n",
        "plt.plot(history.history['val_loss'])"
      ],
      "execution_count": null,
      "outputs": [
        {
          "output_type": "execute_result",
          "data": {
            "text/plain": [
              "[<matplotlib.lines.Line2D at 0x7f51e71922f0>]"
            ]
          },
          "metadata": {},
          "execution_count": 13
        },
        {
          "output_type": "display_data",
          "data": {
            "text/plain": [
              "<Figure size 640x480 with 1 Axes>"
            ],
            "image/png": "[encoded data removed]"
          },
          "metadata": {}
        }
      ]
    },
    {
      "cell_type": "code",
      "metadata": {
        "id": "9PE5V3NbgZj9",
        "colab": {
          "base_uri": "https://localhost:8080/"
        },
        "outputId": "d590845c-9da4-4f5b-ac9e-45d2df653b00"
      },
      "source": [
        "from sklearn.metrics import mean_squared_error, r2_score\n",
        "from math import sqrt\n",
        "\n",
        "pred_train = model.predict(X_train)\n",
        "print(np.sqrt(mean_squared_error(y_train,pred_train))) # RMSE Score\n",
        "\n",
        "pred = model.predict(X_test)\n",
        "print(np.sqrt(mean_squared_error(y_test,pred))) # RMSE Score\n",
        "\n",
        "print (r2_score(y_train,pred_train))\n",
        "print (r2_score(y_test, pred)) #R2 score"
      ],
      "execution_count": null,
      "outputs": [
        {
          "output_type": "stream",
          "name": "stdout",
          "text": [
            "2/2 [==============================] - 0s 5ms/step\n",
            "104.30398456230623\n",
            "1/1 [==============================] - 0s 18ms/step\n",
            "142.06735679265256\n",
            "0.20544479080478606\n",
            "-2.4445499682650285\n"
          ]
        }
      ]
    },
    {
      "cell_type": "markdown",
      "metadata": {
        "id": "rbpN4wbtgb-y"
      },
      "source": [
        "## Neural Network for Classification\n",
        "\n",
        "Car Evaluation Database was derived from a simple hierarchical decision model originally developed for the demonstration of DEX, M. Bohanec, V. Rajkovic: Expert system for decision making. Sistemica 1(1), pp. 145-157, 1990.). The model evaluates cars according to the following concept structure:\n",
        "\n",
        "CAR car acceptability\n",
        ". PRICE overall price\n",
        "\n",
        ". . buying buying price\n",
        "\n",
        ". . maint price of the maintenance\n",
        "\n",
        ". TECH technical characteristics\n",
        "\n",
        ". . COMFORT comfort\n",
        "\n",
        ". . . doors number of doors\n",
        "\n",
        ". . . persons capacity in terms of persons to carry\n",
        "\n",
        ". . . lug_boot the size of luggage boot\n",
        "\n",
        ". . safety estimated safety of the car"
      ]
    },
    {
      "cell_type": "code",
      "metadata": {
        "id": "CL0pQduQgs9d"
      },
      "source": [
        "cols = ['price', 'maint', 'doors', 'persons', 'lug_capacity', 'safety','output']\n",
        "cars = pd.read_csv(r'/content/car_evaluation.csv', names=cols, header=None)"
      ],
      "execution_count": null,
      "outputs": []
    },
    {
      "cell_type": "code",
      "metadata": {
        "id": "OjcFasbfgvw8",
        "colab": {
          "base_uri": "https://localhost:8080/",
          "height": 833
        },
        "outputId": "829bf08d-a8db-4f6a-f21c-a773ac96a2e8"
      },
      "source": [
        "cars.head(25)"
      ],
      "execution_count": null,
      "outputs": [
        {
          "output_type": "execute_result",
          "data": {
            "text/plain": [
              "    price  maint doors persons lug_capacity safety output\n",
              "0   vhigh  vhigh     2       2        small    low  unacc\n",
              "1   vhigh  vhigh     2       2        small    med  unacc\n",
              "2   vhigh  vhigh     2       2        small   high  unacc\n",
              "3   vhigh  vhigh     2       2          med    low  unacc\n",
              "4   vhigh  vhigh     2       2          med    med  unacc\n",
              "5   vhigh  vhigh     2       2          med   high  unacc\n",
              "6   vhigh  vhigh     2       2          big    low  unacc\n",
              "7   vhigh  vhigh     2       2          big    med  unacc\n",
              "8   vhigh  vhigh     2       2          big   high  unacc\n",
              "9   vhigh  vhigh     2       4        small    low  unacc\n",
              "10  vhigh  vhigh     2       4        small    med  unacc\n",
              "11  vhigh  vhigh     2       4        small   high  unacc\n",
              "12  vhigh  vhigh     2       4          med    low  unacc\n",
              "13  vhigh  vhigh     2       4          med    med  unacc\n",
              "14  vhigh  vhigh     2       4          med   high  unacc\n",
              "15  vhigh  vhigh     2       4          big    low  unacc\n",
              "16  vhigh  vhigh     2       4          big    med  unacc\n",
              "17  vhigh  vhigh     2       4          big   high  unacc\n",
              "18  vhigh  vhigh     2    more        small    low  unacc\n",
              "19  vhigh  vhigh     2    more        small    med  unacc\n",
              "20  vhigh  vhigh     2    more        small   high  unacc\n",
              "21  vhigh  vhigh     2    more          med    low  unacc\n",
              "22  vhigh  vhigh     2    more          med    med  unacc\n",
              "23  vhigh  vhigh     2    more          med   high  unacc\n",
              "24  vhigh  vhigh     2    more          big    low  unacc"
            ],
            "text/html": [
              "\n",
              "  <div id=\"df-a57b35d4-04e2-4003-974c-655eb5369e10\">\n",
              "    <div class=\"colab-df-container\">\n",
              "      <div>\n",
              "<style scoped>\n",
              "    .dataframe tbody tr th:only-of-type {\n",
              "        vertical-align: middle;\n",
              "    }\n",
              "\n",
              "    .dataframe tbody tr th {\n",
              "        vertical-align: top;\n",
              "    }\n",
              "\n",
              "    .dataframe thead th {\n",
              "        text-align: right;\n",
              "    }\n",
              "</style>\n",
              "<table border=\"1\" class=\"dataframe\">\n",
              "  <thead>\n",
              "    <tr style=\"text-align: right;\">\n",
              "      <th></th>\n",
              "      <th>price</th>\n",
              "      <th>maint</th>\n",
              "      <th>doors</th>\n",
              "      <th>persons</th>\n",
              "      <th>lug_capacity</th>\n",
              "      <th>safety</th>\n",
              "      <th>output</th>\n",
              "    </tr>\n",
              "  </thead>\n",
              "  <tbody>\n",
              "    <tr>\n",
              "      <th>0</th>\n",
              "      <td>vhigh</td>\n",
              "      <td>vhigh</td>\n",
              "      <td>2</td>\n",
              "      <td>2</td>\n",
              "      <td>small</td>\n",
              "      <td>low</td>\n",
              "      <td>unacc</td>\n",
              "    </tr>\n",
              "    <tr>\n",
              "      <th>1</th>\n",
              "      <td>vhigh</td>\n",
              "      <td>vhigh</td>\n",
              "      <td>2</td>\n",
              "      <td>2</td>\n",
              "      <td>small</td>\n",
              "      <td>med</td>\n",
              "      <td>unacc</td>\n",
              "    </tr>\n",
              "    <tr>\n",
              "      <th>2</th>\n",
              "      <td>vhigh</td>\n",
              "      <td>vhigh</td>\n",
              "      <td>2</td>\n",
              "      <td>2</td>\n",
              "      <td>small</td>\n",
              "      <td>high</td>\n",
              "      <td>unacc</td>\n",
              "    </tr>\n",
              "    <tr>\n",
              "      <th>3</th>\n",
              "      <td>vhigh</td>\n",
              "      <td>vhigh</td>\n",
              "      <td>2</td>\n",
              "      <td>2</td>\n",
              "      <td>med</td>\n",
              "      <td>low</td>\n",
              "      <td>unacc</td>\n",
              "    </tr>\n",
              "    <tr>\n",
              "      <th>4</th>\n",
              "      <td>vhigh</td>\n",
              "      <td>vhigh</td>\n",
              "      <td>2</td>\n",
              "      <td>2</td>\n",
              "      <td>med</td>\n",
              "      <td>med</td>\n",
              "      <td>unacc</td>\n",
              "    </tr>\n",
              "    <tr>\n",
              "      <th>5</th>\n",
              "      <td>vhigh</td>\n",
              "      <td>vhigh</td>\n",
              "      <td>2</td>\n",
              "      <td>2</td>\n",
              "      <td>med</td>\n",
              "      <td>high</td>\n",
              "      <td>unacc</td>\n",
              "    </tr>\n",
              "    <tr>\n",
              "      <th>6</th>\n",
              "      <td>vhigh</td>\n",
              "      <td>vhigh</td>\n",
              "      <td>2</td>\n",
              "      <td>2</td>\n",
              "      <td>big</td>\n",
              "      <td>low</td>\n",
              "      <td>unacc</td>\n",
              "    </tr>\n",
              "    <tr>\n",
              "      <th>7</th>\n",
              "      <td>vhigh</td>\n",
              "      <td>vhigh</td>\n",
              "      <td>2</td>\n",
              "      <td>2</td>\n",
              "      <td>big</td>\n",
              "      <td>med</td>\n",
              "      <td>unacc</td>\n",
              "    </tr>\n",
              "    <tr>\n",
              "      <th>8</th>\n",
              "      <td>vhigh</td>\n",
              "      <td>vhigh</td>\n",
              "      <td>2</td>\n",
              "      <td>2</td>\n",
              "      <td>big</td>\n",
              "      <td>high</td>\n",
              "      <td>unacc</td>\n",
              "    </tr>\n",
              "    <tr>\n",
              "      <th>9</th>\n",
              "      <td>vhigh</td>\n",
              "      <td>vhigh</td>\n",
              "      <td>2</td>\n",
              "      <td>4</td>\n",
              "      <td>small</td>\n",
              "      <td>low</td>\n",
              "      <td>unacc</td>\n",
              "    </tr>\n",
              "    <tr>\n",
              "      <th>10</th>\n",
              "      <td>vhigh</td>\n",
              "      <td>vhigh</td>\n",
              "      <td>2</td>\n",
              "      <td>4</td>\n",
              "      <td>small</td>\n",
              "      <td>med</td>\n",
              "      <td>unacc</td>\n",
              "    </tr>\n",
              "    <tr>\n",
              "      <th>11</th>\n",
              "      <td>vhigh</td>\n",
              "      <td>vhigh</td>\n",
              "      <td>2</td>\n",
              "      <td>4</td>\n",
              "      <td>small</td>\n",
              "      <td>high</td>\n",
              "      <td>unacc</td>\n",
              "    </tr>\n",
              "    <tr>\n",
              "      <th>12</th>\n",
              "      <td>vhigh</td>\n",
              "      <td>vhigh</td>\n",
              "      <td>2</td>\n",
              "      <td>4</td>\n",
              "      <td>med</td>\n",
              "      <td>low</td>\n",
              "      <td>unacc</td>\n",
              "    </tr>\n",
              "    <tr>\n",
              "      <th>13</th>\n",
              "      <td>vhigh</td>\n",
              "      <td>vhigh</td>\n",
              "      <td>2</td>\n",
              "      <td>4</td>\n",
              "      <td>med</td>\n",
              "      <td>med</td>\n",
              "      <td>unacc</td>\n",
              "    </tr>\n",
              "    <tr>\n",
              "      <th>14</th>\n",
              "      <td>vhigh</td>\n",
              "      <td>vhigh</td>\n",
              "      <td>2</td>\n",
              "      <td>4</td>\n",
              "      <td>med</td>\n",
              "      <td>high</td>\n",
              "      <td>unacc</td>\n",
              "    </tr>\n",
              "    <tr>\n",
              "      <th>15</th>\n",
              "      <td>vhigh</td>\n",
              "      <td>vhigh</td>\n",
              "      <td>2</td>\n",
              "      <td>4</td>\n",
              "      <td>big</td>\n",
              "      <td>low</td>\n",
              "      <td>unacc</td>\n",
              "    </tr>\n",
              "    <tr>\n",
              "      <th>16</th>\n",
              "      <td>vhigh</td>\n",
              "      <td>vhigh</td>\n",
              "      <td>2</td>\n",
              "      <td>4</td>\n",
              "      <td>big</td>\n",
              "      <td>med</td>\n",
              "      <td>unacc</td>\n",
              "    </tr>\n",
              "    <tr>\n",
              "      <th>17</th>\n",
              "      <td>vhigh</td>\n",
              "      <td>vhigh</td>\n",
              "      <td>2</td>\n",
              "      <td>4</td>\n",
              "      <td>big</td>\n",
              "      <td>high</td>\n",
              "      <td>unacc</td>\n",
              "    </tr>\n",
              "    <tr>\n",
              "      <th>18</th>\n",
              "      <td>vhigh</td>\n",
              "      <td>vhigh</td>\n",
              "      <td>2</td>\n",
              "      <td>more</td>\n",
              "      <td>small</td>\n",
              "      <td>low</td>\n",
              "      <td>unacc</td>\n",
              "    </tr>\n",
              "    <tr>\n",
              "      <th>19</th>\n",
              "      <td>vhigh</td>\n",
              "      <td>vhigh</td>\n",
              "      <td>2</td>\n",
              "      <td>more</td>\n",
              "      <td>small</td>\n",
              "      <td>med</td>\n",
              "      <td>unacc</td>\n",
              "    </tr>\n",
              "    <tr>\n",
              "      <th>20</th>\n",
              "      <td>vhigh</td>\n",
              "      <td>vhigh</td>\n",
              "      <td>2</td>\n",
              "      <td>more</td>\n",
              "      <td>small</td>\n",
              "      <td>high</td>\n",
              "      <td>unacc</td>\n",
              "    </tr>\n",
              "    <tr>\n",
              "      <th>21</th>\n",
              "      <td>vhigh</td>\n",
              "      <td>vhigh</td>\n",
              "      <td>2</td>\n",
              "      <td>more</td>\n",
              "      <td>med</td>\n",
              "      <td>low</td>\n",
              "      <td>unacc</td>\n",
              "    </tr>\n",
              "    <tr>\n",
              "      <th>22</th>\n",
              "      <td>vhigh</td>\n",
              "      <td>vhigh</td>\n",
              "      <td>2</td>\n",
              "      <td>more</td>\n",
              "      <td>med</td>\n",
              "      <td>med</td>\n",
              "      <td>unacc</td>\n",
              "    </tr>\n",
              "    <tr>\n",
              "      <th>23</th>\n",
              "      <td>vhigh</td>\n",
              "      <td>vhigh</td>\n",
              "      <td>2</td>\n",
              "      <td>more</td>\n",
              "      <td>med</td>\n",
              "      <td>high</td>\n",
              "      <td>unacc</td>\n",
              "    </tr>\n",
              "    <tr>\n",
              "      <th>24</th>\n",
              "      <td>vhigh</td>\n",
              "      <td>vhigh</td>\n",
              "      <td>2</td>\n",
              "      <td>more</td>\n",
              "      <td>big</td>\n",
              "      <td>low</td>\n",
              "      <td>unacc</td>\n",
              "    </tr>\n",
              "  </tbody>\n",
              "</table>\n",
              "</div>\n",
              "      <button class=\"colab-df-convert\" onclick=\"convertToInteractive('df-a57b35d4-04e2-4003-974c-655eb5369e10')\"\n",
              "              title=\"Convert this dataframe to an interactive table.\"\n",
              "              style=\"display:none;\">\n",
              "        \n",
              "  <svg xmlns=\"http://www.w3.org/2000/svg\" height=\"24px\"viewBox=\"0 0 24 24\"\n",
              "       width=\"24px\">\n",
              "    <path d=\"M0 0h24v24H0V0z\" fill=\"none\"/>\n",
              "    <path d=\"M18.56 5.44l.94 2.06.94-2.06 2.06-.94-2.06-.94-.94-2.06-.94 2.06-2.06.94zm-11 1L8.5 8.5l.94-2.06 2.06-.94-2.06-.94L8.5 2.5l-.94 2.06-2.06.94zm10 10l.94 2.06.94-2.06 2.06-.94-2.06-.94-.94-2.06-.94 2.06-2.06.94z\"/><path d=\"M17.41 7.96l-1.37-1.37c-.4-.4-.92-.59-1.43-.59-.52 0-1.04.2-1.43.59L10.3 9.45l-7.72 7.72c-.78.78-.78 2.05 0 2.83L4 21.41c.39.39.9.59 1.41.59.51 0 1.02-.2 1.41-.59l7.78-7.78 2.81-2.81c.8-.78.8-2.07 0-2.86zM5.41 20L4 18.59l7.72-7.72 1.47 1.35L5.41 20z\"/>\n",
              "  </svg>\n",
              "      </button>\n",
              "      \n",
              "  <style>\n",
              "    .colab-df-container {\n",
              "      display:flex;\n",
              "      flex-wrap:wrap;\n",
              "      gap: 12px;\n",
              "    }\n",
              "\n",
              "    .colab-df-convert {\n",
              "      background-color: #E8F0FE;\n",
              "      border: none;\n",
              "      border-radius: 50%;\n",
              "      cursor: pointer;\n",
              "      display: none;\n",
              "      fill: #1967D2;\n",
              "      height: 32px;\n",
              "      padding: 0 0 0 0;\n",
              "      width: 32px;\n",
              "    }\n",
              "\n",
              "    .colab-df-convert:hover {\n",
              "      background-color: #E2EBFA;\n",
              "      box-shadow: 0px 1px 2px rgba(60, 64, 67, 0.3), 0px 1px 3px 1px rgba(60, 64, 67, 0.15);\n",
              "      fill: #174EA6;\n",
              "    }\n",
              "\n",
              "    [theme=dark] .colab-df-convert {\n",
              "      background-color: #3B4455;\n",
              "      fill: #D2E3FC;\n",
              "    }\n",
              "\n",
              "    [theme=dark] .colab-df-convert:hover {\n",
              "      background-color: #434B5C;\n",
              "      box-shadow: 0px 1px 3px 1px rgba(0, 0, 0, 0.15);\n",
              "      filter: drop-shadow(0px 1px 2px rgba(0, 0, 0, 0.3));\n",
              "      fill: #FFFFFF;\n",
              "    }\n",
              "  </style>\n",
              "\n",
              "      <script>\n",
              "        const buttonEl =\n",
              "          document.querySelector('#df-a57b35d4-04e2-4003-974c-655eb5369e10 button.colab-df-convert');\n",
              "        buttonEl.style.display =\n",
              "          google.colab.kernel.accessAllowed ? 'block' : 'none';\n",
              "\n",
              "        async function convertToInteractive(key) {\n",
              "          const element = document.querySelector('#df-a57b35d4-04e2-4003-974c-655eb5369e10');\n",
              "          const dataTable =\n",
              "            await google.colab.kernel.invokeFunction('convertToInteractive',\n",
              "                                                     [key], {});\n",
              "          if (!dataTable) return;\n",
              "\n",
              "          const docLinkHtml = 'Like what you see? Visit the ' +\n",
              "            '<a target=\"_blank\" href=https://colab.research.google.com/notebooks/data_table.ipynb>data table notebook</a>'\n",
              "            + ' to learn more about interactive tables.';\n",
              "          element.innerHTML = '';\n",
              "          dataTable['output_type'] = 'display_data';\n",
              "          await google.colab.output.renderOutput(dataTable, element);\n",
              "          const docLink = document.createElement('div');\n",
              "          docLink.innerHTML = docLinkHtml;\n",
              "          element.appendChild(docLink);\n",
              "        }\n",
              "      </script>\n",
              "    </div>\n",
              "  </div>\n",
              "  "
            ]
          },
          "metadata": {},
          "execution_count": 16
        }
      ]
    },
    {
      "cell_type": "code",
      "metadata": {
        "id": "s3CE_llvgwkK",
        "colab": {
          "base_uri": "https://localhost:8080/",
          "height": 516
        },
        "outputId": "cb986a41-826b-42b2-ad2e-6ff64bbf8d5d"
      },
      "source": [
        "plot_size = plt.rcParams[\"figure.figsize\"]\n",
        "plot_size [0] = 8\n",
        "plot_size [1] = 6\n",
        "plt.rcParams[\"figure.figsize\"] = plot_size\n",
        "\n",
        "\n",
        "cars.output.value_counts().plot(kind='pie', autopct='%0.05f%%', colors=['lightblue', 'lightgreen', 'orange', 'pink'], explode=(0.05, 0.05, 0.05,0.05))"
      ],
      "execution_count": null,
      "outputs": [
        {
          "output_type": "execute_result",
          "data": {
            "text/plain": [
              "<Axes: ylabel='output'>"
            ]
          },
          "metadata": {},
          "execution_count": 17
        },
        {
          "output_type": "display_data",
          "data": {
            "text/plain": [
              "<Figure size 800x600 with 1 Axes>"
            ],
            "image/png": "[encoded data removed]"
          },
          "metadata": {}
        }
      ]
    },
    {
      "cell_type": "markdown",
      "metadata": {
        "id": "VV7Nwt3pg126"
      },
      "source": [
        "All the columns in our dataset are categorical. Deep learning is based on statistical algorithms and statistical algorithms work with numbers. Therefore, we need to convert the categorical information into numeric columns. There are various approaches to do that but one of the most common approach is one-hot encoding."
      ]
    },
    {
      "cell_type": "code",
      "metadata": {
        "id": "ny_JaVacg4hO"
      },
      "source": [
        "price = pd.get_dummies(cars.price, prefix='price')\n",
        "maint = pd.get_dummies(cars.maint, prefix='maint')\n",
        "\n",
        "doors = pd.get_dummies(cars.doors, prefix='doors')\n",
        "persons = pd.get_dummies(cars.persons, prefix='persons')\n",
        "\n",
        "lug_capacity = pd.get_dummies(cars.lug_capacity, prefix='lug_capacity')\n",
        "safety = pd.get_dummies(cars.safety, prefix='safety')\n",
        "\n",
        "labels = pd.get_dummies(cars.output, prefix='condition')"
      ],
      "execution_count": null,
      "outputs": []
    },
    {
      "cell_type": "code",
      "metadata": {
        "id": "MZXhw1Z0g9gF",
        "colab": {
          "base_uri": "https://localhost:8080/",
          "height": 206
        },
        "outputId": "b592cde8-7602-4c53-aa27-ac9d27e599ab"
      },
      "source": [
        "X = pd.concat([price, maint, doors, persons, lug_capacity, safety] , axis=1)\n",
        "\n",
        "labels.tail()"
      ],
      "execution_count": null,
      "outputs": [
        {
          "output_type": "execute_result",
          "data": {
            "text/plain": [
              "      condition_acc  condition_good  condition_unacc  condition_vgood\n",
              "1723              0               1                0                0\n",
              "1724              0               0                0                1\n",
              "1725              0               0                1                0\n",
              "1726              0               1                0                0\n",
              "1727              0               0                0                1"
            ],
            "text/html": [
              "\n",
              "  <div id=\"df-b502e796-b386-4a02-92db-6ad77963caa2\">\n",
              "    <div class=\"colab-df-container\">\n",
              "      <div>\n",
              "<style scoped>\n",
              "    .dataframe tbody tr th:only-of-type {\n",
              "        vertical-align: middle;\n",
              "    }\n",
              "\n",
              "    .dataframe tbody tr th {\n",
              "        vertical-align: top;\n",
              "    }\n",
              "\n",
              "    .dataframe thead th {\n",
              "        text-align: right;\n",
              "    }\n",
              "</style>\n",
              "<table border=\"1\" class=\"dataframe\">\n",
              "  <thead>\n",
              "    <tr style=\"text-align: right;\">\n",
              "      <th></th>\n",
              "      <th>condition_acc</th>\n",
              "      <th>condition_good</th>\n",
              "      <th>condition_unacc</th>\n",
              "      <th>condition_vgood</th>\n",
              "    </tr>\n",
              "  </thead>\n",
              "  <tbody>\n",
              "    <tr>\n",
              "      <th>1723</th>\n",
              "      <td>0</td>\n",
              "      <td>1</td>\n",
              "      <td>0</td>\n",
              "      <td>0</td>\n",
              "    </tr>\n",
              "    <tr>\n",
              "      <th>1724</th>\n",
              "      <td>0</td>\n",
              "      <td>0</td>\n",
              "      <td>0</td>\n",
              "      <td>1</td>\n",
              "    </tr>\n",
              "    <tr>\n",
              "      <th>1725</th>\n",
              "      <td>0</td>\n",
              "      <td>0</td>\n",
              "      <td>1</td>\n",
              "      <td>0</td>\n",
              "    </tr>\n",
              "    <tr>\n",
              "      <th>1726</th>\n",
              "      <td>0</td>\n",
              "      <td>1</td>\n",
              "      <td>0</td>\n",
              "      <td>0</td>\n",
              "    </tr>\n",
              "    <tr>\n",
              "      <th>1727</th>\n",
              "      <td>0</td>\n",
              "      <td>0</td>\n",
              "      <td>0</td>\n",
              "      <td>1</td>\n",
              "    </tr>\n",
              "  </tbody>\n",
              "</table>\n",
              "</div>\n",
              "      <button class=\"colab-df-convert\" onclick=\"convertToInteractive('df-b502e796-b386-4a02-92db-6ad77963caa2')\"\n",
              "              title=\"Convert this dataframe to an interactive table.\"\n",
              "              style=\"display:none;\">\n",
              "        \n",
              "  <svg xmlns=\"http://www.w3.org/2000/svg\" height=\"24px\"viewBox=\"0 0 24 24\"\n",
              "       width=\"24px\">\n",
              "    <path d=\"M0 0h24v24H0V0z\" fill=\"none\"/>\n",
              "    <path d=\"M18.56 5.44l.94 2.06.94-2.06 2.06-.94-2.06-.94-.94-2.06-.94 2.06-2.06.94zm-11 1L8.5 8.5l.94-2.06 2.06-.94-2.06-.94L8.5 2.5l-.94 2.06-2.06.94zm10 10l.94 2.06.94-2.06 2.06-.94-2.06-.94-.94-2.06-.94 2.06-2.06.94z\"/><path d=\"M17.41 7.96l-1.37-1.37c-.4-.4-.92-.59-1.43-.59-.52 0-1.04.2-1.43.59L10.3 9.45l-7.72 7.72c-.78.78-.78 2.05 0 2.83L4 21.41c.39.39.9.59 1.41.59.51 0 1.02-.2 1.41-.59l7.78-7.78 2.81-2.81c.8-.78.8-2.07 0-2.86zM5.41 20L4 18.59l7.72-7.72 1.47 1.35L5.41 20z\"/>\n",
              "  </svg>\n",
              "      </button>\n",
              "      \n",
              "  <style>\n",
              "    .colab-df-container {\n",
              "      display:flex;\n",
              "      flex-wrap:wrap;\n",
              "      gap: 12px;\n",
              "    }\n",
              "\n",
              "    .colab-df-convert {\n",
              "      background-color: #E8F0FE;\n",
              "      border: none;\n",
              "      border-radius: 50%;\n",
              "      cursor: pointer;\n",
              "      display: none;\n",
              "      fill: #1967D2;\n",
              "      height: 32px;\n",
              "      padding: 0 0 0 0;\n",
              "      width: 32px;\n",
              "    }\n",
              "\n",
              "    .colab-df-convert:hover {\n",
              "      background-color: #E2EBFA;\n",
              "      box-shadow: 0px 1px 2px rgba(60, 64, 67, 0.3), 0px 1px 3px 1px rgba(60, 64, 67, 0.15);\n",
              "      fill: #174EA6;\n",
              "    }\n",
              "\n",
              "    [theme=dark] .colab-df-convert {\n",
              "      background-color: #3B4455;\n",
              "      fill: #D2E3FC;\n",
              "    }\n",
              "\n",
              "    [theme=dark] .colab-df-convert:hover {\n",
              "      background-color: #434B5C;\n",
              "      box-shadow: 0px 1px 3px 1px rgba(0, 0, 0, 0.15);\n",
              "      filter: drop-shadow(0px 1px 2px rgba(0, 0, 0, 0.3));\n",
              "      fill: #FFFFFF;\n",
              "    }\n",
              "  </style>\n",
              "\n",
              "      <script>\n",
              "        const buttonEl =\n",
              "          document.querySelector('#df-b502e796-b386-4a02-92db-6ad77963caa2 button.colab-df-convert');\n",
              "        buttonEl.style.display =\n",
              "          google.colab.kernel.accessAllowed ? 'block' : 'none';\n",
              "\n",
              "        async function convertToInteractive(key) {\n",
              "          const element = document.querySelector('#df-b502e796-b386-4a02-92db-6ad77963caa2');\n",
              "          const dataTable =\n",
              "            await google.colab.kernel.invokeFunction('convertToInteractive',\n",
              "                                                     [key], {});\n",
              "          if (!dataTable) return;\n",
              "\n",
              "          const docLinkHtml = 'Like what you see? Visit the ' +\n",
              "            '<a target=\"_blank\" href=https://colab.research.google.com/notebooks/data_table.ipynb>data table notebook</a>'\n",
              "            + ' to learn more about interactive tables.';\n",
              "          element.innerHTML = '';\n",
              "          dataTable['output_type'] = 'display_data';\n",
              "          await google.colab.output.renderOutput(dataTable, element);\n",
              "          const docLink = document.createElement('div');\n",
              "          docLink.innerHTML = docLinkHtml;\n",
              "          element.appendChild(docLink);\n",
              "        }\n",
              "      </script>\n",
              "    </div>\n",
              "  </div>\n",
              "  "
            ]
          },
          "metadata": {},
          "execution_count": 19
        }
      ]
    },
    {
      "cell_type": "code",
      "source": [
        "X"
      ],
      "metadata": {
        "colab": {
          "base_uri": "https://localhost:8080/",
          "height": 487
        },
        "id": "-zI2tF6SAVGx",
        "outputId": "b424ae25-638a-423b-b3b8-b9927d3aa09f"
      },
      "execution_count": null,
      "outputs": [
        {
          "output_type": "execute_result",
          "data": {
            "text/plain": [
              "      price_high  price_low  price_med  price_vhigh  maint_high  maint_low  \\\n",
              "0              0          0          0            1           0          0   \n",
              "1              0          0          0            1           0          0   \n",
              "2              0          0          0            1           0          0   \n",
              "3              0          0          0            1           0          0   \n",
              "4              0          0          0            1           0          0   \n",
              "...          ...        ...        ...          ...         ...        ...   \n",
              "1723           0          1          0            0           0          1   \n",
              "1724           0          1          0            0           0          1   \n",
              "1725           0          1          0            0           0          1   \n",
              "1726           0          1          0            0           0          1   \n",
              "1727           0          1          0            0           0          1   \n",
              "\n",
              "      maint_med  maint_vhigh  doors_2  doors_3  ...  doors_5more  persons_2  \\\n",
              "0             0            1        1        0  ...            0          1   \n",
              "1             0            1        1        0  ...            0          1   \n",
              "2             0            1        1        0  ...            0          1   \n",
              "3             0            1        1        0  ...            0          1   \n",
              "4             0            1        1        0  ...            0          1   \n",
              "...         ...          ...      ...      ...  ...          ...        ...   \n",
              "1723          0            0        0        0  ...            1          0   \n",
              "1724          0            0        0        0  ...            1          0   \n",
              "1725          0            0        0        0  ...            1          0   \n",
              "1726          0            0        0        0  ...            1          0   \n",
              "1727          0            0        0        0  ...            1          0   \n",
              "\n",
              "      persons_4  persons_more  lug_capacity_big  lug_capacity_med  \\\n",
              "0             0             0                 0                 0   \n",
              "1             0             0                 0                 0   \n",
              "2             0             0                 0                 0   \n",
              "3             0             0                 0                 1   \n",
              "4             0             0                 0                 1   \n",
              "...         ...           ...               ...               ...   \n",
              "1723          0             1                 0                 1   \n",
              "1724          0             1                 0                 1   \n",
              "1725          0             1                 1                 0   \n",
              "1726          0             1                 1                 0   \n",
              "1727          0             1                 1                 0   \n",
              "\n",
              "      lug_capacity_small  safety_high  safety_low  safety_med  \n",
              "0                      1            0           1           0  \n",
              "1                      1            0           0           1  \n",
              "2                      1            1           0           0  \n",
              "3                      0            0           1           0  \n",
              "4                      0            0           0           1  \n",
              "...                  ...          ...         ...         ...  \n",
              "1723                   0            0           0           1  \n",
              "1724                   0            1           0           0  \n",
              "1725                   0            0           1           0  \n",
              "1726                   0            0           0           1  \n",
              "1727                   0            1           0           0  \n",
              "\n",
              "[1728 rows x 21 columns]"
            ],
            "text/html": [
              "\n",
              "  <div id=\"df-f3244686-d8f3-4ccd-b589-25ceca9bab09\">\n",
              "    <div class=\"colab-df-container\">\n",
              "      <div>\n",
              "<style scoped>\n",
              "    .dataframe tbody tr th:only-of-type {\n",
              "        vertical-align: middle;\n",
              "    }\n",
              "\n",
              "    .dataframe tbody tr th {\n",
              "        vertical-align: top;\n",
              "    }\n",
              "\n",
              "    .dataframe thead th {\n",
              "        text-align: right;\n",
              "    }\n",
              "</style>\n",
              "<table border=\"1\" class=\"dataframe\">\n",
              "  <thead>\n",
              "    <tr style=\"text-align: right;\">\n",
              "      <th></th>\n",
              "      <th>price_high</th>\n",
              "      <th>price_low</th>\n",
              "      <th>price_med</th>\n",
              "      <th>price_vhigh</th>\n",
              "      <th>maint_high</th>\n",
              "      <th>maint_low</th>\n",
              "      <th>maint_med</th>\n",
              "      <th>maint_vhigh</th>\n",
              "      <th>doors_2</th>\n",
              "      <th>doors_3</th>\n",
              "      <th>...</th>\n",
              "      <th>doors_5more</th>\n",
              "      <th>persons_2</th>\n",
              "      <th>persons_4</th>\n",
              "      <th>persons_more</th>\n",
              "      <th>lug_capacity_big</th>\n",
              "      <th>lug_capacity_med</th>\n",
              "      <th>lug_capacity_small</th>\n",
              "      <th>safety_high</th>\n",
              "      <th>safety_low</th>\n",
              "      <th>safety_med</th>\n",
              "    </tr>\n",
              "  </thead>\n",
              "  <tbody>\n",
              "    <tr>\n",
              "      <th>0</th>\n",
              "      <td>0</td>\n",
              "      <td>0</td>\n",
              "      <td>0</td>\n",
              "      <td>1</td>\n",
              "      <td>0</td>\n",
              "      <td>0</td>\n",
              "      <td>0</td>\n",
              "      <td>1</td>\n",
              "      <td>1</td>\n",
              "      <td>0</td>\n",
              "      <td>...</td>\n",
              "      <td>0</td>\n",
              "      <td>1</td>\n",
              "      <td>0</td>\n",
              "      <td>0</td>\n",
              "      <td>0</td>\n",
              "      <td>0</td>\n",
              "      <td>1</td>\n",
              "      <td>0</td>\n",
              "      <td>1</td>\n",
              "      <td>0</td>\n",
              "    </tr>\n",
              "    <tr>\n",
              "      <th>1</th>\n",
              "      <td>0</td>\n",
              "      <td>0</td>\n",
              "      <td>0</td>\n",
              "      <td>1</td>\n",
              "      <td>0</td>\n",
              "      <td>0</td>\n",
              "      <td>0</td>\n",
              "      <td>1</td>\n",
              "      <td>1</td>\n",
              "      <td>0</td>\n",
              "      <td>...</td>\n",
              "      <td>0</td>\n",
              "      <td>1</td>\n",
              "      <td>0</td>\n",
              "      <td>0</td>\n",
              "      <td>0</td>\n",
              "      <td>0</td>\n",
              "      <td>1</td>\n",
              "      <td>0</td>\n",
              "      <td>0</td>\n",
              "      <td>1</td>\n",
              "    </tr>\n",
              "    <tr>\n",
              "      <th>2</th>\n",
              "      <td>0</td>\n",
              "      <td>0</td>\n",
              "      <td>0</td>\n",
              "      <td>1</td>\n",
              "      <td>0</td>\n",
              "      <td>0</td>\n",
              "      <td>0</td>\n",
              "      <td>1</td>\n",
              "      <td>1</td>\n",
              "      <td>0</td>\n",
              "      <td>...</td>\n",
              "      <td>0</td>\n",
              "      <td>1</td>\n",
              "      <td>0</td>\n",
              "      <td>0</td>\n",
              "      <td>0</td>\n",
              "      <td>0</td>\n",
              "      <td>1</td>\n",
              "      <td>1</td>\n",
              "      <td>0</td>\n",
              "      <td>0</td>\n",
              "    </tr>\n",
              "    <tr>\n",
              "      <th>3</th>\n",
              "      <td>0</td>\n",
              "      <td>0</td>\n",
              "      <td>0</td>\n",
              "      <td>1</td>\n",
              "      <td>0</td>\n",
              "      <td>0</td>\n",
              "      <td>0</td>\n",
              "      <td>1</td>\n",
              "      <td>1</td>\n",
              "      <td>0</td>\n",
              "      <td>...</td>\n",
              "      <td>0</td>\n",
              "      <td>1</td>\n",
              "      <td>0</td>\n",
              "      <td>0</td>\n",
              "      <td>0</td>\n",
              "      <td>1</td>\n",
              "      <td>0</td>\n",
              "      <td>0</td>\n",
              "      <td>1</td>\n",
              "      <td>0</td>\n",
              "    </tr>\n",
              "    <tr>\n",
              "      <th>4</th>\n",
              "      <td>0</td>\n",
              "      <td>0</td>\n",
              "      <td>0</td>\n",
              "      <td>1</td>\n",
              "      <td>0</td>\n",
              "      <td>0</td>\n",
              "      <td>0</td>\n",
              "      <td>1</td>\n",
              "      <td>1</td>\n",
              "      <td>0</td>\n",
              "      <td>...</td>\n",
              "      <td>0</td>\n",
              "      <td>1</td>\n",
              "      <td>0</td>\n",
              "      <td>0</td>\n",
              "      <td>0</td>\n",
              "      <td>1</td>\n",
              "      <td>0</td>\n",
              "      <td>0</td>\n",
              "      <td>0</td>\n",
              "      <td>1</td>\n",
              "    </tr>\n",
              "    <tr>\n",
              "      <th>...</th>\n",
              "      <td>...</td>\n",
              "      <td>...</td>\n",
              "      <td>...</td>\n",
              "      <td>...</td>\n",
              "      <td>...</td>\n",
              "      <td>...</td>\n",
              "      <td>...</td>\n",
              "      <td>...</td>\n",
              "      <td>...</td>\n",
              "      <td>...</td>\n",
              "      <td>...</td>\n",
              "      <td>...</td>\n",
              "      <td>...</td>\n",
              "      <td>...</td>\n",
              "      <td>...</td>\n",
              "      <td>...</td>\n",
              "      <td>...</td>\n",
              "      <td>...</td>\n",
              "      <td>...</td>\n",
              "      <td>...</td>\n",
              "      <td>...</td>\n",
              "    </tr>\n",
              "    <tr>\n",
              "      <th>1723</th>\n",
              "      <td>0</td>\n",
              "      <td>1</td>\n",
              "      <td>0</td>\n",
              "      <td>0</td>\n",
              "      <td>0</td>\n",
              "      <td>1</td>\n",
              "      <td>0</td>\n",
              "      <td>0</td>\n",
              "      <td>0</td>\n",
              "      <td>0</td>\n",
              "      <td>...</td>\n",
              "      <td>1</td>\n",
              "      <td>0</td>\n",
              "      <td>0</td>\n",
              "      <td>1</td>\n",
              "      <td>0</td>\n",
              "      <td>1</td>\n",
              "      <td>0</td>\n",
              "      <td>0</td>\n",
              "      <td>0</td>\n",
              "      <td>1</td>\n",
              "    </tr>\n",
              "    <tr>\n",
              "      <th>1724</th>\n",
              "      <td>0</td>\n",
              "      <td>1</td>\n",
              "      <td>0</td>\n",
              "      <td>0</td>\n",
              "      <td>0</td>\n",
              "      <td>1</td>\n",
              "      <td>0</td>\n",
              "      <td>0</td>\n",
              "      <td>0</td>\n",
              "      <td>0</td>\n",
              "      <td>...</td>\n",
              "      <td>1</td>\n",
              "      <td>0</td>\n",
              "      <td>0</td>\n",
              "      <td>1</td>\n",
              "      <td>0</td>\n",
              "      <td>1</td>\n",
              "      <td>0</td>\n",
              "      <td>1</td>\n",
              "      <td>0</td>\n",
              "      <td>0</td>\n",
              "    </tr>\n",
              "    <tr>\n",
              "      <th>1725</th>\n",
              "      <td>0</td>\n",
              "      <td>1</td>\n",
              "      <td>0</td>\n",
              "      <td>0</td>\n",
              "      <td>0</td>\n",
              "      <td>1</td>\n",
              "      <td>0</td>\n",
              "      <td>0</td>\n",
              "      <td>0</td>\n",
              "      <td>0</td>\n",
              "      <td>...</td>\n",
              "      <td>1</td>\n",
              "      <td>0</td>\n",
              "      <td>0</td>\n",
              "      <td>1</td>\n",
              "      <td>1</td>\n",
              "      <td>0</td>\n",
              "      <td>0</td>\n",
              "      <td>0</td>\n",
              "      <td>1</td>\n",
              "      <td>0</td>\n",
              "    </tr>\n",
              "    <tr>\n",
              "      <th>1726</th>\n",
              "      <td>0</td>\n",
              "      <td>1</td>\n",
              "      <td>0</td>\n",
              "      <td>0</td>\n",
              "      <td>0</td>\n",
              "      <td>1</td>\n",
              "      <td>0</td>\n",
              "      <td>0</td>\n",
              "      <td>0</td>\n",
              "      <td>0</td>\n",
              "      <td>...</td>\n",
              "      <td>1</td>\n",
              "      <td>0</td>\n",
              "      <td>0</td>\n",
              "      <td>1</td>\n",
              "      <td>1</td>\n",
              "      <td>0</td>\n",
              "      <td>0</td>\n",
              "      <td>0</td>\n",
              "      <td>0</td>\n",
              "      <td>1</td>\n",
              "    </tr>\n",
              "    <tr>\n",
              "      <th>1727</th>\n",
              "      <td>0</td>\n",
              "      <td>1</td>\n",
              "      <td>0</td>\n",
              "      <td>0</td>\n",
              "      <td>0</td>\n",
              "      <td>1</td>\n",
              "      <td>0</td>\n",
              "      <td>0</td>\n",
              "      <td>0</td>\n",
              "      <td>0</td>\n",
              "      <td>...</td>\n",
              "      <td>1</td>\n",
              "      <td>0</td>\n",
              "      <td>0</td>\n",
              "      <td>1</td>\n",
              "      <td>1</td>\n",
              "      <td>0</td>\n",
              "      <td>0</td>\n",
              "      <td>1</td>\n",
              "      <td>0</td>\n",
              "      <td>0</td>\n",
              "    </tr>\n",
              "  </tbody>\n",
              "</table>\n",
              "<p>1728 rows × 21 columns</p>\n",
              "</div>\n",
              "      <button class=\"colab-df-convert\" onclick=\"convertToInteractive('df-f3244686-d8f3-4ccd-b589-25ceca9bab09')\"\n",
              "              title=\"Convert this dataframe to an interactive table.\"\n",
              "              style=\"display:none;\">\n",
              "        \n",
              "  <svg xmlns=\"http://www.w3.org/2000/svg\" height=\"24px\"viewBox=\"0 0 24 24\"\n",
              "       width=\"24px\">\n",
              "    <path d=\"M0 0h24v24H0V0z\" fill=\"none\"/>\n",
              "    <path d=\"M18.56 5.44l.94 2.06.94-2.06 2.06-.94-2.06-.94-.94-2.06-.94 2.06-2.06.94zm-11 1L8.5 8.5l.94-2.06 2.06-.94-2.06-.94L8.5 2.5l-.94 2.06-2.06.94zm10 10l.94 2.06.94-2.06 2.06-.94-2.06-.94-.94-2.06-.94 2.06-2.06.94z\"/><path d=\"M17.41 7.96l-1.37-1.37c-.4-.4-.92-.59-1.43-.59-.52 0-1.04.2-1.43.59L10.3 9.45l-7.72 7.72c-.78.78-.78 2.05 0 2.83L4 21.41c.39.39.9.59 1.41.59.51 0 1.02-.2 1.41-.59l7.78-7.78 2.81-2.81c.8-.78.8-2.07 0-2.86zM5.41 20L4 18.59l7.72-7.72 1.47 1.35L5.41 20z\"/>\n",
              "  </svg>\n",
              "      </button>\n",
              "      \n",
              "  <style>\n",
              "    .colab-df-container {\n",
              "      display:flex;\n",
              "      flex-wrap:wrap;\n",
              "      gap: 12px;\n",
              "    }\n",
              "\n",
              "    .colab-df-convert {\n",
              "      background-color: #E8F0FE;\n",
              "      border: none;\n",
              "      border-radius: 50%;\n",
              "      cursor: pointer;\n",
              "      display: none;\n",
              "      fill: #1967D2;\n",
              "      height: 32px;\n",
              "      padding: 0 0 0 0;\n",
              "      width: 32px;\n",
              "    }\n",
              "\n",
              "    .colab-df-convert:hover {\n",
              "      background-color: #E2EBFA;\n",
              "      box-shadow: 0px 1px 2px rgba(60, 64, 67, 0.3), 0px 1px 3px 1px rgba(60, 64, 67, 0.15);\n",
              "      fill: #174EA6;\n",
              "    }\n",
              "\n",
              "    [theme=dark] .colab-df-convert {\n",
              "      background-color: #3B4455;\n",
              "      fill: #D2E3FC;\n",
              "    }\n",
              "\n",
              "    [theme=dark] .colab-df-convert:hover {\n",
              "      background-color: #434B5C;\n",
              "      box-shadow: 0px 1px 3px 1px rgba(0, 0, 0, 0.15);\n",
              "      filter: drop-shadow(0px 1px 2px rgba(0, 0, 0, 0.3));\n",
              "      fill: #FFFFFF;\n",
              "    }\n",
              "  </style>\n",
              "\n",
              "      <script>\n",
              "        const buttonEl =\n",
              "          document.querySelector('#df-f3244686-d8f3-4ccd-b589-25ceca9bab09 button.colab-df-convert');\n",
              "        buttonEl.style.display =\n",
              "          google.colab.kernel.accessAllowed ? 'block' : 'none';\n",
              "\n",
              "        async function convertToInteractive(key) {\n",
              "          const element = document.querySelector('#df-f3244686-d8f3-4ccd-b589-25ceca9bab09');\n",
              "          const dataTable =\n",
              "            await google.colab.kernel.invokeFunction('convertToInteractive',\n",
              "                                                     [key], {});\n",
              "          if (!dataTable) return;\n",
              "\n",
              "          const docLinkHtml = 'Like what you see? Visit the ' +\n",
              "            '<a target=\"_blank\" href=https://colab.research.google.com/notebooks/data_table.ipynb>data table notebook</a>'\n",
              "            + ' to learn more about interactive tables.';\n",
              "          element.innerHTML = '';\n",
              "          dataTable['output_type'] = 'display_data';\n",
              "          await google.colab.output.renderOutput(dataTable, element);\n",
              "          const docLink = document.createElement('div');\n",
              "          docLink.innerHTML = docLinkHtml;\n",
              "          element.appendChild(docLink);\n",
              "        }\n",
              "      </script>\n",
              "    </div>\n",
              "  </div>\n",
              "  "
            ]
          },
          "metadata": {},
          "execution_count": 20
        }
      ]
    },
    {
      "cell_type": "code",
      "metadata": {
        "id": "tjzv0cLNg_5w"
      },
      "source": [
        "y = labels.values\n",
        "\n",
        "X_train, X_test, y_train, y_test = train_test_split(X, y, test_size=0.20, random_state=42)"
      ],
      "execution_count": null,
      "outputs": []
    },
    {
      "cell_type": "code",
      "metadata": {
        "id": "JP8MuryghFRo"
      },
      "source": [
        "input_layer = Input(shape=(X.shape[1],))\n",
        "dense_layer_1 = Dense(15, activation='tanh')(input_layer)\n",
        "dense_layer_2 = Dense(10, activation='relu')(dense_layer_1)\n",
        "output = Dense(y.shape[1], activation='softmax')(dense_layer_2)\n",
        "\n",
        "model = Model(inputs=input_layer, outputs=output)\n",
        "model.compile(loss='categorical_crossentropy', optimizer='adam', metrics=['acc'])"
      ],
      "execution_count": null,
      "outputs": []
    },
    {
      "cell_type": "code",
      "metadata": {
        "id": "-IUNHZkShIcD",
        "colab": {
          "base_uri": "https://localhost:8080/"
        },
        "outputId": "9e1cd506-ec4c-408c-9141-fd06d2d4fae9"
      },
      "source": [
        "print(model.summary())"
      ],
      "execution_count": null,
      "outputs": [
        {
          "output_type": "stream",
          "name": "stdout",
          "text": [
            "Model: \"model_1\"\n",
            "_________________________________________________________________\n",
            " Layer (type)                Output Shape              Param #   \n",
            "=================================================================\n",
            " input_2 (InputLayer)        [(None, 21)]              0         \n",
            "                                                                 \n",
            " dense_4 (Dense)             (None, 15)                330       \n",
            "                                                                 \n",
            " dense_5 (Dense)             (None, 10)                160       \n",
            "                                                                 \n",
            " dense_6 (Dense)             (None, 4)                 44        \n",
            "                                                                 \n",
            "=================================================================\n",
            "Total params: 534\n",
            "Trainable params: 534\n",
            "Non-trainable params: 0\n",
            "_________________________________________________________________\n",
            "None\n"
          ]
        }
      ]
    },
    {
      "cell_type": "code",
      "metadata": {
        "id": "IMfndajLhO_-",
        "colab": {
          "base_uri": "https://localhost:8080/"
        },
        "outputId": "c07a2799-2b34-498d-b1c6-37810517c2f7"
      },
      "source": [
        "history = model.fit(X_train, y_train, batch_size=32, epochs=50, verbose=1, validation_split=0.2)"
      ],
      "execution_count": null,
      "outputs": [
        {
          "output_type": "stream",
          "name": "stdout",
          "text": [
            "Epoch 1/50\n",
            "35/35 [==============================] - 2s 9ms/step - loss: 1.1686 - acc: 0.5421 - val_loss: 1.0571 - val_acc: 0.6534\n",
            "Epoch 2/50\n",
            "35/35 [==============================] - 0s 4ms/step - loss: 0.8845 - acc: 0.7276 - val_loss: 0.8729 - val_acc: 0.6931\n",
            "Epoch 3/50\n",
            "35/35 [==============================] - 0s 5ms/step - loss: 0.7269 - acc: 0.7412 - val_loss: 0.7622 - val_acc: 0.7112\n",
            "Epoch 4/50\n",
            "35/35 [==============================] - 0s 4ms/step - loss: 0.6262 - acc: 0.7674 - val_loss: 0.6782 - val_acc: 0.7473\n",
            "Epoch 5/50\n",
            "35/35 [==============================] - 0s 4ms/step - loss: 0.5508 - acc: 0.7910 - val_loss: 0.6100 - val_acc: 0.7690\n",
            "Epoch 6/50\n",
            "35/35 [==============================] - 0s 5ms/step - loss: 0.4885 - acc: 0.8072 - val_loss: 0.5510 - val_acc: 0.8051\n",
            "Epoch 7/50\n",
            "35/35 [==============================] - 0s 4ms/step - loss: 0.4334 - acc: 0.8398 - val_loss: 0.5061 - val_acc: 0.8159\n",
            "Epoch 8/50\n",
            "35/35 [==============================] - 0s 4ms/step - loss: 0.3895 - acc: 0.8670 - val_loss: 0.4669 - val_acc: 0.8123\n",
            "Epoch 9/50\n",
            "35/35 [==============================] - 0s 4ms/step - loss: 0.3566 - acc: 0.8715 - val_loss: 0.4386 - val_acc: 0.8267\n",
            "Epoch 10/50\n",
            "35/35 [==============================] - 0s 4ms/step - loss: 0.3307 - acc: 0.8742 - val_loss: 0.4145 - val_acc: 0.8231\n",
            "Epoch 11/50\n",
            "35/35 [==============================] - 0s 4ms/step - loss: 0.3103 - acc: 0.8760 - val_loss: 0.3972 - val_acc: 0.8267\n",
            "Epoch 12/50\n",
            "35/35 [==============================] - 0s 4ms/step - loss: 0.2932 - acc: 0.8787 - val_loss: 0.3790 - val_acc: 0.8375\n",
            "Epoch 13/50\n",
            "35/35 [==============================] - 0s 4ms/step - loss: 0.2791 - acc: 0.8887 - val_loss: 0.3699 - val_acc: 0.8051\n",
            "Epoch 14/50\n",
            "35/35 [==============================] - 0s 4ms/step - loss: 0.2678 - acc: 0.8787 - val_loss: 0.3477 - val_acc: 0.8520\n",
            "Epoch 15/50\n",
            "35/35 [==============================] - 0s 4ms/step - loss: 0.2559 - acc: 0.8860 - val_loss: 0.3344 - val_acc: 0.8556\n",
            "Epoch 16/50\n",
            "35/35 [==============================] - 0s 5ms/step - loss: 0.2461 - acc: 0.8851 - val_loss: 0.3224 - val_acc: 0.8592\n",
            "Epoch 17/50\n",
            "35/35 [==============================] - 0s 4ms/step - loss: 0.2356 - acc: 0.8959 - val_loss: 0.3149 - val_acc: 0.8520\n",
            "Epoch 18/50\n",
            "35/35 [==============================] - 0s 4ms/step - loss: 0.2264 - acc: 0.8986 - val_loss: 0.3023 - val_acc: 0.8592\n",
            "Epoch 19/50\n",
            "35/35 [==============================] - 0s 4ms/step - loss: 0.2180 - acc: 0.9032 - val_loss: 0.2944 - val_acc: 0.8592\n",
            "Epoch 20/50\n",
            "35/35 [==============================] - 0s 4ms/step - loss: 0.2099 - acc: 0.8995 - val_loss: 0.2830 - val_acc: 0.8736\n",
            "Epoch 21/50\n",
            "35/35 [==============================] - 0s 4ms/step - loss: 0.2039 - acc: 0.9059 - val_loss: 0.2764 - val_acc: 0.8628\n",
            "Epoch 22/50\n",
            "35/35 [==============================] - 0s 5ms/step - loss: 0.1976 - acc: 0.9077 - val_loss: 0.2732 - val_acc: 0.8664\n",
            "Epoch 23/50\n",
            "35/35 [==============================] - 0s 7ms/step - loss: 0.1893 - acc: 0.9095 - val_loss: 0.2641 - val_acc: 0.8700\n",
            "Epoch 24/50\n",
            "35/35 [==============================] - 0s 7ms/step - loss: 0.1834 - acc: 0.9149 - val_loss: 0.2561 - val_acc: 0.8700\n",
            "Epoch 25/50\n",
            "35/35 [==============================] - 0s 7ms/step - loss: 0.1805 - acc: 0.9303 - val_loss: 0.2459 - val_acc: 0.8845\n",
            "Epoch 26/50\n",
            "35/35 [==============================] - 0s 6ms/step - loss: 0.1719 - acc: 0.9376 - val_loss: 0.2452 - val_acc: 0.8773\n",
            "Epoch 27/50\n",
            "35/35 [==============================] - 0s 7ms/step - loss: 0.1670 - acc: 0.9357 - val_loss: 0.2335 - val_acc: 0.8881\n",
            "Epoch 28/50\n",
            "35/35 [==============================] - 0s 7ms/step - loss: 0.1617 - acc: 0.9484 - val_loss: 0.2274 - val_acc: 0.8917\n",
            "Epoch 29/50\n",
            "35/35 [==============================] - 0s 6ms/step - loss: 0.1582 - acc: 0.9394 - val_loss: 0.2271 - val_acc: 0.8845\n",
            "Epoch 30/50\n",
            "35/35 [==============================] - 0s 6ms/step - loss: 0.1524 - acc: 0.9502 - val_loss: 0.2178 - val_acc: 0.8881\n",
            "Epoch 31/50\n",
            "35/35 [==============================] - 0s 7ms/step - loss: 0.1476 - acc: 0.9502 - val_loss: 0.2143 - val_acc: 0.8881\n",
            "Epoch 32/50\n",
            "35/35 [==============================] - 0s 5ms/step - loss: 0.1445 - acc: 0.9511 - val_loss: 0.2232 - val_acc: 0.8845\n",
            "Epoch 33/50\n",
            "35/35 [==============================] - 0s 4ms/step - loss: 0.1403 - acc: 0.9584 - val_loss: 0.2012 - val_acc: 0.9242\n",
            "Epoch 34/50\n",
            "35/35 [==============================] - 0s 4ms/step - loss: 0.1354 - acc: 0.9575 - val_loss: 0.2124 - val_acc: 0.8953\n",
            "Epoch 35/50\n",
            "35/35 [==============================] - 0s 6ms/step - loss: 0.1328 - acc: 0.9566 - val_loss: 0.1958 - val_acc: 0.9170\n",
            "Epoch 36/50\n",
            "35/35 [==============================] - 0s 6ms/step - loss: 0.1290 - acc: 0.9647 - val_loss: 0.1874 - val_acc: 0.9314\n",
            "Epoch 37/50\n",
            "35/35 [==============================] - 0s 5ms/step - loss: 0.1245 - acc: 0.9638 - val_loss: 0.1863 - val_acc: 0.9170\n",
            "Epoch 38/50\n",
            "35/35 [==============================] - 0s 5ms/step - loss: 0.1218 - acc: 0.9629 - val_loss: 0.1844 - val_acc: 0.9242\n",
            "Epoch 39/50\n",
            "35/35 [==============================] - 0s 5ms/step - loss: 0.1181 - acc: 0.9656 - val_loss: 0.1826 - val_acc: 0.9278\n",
            "Epoch 40/50\n",
            "35/35 [==============================] - 0s 4ms/step - loss: 0.1155 - acc: 0.9656 - val_loss: 0.1831 - val_acc: 0.9242\n",
            "Epoch 41/50\n",
            "35/35 [==============================] - 0s 5ms/step - loss: 0.1117 - acc: 0.9683 - val_loss: 0.1757 - val_acc: 0.9314\n",
            "Epoch 42/50\n",
            "35/35 [==============================] - 0s 5ms/step - loss: 0.1086 - acc: 0.9647 - val_loss: 0.1650 - val_acc: 0.9422\n",
            "Epoch 43/50\n",
            "35/35 [==============================] - 0s 4ms/step - loss: 0.1059 - acc: 0.9756 - val_loss: 0.1650 - val_acc: 0.9386\n",
            "Epoch 44/50\n",
            "35/35 [==============================] - 0s 4ms/step - loss: 0.1032 - acc: 0.9738 - val_loss: 0.1619 - val_acc: 0.9386\n",
            "Epoch 45/50\n",
            "35/35 [==============================] - 0s 4ms/step - loss: 0.1000 - acc: 0.9719 - val_loss: 0.1546 - val_acc: 0.9458\n",
            "Epoch 46/50\n",
            "35/35 [==============================] - 0s 4ms/step - loss: 0.0973 - acc: 0.9756 - val_loss: 0.1585 - val_acc: 0.9495\n",
            "Epoch 47/50\n",
            "35/35 [==============================] - 0s 6ms/step - loss: 0.0957 - acc: 0.9774 - val_loss: 0.1579 - val_acc: 0.9458\n",
            "Epoch 48/50\n",
            "35/35 [==============================] - 0s 5ms/step - loss: 0.0925 - acc: 0.9738 - val_loss: 0.1554 - val_acc: 0.9422\n",
            "Epoch 49/50\n",
            "35/35 [==============================] - 0s 4ms/step - loss: 0.0903 - acc: 0.9792 - val_loss: 0.1565 - val_acc: 0.9495\n",
            "Epoch 50/50\n",
            "35/35 [==============================] - 0s 4ms/step - loss: 0.0887 - acc: 0.9801 - val_loss: 0.1481 - val_acc: 0.9531\n"
          ]
        }
      ]
    },
    {
      "cell_type": "code",
      "metadata": {
        "colab": {
          "base_uri": "https://localhost:8080/"
        },
        "id": "tYRNkcIsjJVh",
        "outputId": "f37db89a-a48d-45ea-b513-1aaa7ce37c13"
      },
      "source": [
        "print(history.history)"
      ],
      "execution_count": null,
      "outputs": [
        {
          "output_type": "stream",
          "name": "stdout",
          "text": [
            "{'loss': [1.16862154006958, 0.8844555616378784, 0.7269493341445923, 0.6261920928955078, 0.5508479475975037, 0.48853129148483276, 0.43339043855667114, 0.38954368233680725, 0.35656416416168213, 0.3307288885116577, 0.3102937936782837, 0.2931804358959198, 0.2790702283382416, 0.26777365803718567, 0.25586700439453125, 0.246072456240654, 0.23564256727695465, 0.22641654312610626, 0.21795234084129333, 0.20989692211151123, 0.20390541851520538, 0.19763042032718658, 0.18925146758556366, 0.1833716481924057, 0.18047402799129486, 0.1718745231628418, 0.1669951230287552, 0.16166183352470398, 0.15821458399295807, 0.15240547060966492, 0.1475915163755417, 0.14445631206035614, 0.14030951261520386, 0.13543517887592316, 0.1327933669090271, 0.12897536158561707, 0.12453728169202805, 0.1218329668045044, 0.11809932440519333, 0.11554154008626938, 0.11174900084733963, 0.10858078300952911, 0.10586288571357727, 0.10317559540271759, 0.10000436007976532, 0.0972801223397255, 0.09567608684301376, 0.0925057902932167, 0.09034890681505203, 0.08865676075220108], 'acc': [0.5420814752578735, 0.7276018261909485, 0.7411764860153198, 0.7674208283424377, 0.7909502387046814, 0.807239830493927, 0.8398190140724182, 0.8669683337211609, 0.8714932203292847, 0.8742081522941589, 0.8760181069374084, 0.8787330389022827, 0.888687789440155, 0.8787330389022827, 0.8859728574752808, 0.885067880153656, 0.8959276080131531, 0.8986425399780273, 0.9031674265861511, 0.8995475172996521, 0.9058823585510254, 0.9076923131942749, 0.9095022678375244, 0.914932131767273, 0.9303167462348938, 0.9375565648078918, 0.9357466101646423, 0.9484162926673889, 0.9393665194511414, 0.9502262473106384, 0.9502262473106384, 0.9511312246322632, 0.9583710432052612, 0.9574660658836365, 0.9565610885620117, 0.9647058844566345, 0.9638009071350098, 0.962895929813385, 0.9656108617782593, 0.9656108617782593, 0.9683257937431335, 0.9647058844566345, 0.9755656123161316, 0.9737556576728821, 0.9719457030296326, 0.9755656123161316, 0.9773755669593811, 0.9737556576728821, 0.9791855216026306, 0.9800904989242554], 'val_loss': [1.0570827722549438, 0.872897207736969, 0.7621840238571167, 0.6781896352767944, 0.6099959015846252, 0.551024317741394, 0.5061148405075073, 0.4669141471385956, 0.43864119052886963, 0.41454222798347473, 0.39719057083129883, 0.37898319959640503, 0.36986351013183594, 0.34771087765693665, 0.3343959152698517, 0.32239705324172974, 0.31493404507637024, 0.3022802472114563, 0.29443711042404175, 0.28303560614585876, 0.27642497420310974, 0.27319324016571045, 0.2641080617904663, 0.2560960054397583, 0.24588671326637268, 0.24520279467105865, 0.23349153995513916, 0.2274107187986374, 0.22708426415920258, 0.21782547235488892, 0.214274600148201, 0.22315894067287445, 0.2011881172657013, 0.212388813495636, 0.19577673077583313, 0.1874036341905594, 0.18634317815303802, 0.18444761633872986, 0.1826496422290802, 0.1830950230360031, 0.17567668855190277, 0.16497588157653809, 0.16495071351528168, 0.1619168519973755, 0.15456144511699677, 0.1584690511226654, 0.15789496898651123, 0.1554064154624939, 0.15653705596923828, 0.14807340502738953], 'val_acc': [0.6534296274185181, 0.6931408047676086, 0.7111913561820984, 0.7472923994064331, 0.7689530849456787, 0.8050541281700134, 0.8158844709396362, 0.8122743964195251, 0.826714813709259, 0.8231046795845032, 0.826714813709259, 0.8375450968742371, 0.8050541281700134, 0.8519855737686157, 0.8555956482887268, 0.8592057824134827, 0.8519855737686157, 0.8592057824134827, 0.8592057824134827, 0.8736461997032166, 0.8628158569335938, 0.8664259910583496, 0.8700361251831055, 0.8700361251831055, 0.8844765424728394, 0.8772563338279724, 0.8880866169929504, 0.8916967511177063, 0.8844765424728394, 0.8880866169929504, 0.8880866169929504, 0.8844765424728394, 0.9241877198219299, 0.8953068852424622, 0.916967511177063, 0.9314079284667969, 0.916967511177063, 0.9241877198219299, 0.9277978539466858, 0.9241877198219299, 0.9314079284667969, 0.9422382712364197, 0.9386281371116638, 0.9386281371116638, 0.9458483457565308, 0.9494584798812866, 0.9458483457565308, 0.9422382712364197, 0.9494584798812866, 0.9530686140060425]}\n"
          ]
        }
      ]
    },
    {
      "cell_type": "code",
      "metadata": {
        "colab": {
          "base_uri": "https://localhost:8080/",
          "height": 544
        },
        "id": "fft5OF5ajOeg",
        "outputId": "f3bcec77-710a-4234-d7ef-2d067a9798bc"
      },
      "source": [
        "plt.plot(history.history['loss'])\n",
        "plt.plot(history.history['val_loss'])\n",
        "# plt.plot(history.history['acc'])\n",
        "# plt.plot(history.history['val_acc'])"
      ],
      "execution_count": null,
      "outputs": [
        {
          "output_type": "execute_result",
          "data": {
            "text/plain": [
              "[<matplotlib.lines.Line2D at 0x7f51f361e7d0>]"
            ]
          },
          "metadata": {},
          "execution_count": 26
        },
        {
          "output_type": "display_data",
          "data": {
            "text/plain": [
              "<Figure size 800x600 with 1 Axes>"
            ],
            "image/png": "[encoded data removed]"
          },
          "metadata": {}
        }
      ]
    },
    {
      "cell_type": "code",
      "source": [
        "plt.plot(history.history['acc'])\n",
        "plt.plot(history.history['val_acc'])"
      ],
      "metadata": {
        "colab": {
          "base_uri": "https://localhost:8080/",
          "height": 548
        },
        "id": "z2Wjn_b0D1gW",
        "outputId": "69ce8939-9fda-483b-81a8-7f424be5b338"
      },
      "execution_count": null,
      "outputs": [
        {
          "output_type": "execute_result",
          "data": {
            "text/plain": [
              "[<matplotlib.lines.Line2D at 0x7f51f378be80>]"
            ]
          },
          "metadata": {},
          "execution_count": 27
        },
        {
          "output_type": "display_data",
          "data": {
            "text/plain": [
              "<Figure size 800x600 with 1 Axes>"
            ],
            "image/png": "[encoded data removed]"
          },
          "metadata": {}
        }
      ]
    },
    {
      "cell_type": "code",
      "metadata": {
        "id": "nbQsm7CLhSF1",
        "colab": {
          "base_uri": "https://localhost:8080/"
        },
        "outputId": "2ccf5166-3b6b-45e3-a040-ea1aa0e2824d"
      },
      "source": [
        "score = model.evaluate(X_test, y_test, verbose=1)\n",
        "\n",
        "print(\"Test Accuracy:\", score[1])"
      ],
      "execution_count": null,
      "outputs": [
        {
          "output_type": "stream",
          "name": "stdout",
          "text": [
            "11/11 [==============================] - 0s 4ms/step - loss: 0.1383 - acc: 0.9595\n",
            "Test Accuracy: 0.9595375657081604\n"
          ]
        }
      ]
    },
    {
      "cell_type": "code",
      "metadata": {
        "id": "3Mrx0sguyASu"
      },
      "source": [
        "model.save('classification_model')"
      ],
      "execution_count": null,
      "outputs": []
    },
    {
      "cell_type": "code",
      "metadata": {
        "id": "gXAKwqThyKpm",
        "colab": {
          "base_uri": "https://localhost:8080/"
        },
        "outputId": "952f6d58-883c-49af-ed55-84697f0eaa60"
      },
      "source": [
        "! ls"
      ],
      "execution_count": null,
      "outputs": [
        {
          "output_type": "stream",
          "name": "stdout",
          "text": [
            "car_evaluation.csv  classification_model  petrol_consumption.csv  sample_data\n"
          ]
        }
      ]
    },
    {
      "cell_type": "code",
      "metadata": {
        "id": "kptVvFQNyQqX"
      },
      "source": [
        "reloaded_model = tf.keras.models.load_model('classification_model')"
      ],
      "execution_count": null,
      "outputs": []
    },
    {
      "cell_type": "code",
      "metadata": {
        "id": "lczh2RO7yZDO",
        "colab": {
          "base_uri": "https://localhost:8080/"
        },
        "outputId": "bdff9e1e-7935-4bc2-a0a9-fee2ebdfde50"
      },
      "source": [
        "score = reloaded_model.evaluate(X_test, y_test, verbose=1)\n",
        "\n",
        "print(\"Test Accuracy:\", score[1])"
      ],
      "execution_count": null,
      "outputs": [
        {
          "output_type": "stream",
          "name": "stdout",
          "text": [
            "11/11 [==============================] - 0s 5ms/step - loss: 0.1383 - acc: 0.9595\n",
            "Test Accuracy: 0.9595375657081604\n"
          ]
        }
      ]
    },
    {
      "cell_type": "code",
      "metadata": {
        "colab": {
          "base_uri": "https://localhost:8080/"
        },
        "id": "90goBfr-j2jF",
        "outputId": "67823bbf-db72-401c-a811-9b57b1acdbcc"
      },
      "source": [
        "print (reloaded_model)"
      ],
      "execution_count": null,
      "outputs": [
        {
          "output_type": "stream",
          "name": "stdout",
          "text": [
            "<keras.engine.functional.Functional object at 0x7f51f373d840>\n"
          ]
        }
      ]
    },
    {
      "cell_type": "code",
      "metadata": {
        "colab": {
          "base_uri": "https://localhost:8080/"
        },
        "id": "pOtc8wsaj7fd",
        "outputId": "ac61b495-f261-4185-ba19-75547754f62a"
      },
      "source": [
        "for layer in reloaded_model.layers:\n",
        "    print(layer.get_config())\n",
        "    print(layer.get_weights())"
      ],
      "execution_count": null,
      "outputs": [
        {
          "output_type": "stream",
          "name": "stdout",
          "text": [
            "{'batch_input_shape': (None, 21), 'dtype': 'float32', 'sparse': False, 'ragged': False, 'name': 'input_2'}\n",
            "[]\n",
            "{'name': 'dense_4', 'trainable': True, 'dtype': 'float32', 'units': 15, 'activation': 'tanh', 'use_bias': True, 'kernel_initializer': {'class_name': 'GlorotUniform', 'config': {'seed': None}}, 'bias_initializer': {'class_name': 'Zeros', 'config': {}}, 'kernel_regularizer': None, 'bias_regularizer': None, 'activity_regularizer': None, 'kernel_constraint': None, 'bias_constraint': None}\n",
            "[array([[ 9.97497439e-02,  4.13118660e-01, -2.65152186e-01,\n",
            "         4.71384466e-01, -2.53294319e-01, -7.40927011e-02,\n",
            "         3.61232013e-01, -4.47996557e-01, -2.67167628e-01,\n",
            "         1.43751368e-01, -1.88543469e-01,  9.71070051e-01,\n",
            "        -1.88289106e-01,  7.88927972e-02,  1.95060223e-01],\n",
            "       [ 9.85411741e-03,  8.78757611e-03, -2.59334564e-01,\n",
            "        -4.28427219e-01,  4.30202693e-01, -1.80715501e-01,\n",
            "        -6.79595619e-02, -1.46693707e-01, -5.29263541e-02,\n",
            "        -1.64432779e-01,  1.22778043e-02, -4.28935766e-01,\n",
            "         3.99375647e-01,  2.59366810e-01, -5.33517525e-02],\n",
            "       [ 1.05336793e-01, -2.23589212e-01,  3.37558538e-02,\n",
            "        -3.75277959e-02, -1.91203989e-02,  3.55197430e-01,\n",
            "        -3.88584942e-01,  1.84509709e-01,  8.40195268e-03,\n",
            "         3.80489856e-01, -4.71834868e-01, -4.54892814e-02,\n",
            "         2.85184085e-01,  1.00956678e-01, -3.06732714e-01],\n",
            "       [ 3.18557441e-01,  4.13192064e-01,  2.83094078e-01,\n",
            "         8.75960946e-01, -1.36076614e-01,  5.81620872e-01,\n",
            "         1.45251319e-01, -1.15410030e-01, -2.97264218e-01,\n",
            "         5.40909171e-01,  6.29429072e-02,  4.84902054e-01,\n",
            "        -4.53810245e-01,  1.46184102e-01,  2.94370562e-01],\n",
            "       [-7.71008283e-02,  7.95287895e-04,  3.07397634e-01,\n",
            "         6.52627468e-01, -2.48858929e-02, -3.38915586e-02,\n",
            "         1.79229975e-01, -4.77814004e-02, -2.36650512e-01,\n",
            "         4.21697408e-01, -1.20295487e-01,  6.13840163e-01,\n",
            "        -1.23351365e-01,  2.87718803e-01,  7.05086589e-02],\n",
            "       [-3.05812448e-01, -5.98412454e-02,  1.52483761e-01,\n",
            "        -2.83577204e-01, -2.10474312e-01,  3.04519624e-01,\n",
            "        -2.67068475e-01,  1.76452875e-01,  5.58286719e-02,\n",
            "         1.27222389e-01, -1.92655116e-01, -6.61182106e-01,\n",
            "         2.57865638e-01,  1.92471128e-02, -3.56302410e-01],\n",
            "       [-2.09286734e-01, -1.72730535e-01, -2.63533711e-01,\n",
            "        -2.05532148e-01, -5.65489084e-02,  2.98240274e-01,\n",
            "        -2.83506274e-01, -4.90489513e-01,  6.95801601e-02,\n",
            "         1.40098959e-01,  3.29964445e-03, -1.56895444e-01,\n",
            "        -2.42205679e-01,  1.20908633e-01, -3.06254596e-01],\n",
            "       [ 1.60442695e-01,  2.28791803e-01, -3.07358447e-02,\n",
            "         8.39509308e-01, -3.91505063e-01,  6.92868173e-01,\n",
            "         1.84824929e-01, -1.79020733e-01, -7.48078004e-02,\n",
            "         1.73225448e-01,  1.50375888e-01,  2.18840629e-01,\n",
            "        -3.71994317e-01, -4.08488572e-01,  4.25469518e-01],\n",
            "       [ 3.05468261e-01, -3.75877827e-01,  2.06134096e-01,\n",
            "        -1.80183738e-01,  2.18890861e-01,  7.23253965e-01,\n",
            "        -5.84942475e-02,  1.18540443e-01, -1.33684531e-01,\n",
            "         2.65329689e-01, -1.61763132e-01,  1.13299474e-01,\n",
            "        -4.26327407e-01, -3.94654810e-01,  3.89121920e-01],\n",
            "       [-4.02946845e-02,  8.22197367e-03,  1.60273612e-01,\n",
            "        -1.18699141e-01, -5.99158332e-02, -7.97205716e-02,\n",
            "         2.56588131e-01, -5.68141997e-01, -1.16423920e-01,\n",
            "        -2.48813145e-02,  2.95137733e-01,  3.27610731e-01,\n",
            "        -3.10367346e-01,  2.78076008e-02,  1.40555218e-01],\n",
            "       [ 3.53927761e-01, -1.09725725e-03,  1.29963532e-01,\n",
            "         9.66901928e-02,  3.06940109e-01, -3.01044900e-02,\n",
            "        -3.71613950e-01,  1.14551827e-01, -1.50965676e-01,\n",
            "         1.80188566e-01, -2.80096643e-02,  3.03439558e-01,\n",
            "        -2.45284498e-01, -2.30081394e-01,  5.50685674e-02],\n",
            "       [ 1.76433861e-01,  1.44506335e-01,  1.03831619e-01,\n",
            "         2.48740837e-01, -1.48791615e-02,  2.35858187e-01,\n",
            "         3.60209085e-02, -9.77382213e-02, -2.99961381e-02,\n",
            "         2.73467153e-01, -1.73716664e-01,  3.12348932e-01,\n",
            "         4.18271422e-02, -2.41815358e-01, -2.16260715e-03],\n",
            "       [ 5.15212595e-01,  2.38175973e-01,  5.57361662e-01,\n",
            "        -4.12069499e-01, -4.21620607e-01,  4.88949835e-01,\n",
            "         2.56339312e-01,  2.68763125e-01, -5.12730479e-01,\n",
            "         1.10336684e-01,  4.74289536e-01,  6.78895175e-01,\n",
            "        -6.12819135e-01, -7.47860849e-01,  9.80997384e-01],\n",
            "       [-2.33607545e-01,  1.18250521e-02, -4.81200069e-01,\n",
            "        -1.65966198e-01, -9.64698121e-02,  3.30985099e-01,\n",
            "        -4.20911498e-02, -5.88982463e-01, -1.73743635e-01,\n",
            "         2.42040709e-01,  9.77197737e-02, -2.03604102e-01,\n",
            "         4.76180576e-02,  1.31487727e-01, -1.20181181e-01],\n",
            "       [-2.23392680e-01, -8.96118730e-02, -1.96317777e-01,\n",
            "        -2.42965370e-02, -5.28612733e-01, -3.42707247e-01,\n",
            "        -7.07767904e-02, -2.99120933e-01, -2.99054444e-01,\n",
            "         2.93398589e-01, -2.78122604e-01, -2.22751081e-01,\n",
            "         7.11033717e-02,  8.66859108e-02,  1.16663016e-02],\n",
            "       [-3.60379405e-02, -1.68506429e-02,  8.68139789e-02,\n",
            "         5.31731486e-01,  8.45656171e-02, -1.57602295e-01,\n",
            "         1.85681418e-01, -4.72447932e-01, -1.54916406e-01,\n",
            "         4.72406745e-02,  1.72445942e-02, -1.01082794e-01,\n",
            "         8.75572041e-02,  2.01521397e-01,  2.18774974e-01],\n",
            "       [-1.19151600e-01,  3.44564676e-01,  3.30976576e-01,\n",
            "         9.18053538e-02, -4.57957834e-01, -3.47715288e-01,\n",
            "         4.11188155e-01, -2.81374484e-01,  4.28054780e-02,\n",
            "        -1.48760751e-01, -2.27015768e-03,  8.22042599e-02,\n",
            "        -1.41743109e-01,  2.03180939e-01, -6.38569668e-02],\n",
            "       [ 5.03260434e-01,  2.26253808e-01, -9.40167755e-02,\n",
            "        -4.30448651e-01, -2.00523958e-01,  1.38036758e-02,\n",
            "         4.31787074e-01,  1.42595366e-01, -7.37211108e-02,\n",
            "         7.58324325e-01, -3.61509979e-01,  5.24809547e-02,\n",
            "        -3.32367867e-01, -4.02491003e-01,  1.16983838e-02],\n",
            "       [-2.58929074e-01, -9.67442468e-02, -3.12965930e-01,\n",
            "         5.26091695e-01, -3.52253504e-02, -9.82675049e-03,\n",
            "         3.83726284e-02, -4.41306651e-01,  5.86083829e-01,\n",
            "         4.67476755e-01, -4.72342938e-01, -4.90179002e-01,\n",
            "         3.19178671e-01,  1.87866122e-01, -4.74847674e-01],\n",
            "       [ 6.30730867e-01,  1.77806690e-01,  3.25793952e-01,\n",
            "        -4.61499989e-01, -2.53524363e-01,  4.05719995e-01,\n",
            "         4.29823816e-01,  2.88140833e-01, -2.32196763e-01,\n",
            "         3.73384207e-01,  7.14908004e-01,  7.48461246e-01,\n",
            "        -3.07080895e-01, -4.35035408e-01,  2.19513595e-01],\n",
            "       [-1.53408840e-01,  1.80764332e-01, -3.79752666e-01,\n",
            "        -3.72600347e-01, -8.55519652e-01,  1.04102775e-01,\n",
            "        -2.70063460e-01, -1.62454396e-01, -4.03844178e-01,\n",
            "        -1.05035134e-01, -6.79398060e-01, -1.44731984e-01,\n",
            "         2.96900332e-01,  2.11188450e-01,  2.35393047e-02]], dtype=float32), array([ 0.05589552,  0.18109895,  0.06818799,  0.01788356, -0.17435893,\n",
            "        0.17134173, -0.02171871, -0.11703788, -0.20357281,  0.1240905 ,\n",
            "       -0.11813451,  0.133376  , -0.10725211, -0.01573427,  0.16039535],\n",
            "      dtype=float32)]\n",
            "{'name': 'dense_5', 'trainable': True, 'dtype': 'float32', 'units': 10, 'activation': 'relu', 'use_bias': True, 'kernel_initializer': {'class_name': 'GlorotUniform', 'config': {'seed': None}}, 'bias_initializer': {'class_name': 'Zeros', 'config': {}}, 'kernel_regularizer': None, 'bias_regularizer': None, 'activity_regularizer': None, 'kernel_constraint': None, 'bias_constraint': None}\n",
            "[array([[ 0.44328973,  0.09601337, -0.46397123, -0.4151531 , -0.31785268,\n",
            "         0.0668359 ,  0.44227314, -0.04242656,  0.77550143,  0.40243822],\n",
            "       [ 0.297214  ,  0.3907284 , -0.10151292,  0.40028816, -0.15421863,\n",
            "         0.6113383 ,  0.82904154, -0.18838632,  0.538242  ,  0.7578073 ],\n",
            "       [ 0.72695243, -0.79338753, -0.59186465, -0.2600734 , -0.4167738 ,\n",
            "         0.7783264 ,  0.6298565 , -0.01474302,  0.5480215 , -0.01778386],\n",
            "       [ 0.01484292,  0.8679702 , -0.6864888 ,  0.673593  ,  1.091316  ,\n",
            "        -0.23107257,  0.2539215 ,  0.0012525 , -0.45082363,  0.22432135],\n",
            "       [-0.2817509 , -0.5094844 , -0.70780534,  0.2642363 ,  0.34727603,\n",
            "         0.1502508 , -0.8718083 ,  0.35867107, -0.37565717, -0.77672267],\n",
            "       [ 0.27535698, -0.44494066,  0.14008498, -0.231271  , -0.10275351,\n",
            "         0.5461063 ,  0.63576674, -0.4581033 ,  0.400065  ,  0.35424617],\n",
            "       [ 0.44601607, -0.5086075 ,  0.24438734, -0.38725427, -0.07554724,\n",
            "         0.47365105,  0.10562317,  0.4070197 ,  0.11745959,  0.32702565],\n",
            "       [-0.11683639, -0.12977785, -0.58186406, -0.34371418, -0.44858965,\n",
            "         0.20453168, -0.17217307,  0.43090555, -0.36841384,  0.01885749],\n",
            "       [-0.27153212, -0.07982415, -0.45624727, -0.02911799, -0.01457404,\n",
            "        -0.06683267, -0.4341549 ,  0.15528204, -0.80194294, -0.26615688],\n",
            "       [ 0.07619098,  0.42358238, -0.2200042 ,  0.5383233 ,  0.37746966,\n",
            "         0.02810073,  0.3686611 ,  0.02684924,  0.66738534,  0.07795697],\n",
            "       [ 0.6751    ,  0.18018554, -0.60908777, -0.66870385, -0.13875341,\n",
            "         0.0357312 ,  0.22831658,  0.08499967, -0.37901843, -0.5186445 ],\n",
            "       [ 0.7731684 , -0.19511671, -0.26557368, -0.3968575 ,  0.57721674,\n",
            "         1.1889534 ,  0.80410606,  0.0699239 ,  0.222459  ,  0.8066259 ],\n",
            "       [-0.22013326,  0.33237347,  0.4589167 ,  0.5119628 , -0.13205646,\n",
            "        -0.23253635, -0.87612647,  0.26840645, -0.42699468, -0.76274073],\n",
            "       [-0.4756415 ,  0.4988219 , -0.18006709,  0.99287474,  0.485697  ,\n",
            "        -0.5905914 , -0.07019521, -0.33119637, -0.39320078, -0.35456544],\n",
            "       [ 0.40820745,  0.00207051, -0.5764534 , -0.59059936, -0.09804876,\n",
            "         0.78480756,  0.34116113, -0.00461493,  0.7754021 ,  0.4152265 ]],\n",
            "      dtype=float32), array([-0.00966839,  0.02253986,  0.1956655 ,  0.14279422, -0.00064072,\n",
            "        0.03932234,  0.4532423 , -0.04524752,  0.19840698,  0.22906493],\n",
            "      dtype=float32)]\n",
            "{'name': 'dense_6', 'trainable': True, 'dtype': 'float32', 'units': 4, 'activation': 'softmax', 'use_bias': True, 'kernel_initializer': {'class_name': 'GlorotUniform', 'config': {'seed': None}}, 'bias_initializer': {'class_name': 'Zeros', 'config': {}}, 'kernel_regularizer': None, 'bias_regularizer': None, 'activity_regularizer': None, 'kernel_constraint': None, 'bias_constraint': None}\n",
            "[array([[-0.93494326, -0.79323214,  0.92589414,  0.09064063],\n",
            "       [ 0.52366614,  0.13179559, -0.8902305 ,  0.86300415],\n",
            "       [-0.13743815,  0.83359766, -0.47677323, -0.29273835],\n",
            "       [ 0.02878687,  0.15002471, -0.9676314 ,  0.6833847 ],\n",
            "       [ 0.6728653 , -0.6881574 , -0.25529912,  0.6076645 ],\n",
            "       [-1.3146561 , -0.63999355,  0.5359089 , -0.7930384 ],\n",
            "       [ 0.00983996, -0.89973867,  0.33326083, -1.4155571 ],\n",
            "       [ 0.19664745, -0.6083277 , -0.33092356, -0.22521092],\n",
            "       [ 0.3542837 , -0.11715701,  0.81041294, -0.80113316],\n",
            "       [ 0.8702211 , -1.2575814 ,  0.69081604, -0.8430276 ]],\n",
            "      dtype=float32), array([-0.12931412,  0.09286983,  0.04379956, -0.03684074], dtype=float32)]\n"
          ]
        }
      ]
    },
    {
      "cell_type": "markdown",
      "metadata": {
        "id": "o5DmvfhuhaVJ"
      },
      "source": [
        "## Saving the Model"
      ]
    },
    {
      "cell_type": "code",
      "metadata": {
        "id": "qknWkadKhc_y",
        "colab": {
          "base_uri": "https://localhost:8080/",
          "height": 237
        },
        "outputId": "7e936cd6-b20b-40af-e960-5dff85875066"
      },
      "source": [
        "# Create a simple model\n",
        "model = tf.keras.Sequential([\n",
        "  layers.Dense(10, activation='relu', input_shape=(32,)),\n",
        "  layers.Dense(10)\n",
        "])\n",
        "model.compile(optimizer='rmsprop',\n",
        "              loss=tf.keras.losses.CategoricalCrossentropy(from_logits=True),\n",
        "              metrics=['accuracy'])\n",
        "model.fit(data, labels, batch_size=32, epochs=5)\n",
        "\n",
        "\n",
        "# Save entire model to a HDF5 file\n",
        "model.save('my_model.h5')\n",
        "\n",
        "# Recreate the exact same model, including weights and optimizer.\n",
        "model = tf.keras.models.load_model('my_model.h5')"
      ],
      "execution_count": null,
      "outputs": [
        {
          "output_type": "error",
          "ename": "NameError",
          "evalue": "ignored",
          "traceback": [
            "\u001b[0;31m---------------------------------------------------------------------------\u001b[0m",
            "\u001b[0;31mNameError\u001b[0m                                 Traceback (most recent call last)",
            "\u001b[0;32m<ipython-input-51-bc06ef02757f>\u001b[0m in \u001b[0;36m<module>\u001b[0;34m()\u001b[0m\n\u001b[1;32m      1\u001b[0m \u001b[0;31m# Create a simple model\u001b[0m\u001b[0;34m\u001b[0m\u001b[0;34m\u001b[0m\u001b[0;34m\u001b[0m\u001b[0m\n\u001b[1;32m      2\u001b[0m model = tf.keras.Sequential([\n\u001b[0;32m----> 3\u001b[0;31m   \u001b[0mlayers\u001b[0m\u001b[0;34m.\u001b[0m\u001b[0mDense\u001b[0m\u001b[0;34m(\u001b[0m\u001b[0;36m10\u001b[0m\u001b[0;34m,\u001b[0m \u001b[0mactivation\u001b[0m\u001b[0;34m=\u001b[0m\u001b[0;34m'relu'\u001b[0m\u001b[0;34m,\u001b[0m \u001b[0minput_shape\u001b[0m\u001b[0;34m=\u001b[0m\u001b[0;34m(\u001b[0m\u001b[0;36m32\u001b[0m\u001b[0;34m,\u001b[0m\u001b[0;34m)\u001b[0m\u001b[0;34m)\u001b[0m\u001b[0;34m,\u001b[0m\u001b[0;34m\u001b[0m\u001b[0;34m\u001b[0m\u001b[0m\n\u001b[0m\u001b[1;32m      4\u001b[0m   \u001b[0mlayers\u001b[0m\u001b[0;34m.\u001b[0m\u001b[0mDense\u001b[0m\u001b[0;34m(\u001b[0m\u001b[0;36m10\u001b[0m\u001b[0;34m)\u001b[0m\u001b[0;34m\u001b[0m\u001b[0;34m\u001b[0m\u001b[0m\n\u001b[1;32m      5\u001b[0m ])\n",
            "\u001b[0;31mNameError\u001b[0m: name 'layers' is not defined"
          ]
        }
      ]
    },
    {
      "cell_type": "markdown",
      "metadata": {
        "id": "_9JHSajkhkGy"
      },
      "source": [
        "Remember that TensorFlow and Keras don't represent a single workflow. It's a spectrum of workflows, each with its own trade-off between usability and flexibility. For instance, you've noticed that it's much easier to use fit than to write a custom training loop, but fit doesn't give you the same level of granular control for research use cases.\n",
        "\n",
        "So use the right tool for the job!\n",
        "\n",
        "A core principle of Keras is \"progressive disclosure of complexity\": it's easy to get started, and you can gradually dive into workflows where you write more and more logic from scratch, providing you with complete control.\n",
        "\n",
        "This applies to both model definition, and model training."
      ]
    }
  ]
}