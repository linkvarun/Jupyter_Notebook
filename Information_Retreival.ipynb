{
  "nbformat": 4,
  "nbformat_minor": 0,
  "metadata": {
    "colab": {
      "provenance": [],
      "include_colab_link": true
    },
    "kernelspec": {
      "name": "python3",
      "display_name": "Python 3"
    }
  },
  "cells": [
    {
      "cell_type": "markdown",
      "metadata": {
        "id": "view-in-github",
        "colab_type": "text"
      },
      "source": [
        "<a href=\"https://colab.research.google.com/github/linkvarun/Jupyter_Notebook/blob/master/Information_Retreival.ipynb\" target=\"_parent\"><img src=\"https://colab.research.google.com/assets/colab-badge.svg\" alt=\"Open In Colab\"/></a>"
      ]
    },
    {
      "cell_type": "markdown",
      "metadata": {
        "id": "mJN3DLwqYVTp"
      },
      "source": [
        "**Information retrieval** (IR) is the activity of obtaining information system resources that are relevant to an information need from a collection of those resources. Searches can be based on full-text or other content-based indexing. Information retrieval is the science of searching for information in a document, searching for documents themselves, and also searching for the metadata that describes data, and for databases of texts, images or sounds.  Web search engines are the most visible IR applications."
      ]
    },
    {
      "cell_type": "markdown",
      "metadata": {
        "id": "TsFMco0DZHVW"
      },
      "source": [
        "An information retrieval process begins when a user enters a query into the system. Queries are formal statements of information needs, for example search strings in web search engines. In information retrieval a query does not uniquely identify a single object in the collection. Instead, several objects may match the query, perhaps with different degrees of relevancy.\n",
        "\n",
        "An object is an entity that is represented by information in a content collection or database. User queries are matched against the database information. However, as opposed to classical SQL queries of a database, in information retrieval the results returned may or may not match the query, so results are typically ranked. This ranking of results is a key difference of information retrieval searching compared to database searching.\n",
        "\n",
        "Depending on the application the data objects may be, for example, text documents, images, audio, mind maps or videos. Often the documents themselves are not kept or stored directly in the IR system, but are instead represented in the system by document surrogates or metadata.\n",
        "\n",
        "Most IR systems compute a numeric score on how well each object in the database matches the query, and rank the objects according to this value. The top ranking objects are then shown to the user. The process may then be iterated if the user wishes to refine the query."
      ]
    },
    {
      "cell_type": "markdown",
      "metadata": {
        "id": "6QKi3DE6f7ul"
      },
      "source": [
        "Where is Information Retrieval used?\n",
        "\n",
        "**Use Case 1: Digital Library**\n",
        "\n",
        "A digital library is a library in which collection of data are stored in digital formats and accessible by computers. The digital content may be stored locally, or accessed remotely via computer networks. A digital library is a type of information retrieval system.\n",
        "\n",
        "**Use Case 2: Search Engine**\n",
        "\n",
        "A search engine is one of the most the practical applications of information retrieval techniques to large scale text collections.\n",
        "\n",
        "**Use Case 3**: **Image retrieval**\n",
        "\n",
        "An image retrieval system is a computer system for browsing, searching and retrieving images from a large database of digital images."
      ]
    },
    {
      "cell_type": "markdown",
      "metadata": {
        "id": "MYky9MYtYQ2l"
      },
      "source": [
        "![alt text](https://jamesmccaffrey.files.wordpress.com/2016/10/precisionandrecall_informationretrieval.jpg)"
      ]
    },
    {
      "cell_type": "markdown",
      "metadata": {
        "id": "RbJB_MeHb8JC"
      },
      "source": [
        "**Finding Similar Documents**: A reader is interested in a specific news article and you want to find similar articles to recommend. What is the right notion of similarity? Moreover, what if there are millions of other documents? Each time you want to a retrieve a new document, do you need to search through all other documents? How do you group similar documents together? How do you discover new, emerging topics that the documents cover?"
      ]
    },
    {
      "cell_type": "markdown",
      "metadata": {
        "id": "_pantf7DLsR4"
      },
      "source": [
        "## Case Study : Retrieving Similar Publications @ UNM College of Pharmacy and School of Medicine"
      ]
    },
    {
      "cell_type": "markdown",
      "metadata": {
        "id": "s6qn54IBL4gC"
      },
      "source": [
        "**Goal: Find similar papers using Title and Abstract text**\n",
        "\n",
        "In this case we will use Pandas, NLTK, Numpy, and SKLearn libraries to find similar articles published in PubMed using k-Nearest Neighbors.\n",
        "\n",
        "Steps:\n",
        "* Find the important keywords of each document using tf-idf\n",
        "* Apply knn_model on tf-idf to find similar papers\n",
        "* Cleaning:\n",
        "\n",
        " * Clean text from \\n and \\x things like that by Replacing \\n and \\x with white-spaces\n",
        "\n",
        " * Apply unicode\n",
        "\n",
        " * Make everything lower case"
      ]
    },
    {
      "cell_type": "code",
      "metadata": {
        "id": "wFbmtrScKpj7",
        "colab": {
          "base_uri": "https://localhost:8080/"
        },
        "outputId": "fa257ceb-388a-489c-99aa-087cef6e084e"
      },
      "source": [
        "! pip install biopython"
      ],
      "execution_count": null,
      "outputs": [
        {
          "output_type": "stream",
          "name": "stdout",
          "text": [
            "Looking in indexes: https://pypi.org/simple, https://us-python.pkg.dev/colab-wheels/public/simple/\n",
            "Collecting biopython\n",
            "  Downloading biopython-1.81-cp38-cp38-manylinux_2_17_x86_64.manylinux2014_x86_64.whl (3.1 MB)\n",
            "\u001b[2K     \u001b[90m━━━━━━━━━━━━━━━━━━━━━━━━━━━━━━━━━━━━━━━━\u001b[0m \u001b[32m3.1/3.1 MB\u001b[0m \u001b[31m38.1 MB/s\u001b[0m eta \u001b[36m0:00:00\u001b[0m\n",
            "\u001b[?25hRequirement already satisfied: numpy in /usr/local/lib/python3.8/dist-packages (from biopython) (1.22.4)\n",
            "Installing collected packages: biopython\n",
            "Successfully installed biopython-1.81\n"
          ]
        }
      ]
    },
    {
      "cell_type": "code",
      "metadata": {
        "id": "DQEge78QLyq7"
      },
      "source": [
        "import pandas as pd\n",
        "import sklearn\n",
        "import numpy as np\n",
        "import nltk\n",
        "import re\n",
        "from Bio import Medline"
      ],
      "execution_count": null,
      "outputs": []
    },
    {
      "cell_type": "markdown",
      "metadata": {
        "id": "kb18KSZvNc5Z"
      },
      "source": [
        "Downloading paper abstracts\n",
        "First we must download text data that we are interested in using. To do this we will use articles indexed in pubmed.gov. For this notebook we are interested only in article published from the University of New Mexico College of Pharmacy and School of Medicine. Pubmed allows the use of filters/keywords to restrict your search to certain institutions. Retrieve articles affiliated with UNM CoP and SoM by using the following search string \"university of new mexico\"[AD] AND (\"pharmacy\"[AD] OR \"medicine\"[AD])\n",
        "\n",
        "Steps:\n",
        "\n",
        "* Navigate to pubmed.gov\n",
        "* Enter \"university of new mexico\"[AD] AND (\"pharmacy\"[AD] OR \"medicine\"[AD]) into the search box\n",
        "*Click 'Send to:' and choose 'File' and 'Format: MEDLINE'\n",
        "*Click 'Create File'\n",
        "\n",
        "As of 10 Oct 2019  there are a total of 8,315 articles found matching this search criteria. A file called pubmed_result.txt should have been saved to your computer. This file contains all of the articles matching the search criteria in MEDLINE format."
      ]
    },
    {
      "cell_type": "markdown",
      "metadata": {
        "id": "44ZL_vQjN4yb"
      },
      "source": [
        "\n",
        "**Lets import the article data**"
      ]
    },
    {
      "cell_type": "code",
      "metadata": {
        "id": "zfdSzcgkODhR"
      },
      "source": [
        "# Function that uses the Medline module from\n",
        "# the Biopython library to parse and read MEDLINE\n",
        "# formatted files. Results are stored in a Pandas\n",
        "# DataFrame\n",
        "def read_medline_data(filename):\n",
        "    recs = Medline.parse(open(filename, 'r'))\n",
        "    text = pd.DataFrame(columns = [\"title\", \"authors\", \"abstract\"])\n",
        "    count = 0\n",
        "    for rec in recs:\n",
        "        try:\n",
        "            abstr = rec[\"AB\"]\n",
        "            title = rec[\"TI\"]\n",
        "            auths = rec[\"AU\"]\n",
        "            text = text.append(pd.DataFrame([[title, auths, abstr]],\n",
        "                                     columns=['title', 'authors', 'abstract']),\n",
        "                              ignore_index=True)\n",
        "        except:\n",
        "            pass\n",
        "    return text"
      ],
      "execution_count": null,
      "outputs": []
    },
    {
      "cell_type": "code",
      "metadata": {
        "id": "DGe4NkMaObUt",
        "colab": {
          "base_uri": "https://localhost:8080/",
          "height": 833
        },
        "outputId": "9b7d9d3e-1e09-4c10-99df-16c427effc3e"
      },
      "source": [
        "# Read in MEDLINE formatted text\n",
        "papers = read_medline_data(\"/content/pubmed_result.txt\")\n",
        "\n",
        "# Show the top few papers\n",
        "papers.head(25)"
      ],
      "execution_count": null,
      "outputs": [
        {
          "output_type": "execute_result",
          "data": {
            "text/plain": [
              "                                                title  \\\n",
              "0   Peer-Centered Versus Standard Physician-Center...   \n",
              "1   ISOPT Clinical Hot Topic Panel Discussion on C...   \n",
              "2   Speed and quality goals in procedural skills l...   \n",
              "3   Amphotericin B Penetrates into the Central Ner...   \n",
              "4   A contemporary review of obstructive sleep apnea.   \n",
              "5   [EXPRESS] Sustained Relief of Trigeminal Neuro...   \n",
              "6   MutEx: a multifaceted gateway for exploring in...   \n",
              "7   A Resting-State Network Comparison of Combat-R...   \n",
              "8   Organizational strategies to reduce physician ...   \n",
              "9   Early life risk factors of motor, cognitive an...   \n",
              "10  Novel Approaches to Hasten Detection of Pathog...   \n",
              "11       Can BDDCS illuminate targets in drug design?   \n",
              "12  Effect of Norepinephrine on Intracellular Ca(2...   \n",
              "13  Racial and ethnic disparities in surgical ampu...   \n",
              "14  Smoking Is Associated with Pain in All Body Re...   \n",
              "15  Atypical presentations of congenital hemangiom...   \n",
              "16  Correlation between Biological Effective Dose ...   \n",
              "17  Intensity modulated radiation therapy followin...   \n",
              "18  Tissue-Engineered Soft-Tissue Reconstruction U...   \n",
              "19  The Rise of Nontenured Faculty in Obstetrics a...   \n",
              "20  Technology-Delivered Cognitive-Behavioral Inte...   \n",
              "21  What are the challenges in commercial non-tube...   \n",
              "22  Family, School, and Peer Support Are Associate...   \n",
              "23  Germline-Encoded Affinity for Cognate Antigen ...   \n",
              "24  Brain Changes Induced by Electroconvulsive The...   \n",
              "\n",
              "                                              authors  \\\n",
              "0   [Krantz TE, Rogers RG, Petersen TR, Dunivan GC...   \n",
              "1   [Asbell PA, Aquavella JV, Hamrah P, Pepose JS,...   \n",
              "2   [Cook DA, Gas BL, Pankratz VS, Farley DR, Pusi...   \n",
              "3   [Petraitis V, Petraitiene R, Valdez JM, Pyrgos...   \n",
              "4                                [Ralls F, Cutchen L]   \n",
              "5       [Zhang M, Hu M, Montera MA, Westlund KN High]   \n",
              "6   [Ping J, Oyebamiji O, Yu H, Ness S, Chien J, Y...   \n",
              "7   [Vanasse TJ, Franklin C, Salinas FS, Ramage AE...   \n",
              "8   [Olson K, Marchalik D, Farley H, Dean SM, Lawr...   \n",
              "9   [Sania A, Sudfeld CR, Danaei G, Fink G, McCoy ...   \n",
              "10             [Guillamet MCV, Burnham JP, Kollef MH]   \n",
              "11                      [Bocci G, Benet LZ, Oprea TI]   \n",
              "12  [Perry SM, Muldoon S, Michaelson LP, Bunger R,...   \n",
              "13                       [Carvour ML, Chiu A, Page K]   \n",
              "14  [Smuck M, Schneider BJ, Ehsanian R, Martin E, ...   \n",
              "15  [West ES, Totoraitis K, Yadav B, Kirkorian AY,...   \n",
              "16  [Bergamo AM, Kauweloa K, Gan G, Shi Z, Daniels...   \n",
              "17  [Halasz LM, Patel SA, McDougall JA, Fedorenko ...   \n",
              "18  [Giatsidis G, Succar J, Waters TD, Liu W, Rhod...   \n",
              "19       [Esters D, Xierali IM, Nivet MA, Rayburn WF]   \n",
              "20  [Kiluk BD, Ray LA, Walthers J, Bernstein M, To...   \n",
              "21                                       [Timmins GS]   \n",
              "22  [Ross-Reed DE, Reno J, Penaloza L, Green D, Fi...   \n",
              "23  [Sangesland M, Ronsard L, Kazer SW, Bals J, Bo...   \n",
              "24  [Ousdal OT, Argyelan M, Narr KL, Abbott C, Wad...   \n",
              "\n",
              "                                             abstract  \n",
              "0   OBJECTIVES: Peer counseling may improve upon p...  \n",
              "1   The cornea and its adnexa pose a unique situat...  \n",
              "2   Purpose: Compare time (speed) and product qual...  \n",
              "3   Hematogenous Candida meningoencephalitis (HCME...  \n",
              "4   PURPOSE OF REVIEW: This review provides a cont...  \n",
              "5   The blood-brain (BBB) and blood-nerve barriers...  \n",
              "6   Somatic mutation and gene expression dysregula...  \n",
              "7   Resting-state functional connectivity (rsFC) i...  \n",
              "8   Burnout is highly prevalent among physicians a...  \n",
              "9   OBJECTIVE: To determine the magnitude of relat...  \n",
              "10  Antibiotic resistance is recognized as a key d...  \n",
              "11  The fact that pharmacokinetic (PK) properties ...  \n",
              "12  Malignant hyperthermia (MH) crises may induce ...  \n",
              "13  Background: Patients with serious musculoskele...  \n",
              "14  OBJECTIVE: Examine the interrelationship betwe...  \n",
              "15  BACKGROUND/OBJECTIVES: Congenital hemangiomas ...  \n",
              "16  Background: The prevention of radiation-induce...  \n",
              "17  PURPOSE: In 2013, the American Society for Rad...  \n",
              "18  BACKGROUND: Adipose tissue defects leading to ...  \n",
              "19  OBJECTIVE: To assess the changing landscape in...  \n",
              "20  BACKGROUND: Cognitive-behavioral therapy (CBT)...  \n",
              "21  Introduction: Despite the great clinical need,...  \n",
              "22  PURPOSE: Gender minority (GM) youth experience...  \n",
              "23  Antibody paratopes are formed by hypervariable...  \n",
              "24  BACKGROUND: Electroconvulsive therapy (ECT) is...  "
            ],
            "text/html": [
              "\n",
              "  <div id=\"df-e95ccbe9-96fc-4fbd-9aef-7b63884f922d\">\n",
              "    <div class=\"colab-df-container\">\n",
              "      <div>\n",
              "<style scoped>\n",
              "    .dataframe tbody tr th:only-of-type {\n",
              "        vertical-align: middle;\n",
              "    }\n",
              "\n",
              "    .dataframe tbody tr th {\n",
              "        vertical-align: top;\n",
              "    }\n",
              "\n",
              "    .dataframe thead th {\n",
              "        text-align: right;\n",
              "    }\n",
              "</style>\n",
              "<table border=\"1\" class=\"dataframe\">\n",
              "  <thead>\n",
              "    <tr style=\"text-align: right;\">\n",
              "      <th></th>\n",
              "      <th>title</th>\n",
              "      <th>authors</th>\n",
              "      <th>abstract</th>\n",
              "    </tr>\n",
              "  </thead>\n",
              "  <tbody>\n",
              "    <tr>\n",
              "      <th>0</th>\n",
              "      <td>Peer-Centered Versus Standard Physician-Center...</td>\n",
              "      <td>[Krantz TE, Rogers RG, Petersen TR, Dunivan GC...</td>\n",
              "      <td>OBJECTIVES: Peer counseling may improve upon p...</td>\n",
              "    </tr>\n",
              "    <tr>\n",
              "      <th>1</th>\n",
              "      <td>ISOPT Clinical Hot Topic Panel Discussion on C...</td>\n",
              "      <td>[Asbell PA, Aquavella JV, Hamrah P, Pepose JS,...</td>\n",
              "      <td>The cornea and its adnexa pose a unique situat...</td>\n",
              "    </tr>\n",
              "    <tr>\n",
              "      <th>2</th>\n",
              "      <td>Speed and quality goals in procedural skills l...</td>\n",
              "      <td>[Cook DA, Gas BL, Pankratz VS, Farley DR, Pusi...</td>\n",
              "      <td>Purpose: Compare time (speed) and product qual...</td>\n",
              "    </tr>\n",
              "    <tr>\n",
              "      <th>3</th>\n",
              "      <td>Amphotericin B Penetrates into the Central Ner...</td>\n",
              "      <td>[Petraitis V, Petraitiene R, Valdez JM, Pyrgos...</td>\n",
              "      <td>Hematogenous Candida meningoencephalitis (HCME...</td>\n",
              "    </tr>\n",
              "    <tr>\n",
              "      <th>4</th>\n",
              "      <td>A contemporary review of obstructive sleep apnea.</td>\n",
              "      <td>[Ralls F, Cutchen L]</td>\n",
              "      <td>PURPOSE OF REVIEW: This review provides a cont...</td>\n",
              "    </tr>\n",
              "    <tr>\n",
              "      <th>5</th>\n",
              "      <td>[EXPRESS] Sustained Relief of Trigeminal Neuro...</td>\n",
              "      <td>[Zhang M, Hu M, Montera MA, Westlund KN High]</td>\n",
              "      <td>The blood-brain (BBB) and blood-nerve barriers...</td>\n",
              "    </tr>\n",
              "    <tr>\n",
              "      <th>6</th>\n",
              "      <td>MutEx: a multifaceted gateway for exploring in...</td>\n",
              "      <td>[Ping J, Oyebamiji O, Yu H, Ness S, Chien J, Y...</td>\n",
              "      <td>Somatic mutation and gene expression dysregula...</td>\n",
              "    </tr>\n",
              "    <tr>\n",
              "      <th>7</th>\n",
              "      <td>A Resting-State Network Comparison of Combat-R...</td>\n",
              "      <td>[Vanasse TJ, Franklin C, Salinas FS, Ramage AE...</td>\n",
              "      <td>Resting-state functional connectivity (rsFC) i...</td>\n",
              "    </tr>\n",
              "    <tr>\n",
              "      <th>8</th>\n",
              "      <td>Organizational strategies to reduce physician ...</td>\n",
              "      <td>[Olson K, Marchalik D, Farley H, Dean SM, Lawr...</td>\n",
              "      <td>Burnout is highly prevalent among physicians a...</td>\n",
              "    </tr>\n",
              "    <tr>\n",
              "      <th>9</th>\n",
              "      <td>Early life risk factors of motor, cognitive an...</td>\n",
              "      <td>[Sania A, Sudfeld CR, Danaei G, Fink G, McCoy ...</td>\n",
              "      <td>OBJECTIVE: To determine the magnitude of relat...</td>\n",
              "    </tr>\n",
              "    <tr>\n",
              "      <th>10</th>\n",
              "      <td>Novel Approaches to Hasten Detection of Pathog...</td>\n",
              "      <td>[Guillamet MCV, Burnham JP, Kollef MH]</td>\n",
              "      <td>Antibiotic resistance is recognized as a key d...</td>\n",
              "    </tr>\n",
              "    <tr>\n",
              "      <th>11</th>\n",
              "      <td>Can BDDCS illuminate targets in drug design?</td>\n",
              "      <td>[Bocci G, Benet LZ, Oprea TI]</td>\n",
              "      <td>The fact that pharmacokinetic (PK) properties ...</td>\n",
              "    </tr>\n",
              "    <tr>\n",
              "      <th>12</th>\n",
              "      <td>Effect of Norepinephrine on Intracellular Ca(2...</td>\n",
              "      <td>[Perry SM, Muldoon S, Michaelson LP, Bunger R,...</td>\n",
              "      <td>Malignant hyperthermia (MH) crises may induce ...</td>\n",
              "    </tr>\n",
              "    <tr>\n",
              "      <th>13</th>\n",
              "      <td>Racial and ethnic disparities in surgical ampu...</td>\n",
              "      <td>[Carvour ML, Chiu A, Page K]</td>\n",
              "      <td>Background: Patients with serious musculoskele...</td>\n",
              "    </tr>\n",
              "    <tr>\n",
              "      <th>14</th>\n",
              "      <td>Smoking Is Associated with Pain in All Body Re...</td>\n",
              "      <td>[Smuck M, Schneider BJ, Ehsanian R, Martin E, ...</td>\n",
              "      <td>OBJECTIVE: Examine the interrelationship betwe...</td>\n",
              "    </tr>\n",
              "    <tr>\n",
              "      <th>15</th>\n",
              "      <td>Atypical presentations of congenital hemangiom...</td>\n",
              "      <td>[West ES, Totoraitis K, Yadav B, Kirkorian AY,...</td>\n",
              "      <td>BACKGROUND/OBJECTIVES: Congenital hemangiomas ...</td>\n",
              "    </tr>\n",
              "    <tr>\n",
              "      <th>16</th>\n",
              "      <td>Correlation between Biological Effective Dose ...</td>\n",
              "      <td>[Bergamo AM, Kauweloa K, Gan G, Shi Z, Daniels...</td>\n",
              "      <td>Background: The prevention of radiation-induce...</td>\n",
              "    </tr>\n",
              "    <tr>\n",
              "      <th>17</th>\n",
              "      <td>Intensity modulated radiation therapy followin...</td>\n",
              "      <td>[Halasz LM, Patel SA, McDougall JA, Fedorenko ...</td>\n",
              "      <td>PURPOSE: In 2013, the American Society for Rad...</td>\n",
              "    </tr>\n",
              "    <tr>\n",
              "      <th>18</th>\n",
              "      <td>Tissue-Engineered Soft-Tissue Reconstruction U...</td>\n",
              "      <td>[Giatsidis G, Succar J, Waters TD, Liu W, Rhod...</td>\n",
              "      <td>BACKGROUND: Adipose tissue defects leading to ...</td>\n",
              "    </tr>\n",
              "    <tr>\n",
              "      <th>19</th>\n",
              "      <td>The Rise of Nontenured Faculty in Obstetrics a...</td>\n",
              "      <td>[Esters D, Xierali IM, Nivet MA, Rayburn WF]</td>\n",
              "      <td>OBJECTIVE: To assess the changing landscape in...</td>\n",
              "    </tr>\n",
              "    <tr>\n",
              "      <th>20</th>\n",
              "      <td>Technology-Delivered Cognitive-Behavioral Inte...</td>\n",
              "      <td>[Kiluk BD, Ray LA, Walthers J, Bernstein M, To...</td>\n",
              "      <td>BACKGROUND: Cognitive-behavioral therapy (CBT)...</td>\n",
              "    </tr>\n",
              "    <tr>\n",
              "      <th>21</th>\n",
              "      <td>What are the challenges in commercial non-tube...</td>\n",
              "      <td>[Timmins GS]</td>\n",
              "      <td>Introduction: Despite the great clinical need,...</td>\n",
              "    </tr>\n",
              "    <tr>\n",
              "      <th>22</th>\n",
              "      <td>Family, School, and Peer Support Are Associate...</td>\n",
              "      <td>[Ross-Reed DE, Reno J, Penaloza L, Green D, Fi...</td>\n",
              "      <td>PURPOSE: Gender minority (GM) youth experience...</td>\n",
              "    </tr>\n",
              "    <tr>\n",
              "      <th>23</th>\n",
              "      <td>Germline-Encoded Affinity for Cognate Antigen ...</td>\n",
              "      <td>[Sangesland M, Ronsard L, Kazer SW, Bals J, Bo...</td>\n",
              "      <td>Antibody paratopes are formed by hypervariable...</td>\n",
              "    </tr>\n",
              "    <tr>\n",
              "      <th>24</th>\n",
              "      <td>Brain Changes Induced by Electroconvulsive The...</td>\n",
              "      <td>[Ousdal OT, Argyelan M, Narr KL, Abbott C, Wad...</td>\n",
              "      <td>BACKGROUND: Electroconvulsive therapy (ECT) is...</td>\n",
              "    </tr>\n",
              "  </tbody>\n",
              "</table>\n",
              "</div>\n",
              "      <button class=\"colab-df-convert\" onclick=\"convertToInteractive('df-e95ccbe9-96fc-4fbd-9aef-7b63884f922d')\"\n",
              "              title=\"Convert this dataframe to an interactive table.\"\n",
              "              style=\"display:none;\">\n",
              "        \n",
              "  <svg xmlns=\"http://www.w3.org/2000/svg\" height=\"24px\"viewBox=\"0 0 24 24\"\n",
              "       width=\"24px\">\n",
              "    <path d=\"M0 0h24v24H0V0z\" fill=\"none\"/>\n",
              "    <path d=\"M18.56 5.44l.94 2.06.94-2.06 2.06-.94-2.06-.94-.94-2.06-.94 2.06-2.06.94zm-11 1L8.5 8.5l.94-2.06 2.06-.94-2.06-.94L8.5 2.5l-.94 2.06-2.06.94zm10 10l.94 2.06.94-2.06 2.06-.94-2.06-.94-.94-2.06-.94 2.06-2.06.94z\"/><path d=\"M17.41 7.96l-1.37-1.37c-.4-.4-.92-.59-1.43-.59-.52 0-1.04.2-1.43.59L10.3 9.45l-7.72 7.72c-.78.78-.78 2.05 0 2.83L4 21.41c.39.39.9.59 1.41.59.51 0 1.02-.2 1.41-.59l7.78-7.78 2.81-2.81c.8-.78.8-2.07 0-2.86zM5.41 20L4 18.59l7.72-7.72 1.47 1.35L5.41 20z\"/>\n",
              "  </svg>\n",
              "      </button>\n",
              "      \n",
              "  <style>\n",
              "    .colab-df-container {\n",
              "      display:flex;\n",
              "      flex-wrap:wrap;\n",
              "      gap: 12px;\n",
              "    }\n",
              "\n",
              "    .colab-df-convert {\n",
              "      background-color: #E8F0FE;\n",
              "      border: none;\n",
              "      border-radius: 50%;\n",
              "      cursor: pointer;\n",
              "      display: none;\n",
              "      fill: #1967D2;\n",
              "      height: 32px;\n",
              "      padding: 0 0 0 0;\n",
              "      width: 32px;\n",
              "    }\n",
              "\n",
              "    .colab-df-convert:hover {\n",
              "      background-color: #E2EBFA;\n",
              "      box-shadow: 0px 1px 2px rgba(60, 64, 67, 0.3), 0px 1px 3px 1px rgba(60, 64, 67, 0.15);\n",
              "      fill: #174EA6;\n",
              "    }\n",
              "\n",
              "    [theme=dark] .colab-df-convert {\n",
              "      background-color: #3B4455;\n",
              "      fill: #D2E3FC;\n",
              "    }\n",
              "\n",
              "    [theme=dark] .colab-df-convert:hover {\n",
              "      background-color: #434B5C;\n",
              "      box-shadow: 0px 1px 3px 1px rgba(0, 0, 0, 0.15);\n",
              "      filter: drop-shadow(0px 1px 2px rgba(0, 0, 0, 0.3));\n",
              "      fill: #FFFFFF;\n",
              "    }\n",
              "  </style>\n",
              "\n",
              "      <script>\n",
              "        const buttonEl =\n",
              "          document.querySelector('#df-e95ccbe9-96fc-4fbd-9aef-7b63884f922d button.colab-df-convert');\n",
              "        buttonEl.style.display =\n",
              "          google.colab.kernel.accessAllowed ? 'block' : 'none';\n",
              "\n",
              "        async function convertToInteractive(key) {\n",
              "          const element = document.querySelector('#df-e95ccbe9-96fc-4fbd-9aef-7b63884f922d');\n",
              "          const dataTable =\n",
              "            await google.colab.kernel.invokeFunction('convertToInteractive',\n",
              "                                                     [key], {});\n",
              "          if (!dataTable) return;\n",
              "\n",
              "          const docLinkHtml = 'Like what you see? Visit the ' +\n",
              "            '<a target=\"_blank\" href=https://colab.research.google.com/notebooks/data_table.ipynb>data table notebook</a>'\n",
              "            + ' to learn more about interactive tables.';\n",
              "          element.innerHTML = '';\n",
              "          dataTable['output_type'] = 'display_data';\n",
              "          await google.colab.output.renderOutput(dataTable, element);\n",
              "          const docLink = document.createElement('div');\n",
              "          docLink.innerHTML = docLinkHtml;\n",
              "          element.appendChild(docLink);\n",
              "        }\n",
              "      </script>\n",
              "    </div>\n",
              "  </div>\n",
              "  "
            ]
          },
          "metadata": {},
          "execution_count": 4
        }
      ]
    },
    {
      "cell_type": "code",
      "metadata": {
        "id": "3PMnCkINOkFN",
        "colab": {
          "base_uri": "https://localhost:8080/"
        },
        "outputId": "3485dd03-50f5-4f2f-dfb6-f9c4174c0b1b"
      },
      "source": [
        "print (\"Title: \", papers['title'][11])\n",
        "print ('\\n')\n",
        "print (\"Abstract: \", papers['abstract'][11])"
      ],
      "execution_count": null,
      "outputs": [
        {
          "output_type": "stream",
          "name": "stdout",
          "text": [
            "Title:  Can BDDCS illuminate targets in drug design?\n",
            "\n",
            "\n",
            "Abstract:  The fact that pharmacokinetic (PK) properties of drugs influence their interaction with protein targets is a principle known for decades. The same cannot be said for the opposite, namely that targets influence the PK properties of drugs. Evidence confirming this possibility is introduced here for the first time, as we show that certain protein families have a clear preference for drugs with specific PK properties. We investigate this by cross-referencing 'druggable target' annotations for >1000 US Food and Drug Administration (FDA)-approved drugs with their PK profile, as defined by the Biopharmaceutics Drug Disposition Classification System (BDDCS) criteria, and then examine the BDDCS preference for several major target protein families and therapeutic categories. Our findings suggest a novel way to conduct drug discovery by focusing PK profiles at the very early stage of target selection.\n"
          ]
        }
      ]
    },
    {
      "cell_type": "code",
      "metadata": {
        "id": "guRK0is3Oqna",
        "colab": {
          "base_uri": "https://localhost:8080/",
          "height": 337
        },
        "outputId": "ff91c03e-349e-4df0-fbd7-ad5445a0ff2d"
      },
      "source": [
        "# Function that cleans text by removing '\\x0c' and '\\n' characters\n",
        "# as well as all non-alpha characters and finally converts everything\n",
        "# to lower case\n",
        "def clean_text(text):\n",
        "    stop_words = ['\\x0c', '\\n']\n",
        "    for i in stop_words:\n",
        "        text.replace(i, ' ')\n",
        "    clean_text = re.sub('[^a-zA-Z]+', ' ', text)\n",
        "    return clean_text.lower()\n",
        "\n",
        "# Create a column for cleaned Abstract and cleaned Title\n",
        "papers['clean_abstract'] = papers['abstract'].apply(clean_text)\n",
        "papers['clean_title'] = papers['title'].apply(clean_text)\n",
        "\n",
        "papers.head()"
      ],
      "execution_count": null,
      "outputs": [
        {
          "output_type": "execute_result",
          "data": {
            "text/plain": [
              "                                               title  \\\n",
              "0  Peer-Centered Versus Standard Physician-Center...   \n",
              "1  ISOPT Clinical Hot Topic Panel Discussion on C...   \n",
              "2  Speed and quality goals in procedural skills l...   \n",
              "3  Amphotericin B Penetrates into the Central Ner...   \n",
              "4  A contemporary review of obstructive sleep apnea.   \n",
              "\n",
              "                                             authors  \\\n",
              "0  [Krantz TE, Rogers RG, Petersen TR, Dunivan GC...   \n",
              "1  [Asbell PA, Aquavella JV, Hamrah P, Pepose JS,...   \n",
              "2  [Cook DA, Gas BL, Pankratz VS, Farley DR, Pusi...   \n",
              "3  [Petraitis V, Petraitiene R, Valdez JM, Pyrgos...   \n",
              "4                               [Ralls F, Cutchen L]   \n",
              "\n",
              "                                            abstract  \\\n",
              "0  OBJECTIVES: Peer counseling may improve upon p...   \n",
              "1  The cornea and its adnexa pose a unique situat...   \n",
              "2  Purpose: Compare time (speed) and product qual...   \n",
              "3  Hematogenous Candida meningoencephalitis (HCME...   \n",
              "4  PURPOSE OF REVIEW: This review provides a cont...   \n",
              "\n",
              "                                      clean_abstract  \\\n",
              "0  objectives peer counseling may improve upon pr...   \n",
              "1  the cornea and its adnexa pose a unique situat...   \n",
              "2  purpose compare time speed and product quality...   \n",
              "3  hematogenous candida meningoencephalitis hcme ...   \n",
              "4  purpose of review this review provides a conte...   \n",
              "\n",
              "                                         clean_title  \n",
              "0  peer centered versus standard physician center...  \n",
              "1  isopt clinical hot topic panel discussion on c...  \n",
              "2  speed and quality goals in procedural skills l...  \n",
              "3  amphotericin b penetrates into the central ner...  \n",
              "4  a contemporary review of obstructive sleep apnea   "
            ],
            "text/html": [
              "\n",
              "  <div id=\"df-2f6bf0a4-639d-4cba-8abb-3d1e45dfcc52\">\n",
              "    <div class=\"colab-df-container\">\n",
              "      <div>\n",
              "<style scoped>\n",
              "    .dataframe tbody tr th:only-of-type {\n",
              "        vertical-align: middle;\n",
              "    }\n",
              "\n",
              "    .dataframe tbody tr th {\n",
              "        vertical-align: top;\n",
              "    }\n",
              "\n",
              "    .dataframe thead th {\n",
              "        text-align: right;\n",
              "    }\n",
              "</style>\n",
              "<table border=\"1\" class=\"dataframe\">\n",
              "  <thead>\n",
              "    <tr style=\"text-align: right;\">\n",
              "      <th></th>\n",
              "      <th>title</th>\n",
              "      <th>authors</th>\n",
              "      <th>abstract</th>\n",
              "      <th>clean_abstract</th>\n",
              "      <th>clean_title</th>\n",
              "    </tr>\n",
              "  </thead>\n",
              "  <tbody>\n",
              "    <tr>\n",
              "      <th>0</th>\n",
              "      <td>Peer-Centered Versus Standard Physician-Center...</td>\n",
              "      <td>[Krantz TE, Rogers RG, Petersen TR, Dunivan GC...</td>\n",
              "      <td>OBJECTIVES: Peer counseling may improve upon p...</td>\n",
              "      <td>objectives peer counseling may improve upon pr...</td>\n",
              "      <td>peer centered versus standard physician center...</td>\n",
              "    </tr>\n",
              "    <tr>\n",
              "      <th>1</th>\n",
              "      <td>ISOPT Clinical Hot Topic Panel Discussion on C...</td>\n",
              "      <td>[Asbell PA, Aquavella JV, Hamrah P, Pepose JS,...</td>\n",
              "      <td>The cornea and its adnexa pose a unique situat...</td>\n",
              "      <td>the cornea and its adnexa pose a unique situat...</td>\n",
              "      <td>isopt clinical hot topic panel discussion on c...</td>\n",
              "    </tr>\n",
              "    <tr>\n",
              "      <th>2</th>\n",
              "      <td>Speed and quality goals in procedural skills l...</td>\n",
              "      <td>[Cook DA, Gas BL, Pankratz VS, Farley DR, Pusi...</td>\n",
              "      <td>Purpose: Compare time (speed) and product qual...</td>\n",
              "      <td>purpose compare time speed and product quality...</td>\n",
              "      <td>speed and quality goals in procedural skills l...</td>\n",
              "    </tr>\n",
              "    <tr>\n",
              "      <th>3</th>\n",
              "      <td>Amphotericin B Penetrates into the Central Ner...</td>\n",
              "      <td>[Petraitis V, Petraitiene R, Valdez JM, Pyrgos...</td>\n",
              "      <td>Hematogenous Candida meningoencephalitis (HCME...</td>\n",
              "      <td>hematogenous candida meningoencephalitis hcme ...</td>\n",
              "      <td>amphotericin b penetrates into the central ner...</td>\n",
              "    </tr>\n",
              "    <tr>\n",
              "      <th>4</th>\n",
              "      <td>A contemporary review of obstructive sleep apnea.</td>\n",
              "      <td>[Ralls F, Cutchen L]</td>\n",
              "      <td>PURPOSE OF REVIEW: This review provides a cont...</td>\n",
              "      <td>purpose of review this review provides a conte...</td>\n",
              "      <td>a contemporary review of obstructive sleep apnea</td>\n",
              "    </tr>\n",
              "  </tbody>\n",
              "</table>\n",
              "</div>\n",
              "      <button class=\"colab-df-convert\" onclick=\"convertToInteractive('df-2f6bf0a4-639d-4cba-8abb-3d1e45dfcc52')\"\n",
              "              title=\"Convert this dataframe to an interactive table.\"\n",
              "              style=\"display:none;\">\n",
              "        \n",
              "  <svg xmlns=\"http://www.w3.org/2000/svg\" height=\"24px\"viewBox=\"0 0 24 24\"\n",
              "       width=\"24px\">\n",
              "    <path d=\"M0 0h24v24H0V0z\" fill=\"none\"/>\n",
              "    <path d=\"M18.56 5.44l.94 2.06.94-2.06 2.06-.94-2.06-.94-.94-2.06-.94 2.06-2.06.94zm-11 1L8.5 8.5l.94-2.06 2.06-.94-2.06-.94L8.5 2.5l-.94 2.06-2.06.94zm10 10l.94 2.06.94-2.06 2.06-.94-2.06-.94-.94-2.06-.94 2.06-2.06.94z\"/><path d=\"M17.41 7.96l-1.37-1.37c-.4-.4-.92-.59-1.43-.59-.52 0-1.04.2-1.43.59L10.3 9.45l-7.72 7.72c-.78.78-.78 2.05 0 2.83L4 21.41c.39.39.9.59 1.41.59.51 0 1.02-.2 1.41-.59l7.78-7.78 2.81-2.81c.8-.78.8-2.07 0-2.86zM5.41 20L4 18.59l7.72-7.72 1.47 1.35L5.41 20z\"/>\n",
              "  </svg>\n",
              "      </button>\n",
              "      \n",
              "  <style>\n",
              "    .colab-df-container {\n",
              "      display:flex;\n",
              "      flex-wrap:wrap;\n",
              "      gap: 12px;\n",
              "    }\n",
              "\n",
              "    .colab-df-convert {\n",
              "      background-color: #E8F0FE;\n",
              "      border: none;\n",
              "      border-radius: 50%;\n",
              "      cursor: pointer;\n",
              "      display: none;\n",
              "      fill: #1967D2;\n",
              "      height: 32px;\n",
              "      padding: 0 0 0 0;\n",
              "      width: 32px;\n",
              "    }\n",
              "\n",
              "    .colab-df-convert:hover {\n",
              "      background-color: #E2EBFA;\n",
              "      box-shadow: 0px 1px 2px rgba(60, 64, 67, 0.3), 0px 1px 3px 1px rgba(60, 64, 67, 0.15);\n",
              "      fill: #174EA6;\n",
              "    }\n",
              "\n",
              "    [theme=dark] .colab-df-convert {\n",
              "      background-color: #3B4455;\n",
              "      fill: #D2E3FC;\n",
              "    }\n",
              "\n",
              "    [theme=dark] .colab-df-convert:hover {\n",
              "      background-color: #434B5C;\n",
              "      box-shadow: 0px 1px 3px 1px rgba(0, 0, 0, 0.15);\n",
              "      filter: drop-shadow(0px 1px 2px rgba(0, 0, 0, 0.3));\n",
              "      fill: #FFFFFF;\n",
              "    }\n",
              "  </style>\n",
              "\n",
              "      <script>\n",
              "        const buttonEl =\n",
              "          document.querySelector('#df-2f6bf0a4-639d-4cba-8abb-3d1e45dfcc52 button.colab-df-convert');\n",
              "        buttonEl.style.display =\n",
              "          google.colab.kernel.accessAllowed ? 'block' : 'none';\n",
              "\n",
              "        async function convertToInteractive(key) {\n",
              "          const element = document.querySelector('#df-2f6bf0a4-639d-4cba-8abb-3d1e45dfcc52');\n",
              "          const dataTable =\n",
              "            await google.colab.kernel.invokeFunction('convertToInteractive',\n",
              "                                                     [key], {});\n",
              "          if (!dataTable) return;\n",
              "\n",
              "          const docLinkHtml = 'Like what you see? Visit the ' +\n",
              "            '<a target=\"_blank\" href=https://colab.research.google.com/notebooks/data_table.ipynb>data table notebook</a>'\n",
              "            + ' to learn more about interactive tables.';\n",
              "          element.innerHTML = '';\n",
              "          dataTable['output_type'] = 'display_data';\n",
              "          await google.colab.output.renderOutput(dataTable, element);\n",
              "          const docLink = document.createElement('div');\n",
              "          docLink.innerHTML = docLinkHtml;\n",
              "          element.appendChild(docLink);\n",
              "        }\n",
              "      </script>\n",
              "    </div>\n",
              "  </div>\n",
              "  "
            ]
          },
          "metadata": {},
          "execution_count": 6
        }
      ]
    },
    {
      "cell_type": "code",
      "metadata": {
        "id": "K-x3vB5qPFcb",
        "colab": {
          "base_uri": "https://localhost:8080/"
        },
        "outputId": "9a750e73-0d95-4fc0-f36b-6ce9df0c1ff5"
      },
      "source": [
        "print (\"Title: \", papers['title'][4])\n",
        "print ('\\n')\n",
        "print (\"Abstract: \", papers['abstract'][4])"
      ],
      "execution_count": null,
      "outputs": [
        {
          "output_type": "stream",
          "name": "stdout",
          "text": [
            "Title:  A contemporary review of obstructive sleep apnea.\n",
            "\n",
            "\n",
            "Abstract:  PURPOSE OF REVIEW: This review provides a contemporary review of sleep apnea with emphasis on definitions, epidemiology, and consequences. RECENT FINDINGS: Amyloid beta-42 is one of the main peptides forming amyloid plaques in the brains of Alzheimer patients. Poorer sleep quality and shorter sleep duration have been associated with a higher amyloid burden. Decreased sleep time in the elderly is a precipitating factor in amyloid retention. Studies have shown that the dysregulation of the homeostatic balance of the major inhibitory and excitatory amino acid neurotransmitter systems of gamma-aminobutyric acid (GABA) and glutamate play a role in sleep disordered breathing (SDB). SUMMARY: Untreated sleep disordered breathing (obstructive sleep apnea and/or central sleep apnea) are an important cause of medical mortality and morbidity. OSA is characterized by recurrent episodes of partial or complete collapse of the upper airway during sleep followed by hypoxia and sympathetic activation. Apneic events are terminated by arousal, followed by increases in pulse and blood pressure, and re-oxygenation and the release of inflammatory factors. Individuals with OSA have an increased risk of developing atrial fibrillation. Hypoxemia and poor sleep quality because of OSA increase the risk of cognitive decline in the elderly.\n"
          ]
        }
      ]
    },
    {
      "cell_type": "code",
      "metadata": {
        "id": "WcEar3J7jqv3",
        "colab": {
          "base_uri": "https://localhost:8080/"
        },
        "outputId": "c3cee98c-5002-4b57-efde-12b4ce78dc80"
      },
      "source": [
        "print (\"Title: \", papers['clean_title'][4])\n",
        "print ('\\n')\n",
        "print (\"Abstract: \", papers['clean_abstract'][4])"
      ],
      "execution_count": null,
      "outputs": [
        {
          "output_type": "stream",
          "name": "stdout",
          "text": [
            "Title:  a contemporary review of obstructive sleep apnea \n",
            "\n",
            "\n",
            "Abstract:  purpose of review this review provides a contemporary review of sleep apnea with emphasis on definitions epidemiology and consequences recent findings amyloid beta is one of the main peptides forming amyloid plaques in the brains of alzheimer patients poorer sleep quality and shorter sleep duration have been associated with a higher amyloid burden decreased sleep time in the elderly is a precipitating factor in amyloid retention studies have shown that the dysregulation of the homeostatic balance of the major inhibitory and excitatory amino acid neurotransmitter systems of gamma aminobutyric acid gaba and glutamate play a role in sleep disordered breathing sdb summary untreated sleep disordered breathing obstructive sleep apnea and or central sleep apnea are an important cause of medical mortality and morbidity osa is characterized by recurrent episodes of partial or complete collapse of the upper airway during sleep followed by hypoxia and sympathetic activation apneic events are terminated by arousal followed by increases in pulse and blood pressure and re oxygenation and the release of inflammatory factors individuals with osa have an increased risk of developing atrial fibrillation hypoxemia and poor sleep quality because of osa increase the risk of cognitive decline in the elderly \n"
          ]
        }
      ]
    },
    {
      "cell_type": "code",
      "metadata": {
        "id": "-ZZpTmDZPNPW"
      },
      "source": [
        "'''Build tf-idf matrix based on Abstract and Title\n",
        "Use NLTK word_tokenize() and SnowballStemmer() to tokenize and stem document Title and Abstract'''\n",
        "\n",
        "# Function that takes text, tokenizes it and returns list of stemmed tokens\n",
        "def tokenize_and_stem(text):\n",
        "    tokens = nltk.word_tokenize(text)\n",
        "    stemmer = nltk.stem.snowball.SnowballStemmer(\"english\")\n",
        "    return [i for i in [stemmer.stem(t) for t in tokens] if len(i) > 2]"
      ],
      "execution_count": null,
      "outputs": []
    },
    {
      "cell_type": "markdown",
      "metadata": {
        "id": "UzsLJ7uOPVfa"
      },
      "source": [
        "**Create a tf-idf vectorizer using sklearn TfidfVectorizer**\n",
        "\n",
        "1. First we create the vectorizer specifying the paramters\n",
        "    * max_df is the maximum allowable document frequency for a token this is set to 0.50 to include terms that appear in less than 50% of documents.\n",
        "    * min_df is the minimum allowable document frequency for a token and is set to 0 to include all terms, even those that appear in only one document\n",
        "    * max_features sets the maximum number of features allowed and is set to an arbitrarily large number (i.e. 200,000) to ensure we capture at least as many features\n",
        "    * stop_words specifies the words/tokens to remove from the corpus\n",
        "    * use_idf enables reweighting each feature by its inverse-document-frequency when set to true\n",
        "    * tokenizer specifies which tokenizer to use, we want to tokenize and stem so we pass it our tokenized_and_stem() function we created above. The default tokenizer will tokenize words and include those greater than two characters in length.\n",
        "2. We then fit the vectorizer to our cleaned text using *vectorizer.fit_transform()*\n",
        "3. The output is a n*m matrix where n is the number of documents in our corpus and m is the number of features.\n",
        "4. We can inspect the features using *vectorizer.get_feature_names()*"
      ]
    },
    {
      "cell_type": "code",
      "metadata": {
        "id": "eXcVNLEpWBpY",
        "colab": {
          "base_uri": "https://localhost:8080/"
        },
        "outputId": "315aba05-bde2-4b3d-d6c7-461e90fb3814"
      },
      "source": [
        "import nltk\n",
        "nltk.download('punkt')"
      ],
      "execution_count": null,
      "outputs": [
        {
          "output_type": "stream",
          "name": "stderr",
          "text": [
            "[nltk_data] Downloading package punkt to /root/nltk_data...\n",
            "[nltk_data]   Unzipping tokenizers/punkt.zip.\n"
          ]
        },
        {
          "output_type": "execute_result",
          "data": {
            "text/plain": [
              "True"
            ]
          },
          "metadata": {},
          "execution_count": 10
        }
      ]
    },
    {
      "cell_type": "code",
      "metadata": {
        "id": "SeCC4wWQPZL9",
        "colab": {
          "base_uri": "https://localhost:8080/"
        },
        "outputId": "6f0f286d-47eb-42e8-f086-b3fffebcb5af"
      },
      "source": [
        "# Import the TfidfVectorizer from sklearn\n",
        "from sklearn.feature_extraction.text import TfidfVectorizer\n",
        "\n",
        "# Create vectorizer for Abstracts, max_df is set to 0.5, we only want\n",
        "# to include terms that appear in less tha 50% of the documents (i.e. rare terms)\n",
        "abs_tfidf_vectorizer = TfidfVectorizer(max_df=0.5, min_df=1, max_features=100000,\n",
        "               stop_words='english', use_idf=True, tokenizer=tokenize_and_stem)\n",
        "\n",
        "# Create vectorizer for Title, max_df is set to 0.5, we only want\n",
        "# to include terms that appear in less than 50% of the documents (i.e. rare terms)\n",
        "title_tfidf_vectorizer = TfidfVectorizer(max_df=0.5, min_df=1, max_features=100000,\n",
        "               stop_words='english', use_idf=True, tokenizer=tokenize_and_stem)\n",
        "\n",
        "# Compute TF-IDF weights for Abstracts\n",
        "tfidf_weights_abs = abs_tfidf_vectorizer.fit_transform(papers['clean_abstract'])"
      ],
      "execution_count": null,
      "outputs": [
        {
          "output_type": "stream",
          "name": "stderr",
          "text": [
            "/usr/local/lib/python3.8/dist-packages/sklearn/feature_extraction/text.py:396: UserWarning: Your stop_words may be inconsistent with your preprocessing. Tokenizing the stop words generated tokens ['abov', 'afterward', 'alon', 'alreadi', 'alway', 'ani', 'anoth', 'anyon', 'anyth', 'anywher', 'becam', 'becaus', 'becom', 'befor', 'besid', 'cri', 'describ', 'dure', 'els', 'elsewher', 'empti', 'everi', 'everyon', 'everyth', 'everywher', 'fifti', 'forti', 'henc', 'hereaft', 'herebi', 'howev', 'hundr', 'inde', 'mani', 'meanwhil', 'moreov', 'nobodi', 'noon', 'noth', 'nowher', 'onc', 'onli', 'otherwis', 'ourselv', 'perhap', 'pleas', 'sever', 'sinc', 'sincer', 'sixti', 'someon', 'someth', 'sometim', 'somewher', 'themselv', 'thenc', 'thereaft', 'therebi', 'therefor', 'togeth', 'twelv', 'twenti', 'veri', 'whatev', 'whenc', 'whenev', 'wherea', 'whereaft', 'wherebi', 'wherev', 'whi', 'yourselv'] not in stop_words.\n",
            "  warnings.warn(\n"
          ]
        }
      ]
    },
    {
      "cell_type": "code",
      "metadata": {
        "id": "_lUwxVPDRtDV"
      },
      "source": [
        "# Compute TF-IDF weights for Title\n",
        "tfidf_weights_title = title_tfidf_vectorizer.fit_transform(papers['clean_title'])\n",
        "\n",
        "# Get feature names for Abstract and Title models\n",
        "tfidf_features_title = title_tfidf_vectorizer.get_feature_names_out()\n",
        "tfidf_features_abs = abs_tfidf_vectorizer.get_feature_names_out()"
      ],
      "execution_count": null,
      "outputs": []
    },
    {
      "cell_type": "code",
      "metadata": {
        "id": "J6O2_4M8kZsY",
        "colab": {
          "base_uri": "https://localhost:8080/"
        },
        "outputId": "45714511-e39d-4482-f713-ad03163fd054"
      },
      "source": [
        "tfidf_features_abs"
      ],
      "execution_count": null,
      "outputs": [
        {
          "output_type": "execute_result",
          "data": {
            "text/plain": [
              "array(['aabb', 'aadc', 'aall', ..., 'zwisch', 'zygos', 'zymographi'],\n",
              "      dtype=object)"
            ]
          },
          "metadata": {},
          "execution_count": 13
        }
      ]
    },
    {
      "cell_type": "markdown",
      "metadata": {
        "id": "nObDwPzbRzO3"
      },
      "source": [
        "**Write function to get the top-k features associated with a document**"
      ]
    },
    {
      "cell_type": "code",
      "metadata": {
        "id": "Efpv4SwBRxX1",
        "colab": {
          "base_uri": "https://localhost:8080/"
        },
        "outputId": "f466bc77-b996-4f6c-fdfd-ccc43d4996bb"
      },
      "source": [
        "# Function for returning the top_k features of an Abstract\n",
        "# or Title\n",
        "def get_top_features(rownum, weights, features, top_k=30):\n",
        "    weight_vec = weights.toarray()[rownum,:]\n",
        "    top_idx = np.argsort(weight_vec)[::-1][:top_k]\n",
        "    return [features[i] for i in top_idx]\n",
        "\n",
        "# Top k features of Abstract 1\n",
        "get_top_features(1, tfidf_weights_abs, tfidf_features_abs)"
      ],
      "execution_count": null,
      "outputs": [
        {
          "output_type": "execute_result",
          "data": {
            "text/plain": [
              "['cornea',\n",
              " 'discuss',\n",
              " 'wet',\n",
              " 'discomfort',\n",
              " 'situat',\n",
              " 'network',\n",
              " 'neural',\n",
              " 'seen',\n",
              " 'maintain',\n",
              " 'issu',\n",
              " 'address',\n",
              " 'tear',\n",
              " 'moreso',\n",
              " 'wind',\n",
              " 'adnexa',\n",
              " 'perfect',\n",
              " 'blink',\n",
              " 'corneal',\n",
              " 'elabor',\n",
              " 'engulf',\n",
              " 'refract',\n",
              " 'isopt',\n",
              " 'desper',\n",
              " 'hypercomplex',\n",
              " 'util',\n",
              " 'busi',\n",
              " 'humid',\n",
              " 'reader',\n",
              " 'alik',\n",
              " 'transpar']"
            ]
          },
          "metadata": {},
          "execution_count": 14
        }
      ]
    },
    {
      "cell_type": "code",
      "metadata": {
        "id": "NdVFgUGnR7FT",
        "colab": {
          "base_uri": "https://localhost:8080/"
        },
        "outputId": "3025ce3e-d380-4fae-d220-41a4ca78e593"
      },
      "source": [
        "# Top k features of Title 1\n",
        "get_top_features(1, tfidf_weights_title, tfidf_features_title)"
      ],
      "execution_count": null,
      "outputs": [
        {
          "output_type": "execute_result",
          "data": {
            "text/plain": [
              "['hot',\n",
              " 'discuss',\n",
              " 'cornea',\n",
              " 'anterior',\n",
              " 'isopt',\n",
              " 'segment',\n",
              " 'topic',\n",
              " 'panel',\n",
              " 'diseas',\n",
              " 'clinic',\n",
              " 'extraglott',\n",
              " 'factor',\n",
              " 'ezh',\n",
              " 'eye',\n",
              " 'extrem',\n",
              " 'zuni',\n",
              " 'faculti',\n",
              " 'extracellular',\n",
              " 'extern',\n",
              " 'extens',\n",
              " 'extend',\n",
              " 'express',\n",
              " 'exposur',\n",
              " 'expos',\n",
              " 'exploratori',\n",
              " 'extract',\n",
              " 'failur',\n",
              " 'faecal',\n",
              " 'fail',\n",
              " 'featur']"
            ]
          },
          "metadata": {},
          "execution_count": 15
        }
      ]
    },
    {
      "cell_type": "markdown",
      "metadata": {
        "id": "uhNFTcNAUB7I"
      },
      "source": [
        "**Build Nearest Neighbors model using Abstract and Title TF-IDF matrices**"
      ]
    },
    {
      "cell_type": "code",
      "metadata": {
        "id": "C6eKPtIFUCxb"
      },
      "source": [
        "\n",
        "# Build model to return 5 closest neighbors\n",
        "from sklearn.neighbors import NearestNeighbors\n",
        "\n",
        "# Create the k-NN model using k=5\n",
        "nn_abs = NearestNeighbors(n_neighbors=5, algorithm='auto')\n",
        "nn_title = NearestNeighbors(n_neighbors=5, algorithm='auto')\n",
        "\n",
        "# Fit the models to the TF-IDF weights matrix\n",
        "nn_fitted_abs = nn_abs.fit(tfidf_weights_abs)\n",
        "nn_fitted_title = nn_title.fit(tfidf_weights_title)\n",
        "\n",
        "# function to return the top-k nearest papers\n",
        "\n",
        "def find_nearest_papers(row, kNNmodel, tfidf_weights, tfidf_features, papers):\n",
        "    keywords = get_top_features(row, tfidf_weights, tfidf_features)\n",
        "    dist,idx = kNNmodel.kneighbors(tfidf_weights[row,:])\n",
        "    idx = list(idx[0])\n",
        "    return {'papers':papers.iloc[idx], 'keywords':keywords}"
      ],
      "execution_count": null,
      "outputs": []
    },
    {
      "cell_type": "markdown",
      "metadata": {
        "id": "ugxy4rFzUacM"
      },
      "source": [
        "**Return papers based on Abstract similarity**\n",
        "\n",
        "Now that we have a function to return similar papers, we can use it to find papers with similar abstracts. We can return Authors, Title, or Abstract of similar matches"
      ]
    },
    {
      "cell_type": "code",
      "metadata": {
        "id": "jkdd8AtbUcqp",
        "colab": {
          "base_uri": "https://localhost:8080/",
          "height": 337
        },
        "outputId": "f645ca25-4356-4f1e-9d4d-ef742a85efad"
      },
      "source": [
        "find_nearest_papers(9, nn_fitted_abs, tfidf_weights_abs, tfidf_features_abs, papers)['papers']"
      ],
      "execution_count": null,
      "outputs": [
        {
          "output_type": "execute_result",
          "data": {
            "text/plain": [
              "                                                 title  \\\n",
              "9    Early life risk factors of motor, cognitive an...   \n",
              "677  Predictors of Overweight and Obesity in Americ...   \n",
              "114  Protecting children's health in a calorie-surp...   \n",
              "396  Exposure to environmental toxicants and young ...   \n",
              "538  Behavioral problems are associated with cognit...   \n",
              "\n",
              "                                               authors  \\\n",
              "9    [Sania A, Sudfeld CR, Danaei G, Fink G, McCoy ...   \n",
              "677  [Adams AK, Tomayko EJ, A Cronin K, J Prince R,...   \n",
              "114  [Cunningham SA, Chandrasekar EK, Cartwright K,...   \n",
              "396  [Davis AN, Carlo G, Gulseven Z, Palermo F, Lin...   \n",
              "538  [Lowe JR, Fuller JF, Do BT, Vohr BR, Das A, Hi...   \n",
              "\n",
              "                                              abstract  \\\n",
              "9    OBJECTIVE: To determine the magnitude of relat...   \n",
              "677  OBJECTIVE: To describe sociodemographic factor...   \n",
              "114  Studies from the social and health sciences ha...   \n",
              "396  Background Understanding the role of environme...   \n",
              "538  OBJECTIVE: To evaluate the relationship of par...   \n",
              "\n",
              "                                        clean_abstract  \\\n",
              "9    objective to determine the magnitude of relati...   \n",
              "677  objective to describe sociodemographic factors...   \n",
              "114  studies from the social and health sciences ha...   \n",
              "396  background understanding the role of environme...   \n",
              "538  objective to evaluate the relationship of pare...   \n",
              "\n",
              "                                           clean_title  \n",
              "9    early life risk factors of motor cognitive and...  \n",
              "677  predictors of overweight and obesity in americ...  \n",
              "114  protecting children s health in a calorie surp...  \n",
              "396  exposure to environmental toxicants and young ...  \n",
              "538  behavioral problems are associated with cognit...  "
            ],
            "text/html": [
              "\n",
              "  <div id=\"df-9b6623bd-5298-4531-a50f-0aac7717273e\">\n",
              "    <div class=\"colab-df-container\">\n",
              "      <div>\n",
              "<style scoped>\n",
              "    .dataframe tbody tr th:only-of-type {\n",
              "        vertical-align: middle;\n",
              "    }\n",
              "\n",
              "    .dataframe tbody tr th {\n",
              "        vertical-align: top;\n",
              "    }\n",
              "\n",
              "    .dataframe thead th {\n",
              "        text-align: right;\n",
              "    }\n",
              "</style>\n",
              "<table border=\"1\" class=\"dataframe\">\n",
              "  <thead>\n",
              "    <tr style=\"text-align: right;\">\n",
              "      <th></th>\n",
              "      <th>title</th>\n",
              "      <th>authors</th>\n",
              "      <th>abstract</th>\n",
              "      <th>clean_abstract</th>\n",
              "      <th>clean_title</th>\n",
              "    </tr>\n",
              "  </thead>\n",
              "  <tbody>\n",
              "    <tr>\n",
              "      <th>9</th>\n",
              "      <td>Early life risk factors of motor, cognitive an...</td>\n",
              "      <td>[Sania A, Sudfeld CR, Danaei G, Fink G, McCoy ...</td>\n",
              "      <td>OBJECTIVE: To determine the magnitude of relat...</td>\n",
              "      <td>objective to determine the magnitude of relati...</td>\n",
              "      <td>early life risk factors of motor cognitive and...</td>\n",
              "    </tr>\n",
              "    <tr>\n",
              "      <th>677</th>\n",
              "      <td>Predictors of Overweight and Obesity in Americ...</td>\n",
              "      <td>[Adams AK, Tomayko EJ, A Cronin K, J Prince R,...</td>\n",
              "      <td>OBJECTIVE: To describe sociodemographic factor...</td>\n",
              "      <td>objective to describe sociodemographic factors...</td>\n",
              "      <td>predictors of overweight and obesity in americ...</td>\n",
              "    </tr>\n",
              "    <tr>\n",
              "      <th>114</th>\n",
              "      <td>Protecting children's health in a calorie-surp...</td>\n",
              "      <td>[Cunningham SA, Chandrasekar EK, Cartwright K,...</td>\n",
              "      <td>Studies from the social and health sciences ha...</td>\n",
              "      <td>studies from the social and health sciences ha...</td>\n",
              "      <td>protecting children s health in a calorie surp...</td>\n",
              "    </tr>\n",
              "    <tr>\n",
              "      <th>396</th>\n",
              "      <td>Exposure to environmental toxicants and young ...</td>\n",
              "      <td>[Davis AN, Carlo G, Gulseven Z, Palermo F, Lin...</td>\n",
              "      <td>Background Understanding the role of environme...</td>\n",
              "      <td>background understanding the role of environme...</td>\n",
              "      <td>exposure to environmental toxicants and young ...</td>\n",
              "    </tr>\n",
              "    <tr>\n",
              "      <th>538</th>\n",
              "      <td>Behavioral problems are associated with cognit...</td>\n",
              "      <td>[Lowe JR, Fuller JF, Do BT, Vohr BR, Das A, Hi...</td>\n",
              "      <td>OBJECTIVE: To evaluate the relationship of par...</td>\n",
              "      <td>objective to evaluate the relationship of pare...</td>\n",
              "      <td>behavioral problems are associated with cognit...</td>\n",
              "    </tr>\n",
              "  </tbody>\n",
              "</table>\n",
              "</div>\n",
              "      <button class=\"colab-df-convert\" onclick=\"convertToInteractive('df-9b6623bd-5298-4531-a50f-0aac7717273e')\"\n",
              "              title=\"Convert this dataframe to an interactive table.\"\n",
              "              style=\"display:none;\">\n",
              "        \n",
              "  <svg xmlns=\"http://www.w3.org/2000/svg\" height=\"24px\"viewBox=\"0 0 24 24\"\n",
              "       width=\"24px\">\n",
              "    <path d=\"M0 0h24v24H0V0z\" fill=\"none\"/>\n",
              "    <path d=\"M18.56 5.44l.94 2.06.94-2.06 2.06-.94-2.06-.94-.94-2.06-.94 2.06-2.06.94zm-11 1L8.5 8.5l.94-2.06 2.06-.94-2.06-.94L8.5 2.5l-.94 2.06-2.06.94zm10 10l.94 2.06.94-2.06 2.06-.94-2.06-.94-.94-2.06-.94 2.06-2.06.94z\"/><path d=\"M17.41 7.96l-1.37-1.37c-.4-.4-.92-.59-1.43-.59-.52 0-1.04.2-1.43.59L10.3 9.45l-7.72 7.72c-.78.78-.78 2.05 0 2.83L4 21.41c.39.39.9.59 1.41.59.51 0 1.02-.2 1.41-.59l7.78-7.78 2.81-2.81c.8-.78.8-2.07 0-2.86zM5.41 20L4 18.59l7.72-7.72 1.47 1.35L5.41 20z\"/>\n",
              "  </svg>\n",
              "      </button>\n",
              "      \n",
              "  <style>\n",
              "    .colab-df-container {\n",
              "      display:flex;\n",
              "      flex-wrap:wrap;\n",
              "      gap: 12px;\n",
              "    }\n",
              "\n",
              "    .colab-df-convert {\n",
              "      background-color: #E8F0FE;\n",
              "      border: none;\n",
              "      border-radius: 50%;\n",
              "      cursor: pointer;\n",
              "      display: none;\n",
              "      fill: #1967D2;\n",
              "      height: 32px;\n",
              "      padding: 0 0 0 0;\n",
              "      width: 32px;\n",
              "    }\n",
              "\n",
              "    .colab-df-convert:hover {\n",
              "      background-color: #E2EBFA;\n",
              "      box-shadow: 0px 1px 2px rgba(60, 64, 67, 0.3), 0px 1px 3px 1px rgba(60, 64, 67, 0.15);\n",
              "      fill: #174EA6;\n",
              "    }\n",
              "\n",
              "    [theme=dark] .colab-df-convert {\n",
              "      background-color: #3B4455;\n",
              "      fill: #D2E3FC;\n",
              "    }\n",
              "\n",
              "    [theme=dark] .colab-df-convert:hover {\n",
              "      background-color: #434B5C;\n",
              "      box-shadow: 0px 1px 3px 1px rgba(0, 0, 0, 0.15);\n",
              "      filter: drop-shadow(0px 1px 2px rgba(0, 0, 0, 0.3));\n",
              "      fill: #FFFFFF;\n",
              "    }\n",
              "  </style>\n",
              "\n",
              "      <script>\n",
              "        const buttonEl =\n",
              "          document.querySelector('#df-9b6623bd-5298-4531-a50f-0aac7717273e button.colab-df-convert');\n",
              "        buttonEl.style.display =\n",
              "          google.colab.kernel.accessAllowed ? 'block' : 'none';\n",
              "\n",
              "        async function convertToInteractive(key) {\n",
              "          const element = document.querySelector('#df-9b6623bd-5298-4531-a50f-0aac7717273e');\n",
              "          const dataTable =\n",
              "            await google.colab.kernel.invokeFunction('convertToInteractive',\n",
              "                                                     [key], {});\n",
              "          if (!dataTable) return;\n",
              "\n",
              "          const docLinkHtml = 'Like what you see? Visit the ' +\n",
              "            '<a target=\"_blank\" href=https://colab.research.google.com/notebooks/data_table.ipynb>data table notebook</a>'\n",
              "            + ' to learn more about interactive tables.';\n",
              "          element.innerHTML = '';\n",
              "          dataTable['output_type'] = 'display_data';\n",
              "          await google.colab.output.renderOutput(dataTable, element);\n",
              "          const docLink = document.createElement('div');\n",
              "          docLink.innerHTML = docLinkHtml;\n",
              "          element.appendChild(docLink);\n",
              "        }\n",
              "      </script>\n",
              "    </div>\n",
              "  </div>\n",
              "  "
            ]
          },
          "metadata": {},
          "execution_count": 17
        }
      ]
    },
    {
      "cell_type": "markdown",
      "metadata": {
        "id": "L95L6td-UfYg"
      },
      "source": [
        "**Return papers based on Title similarity**\n",
        "\n",
        "Now that we have a function to return similar papers, we can use it to find papers with similar Titles. We can return Authors, Title, or Abstract of similar matches"
      ]
    },
    {
      "cell_type": "code",
      "metadata": {
        "id": "FoCrp3s3UjuH",
        "colab": {
          "base_uri": "https://localhost:8080/",
          "height": 337
        },
        "outputId": "090fa514-6a80-42cd-94fd-7a8cc0ab6827"
      },
      "source": [
        "find_nearest_papers(1, nn_fitted_title, tfidf_weights_title, tfidf_features_title, papers)['papers']"
      ],
      "execution_count": null,
      "outputs": [
        {
          "output_type": "execute_result",
          "data": {
            "text/plain": [
              "                                                 title  \\\n",
              "1    ISOPT Clinical Hot Topic Panel Discussion on C...   \n",
              "511  Racial variation in the complexity of coronary...   \n",
              "234  Critical developments of 2018: A review of the...   \n",
              "266  Development and Validation of a MicroRNA Panel...   \n",
              "665  A Simple Framework for Weighting Panels Across...   \n",
              "\n",
              "                                               authors  \\\n",
              "1    [Asbell PA, Aquavella JV, Hamrah P, Pepose JS,...   \n",
              "511  [Elbadawi A, Alotaki E, Vazquez C, Barssoum K,...   \n",
              "234  [Cohn CS, Allen ES, Cushing MM, Dunbar NM, Fri...   \n",
              "266  [Ormseth MJ, Solus JF, Sheng Q, Ye F, Wu Q, Gu...   \n",
              "665  [Kamnetz S, Trowbridge E, Lochner J, Koslov S,...   \n",
              "\n",
              "                                              abstract  \\\n",
              "1    The cornea and its adnexa pose a unique situat...   \n",
              "511  BACKGROUND: Racial variations in presentation ...   \n",
              "234  BACKGROUND: The AABB compiles an annual synops...   \n",
              "266  OBJECTIVE: MicroRNA (miRNA) are short noncodin...   \n",
              "665  BACKGROUND: Health system redesign necessitate...   \n",
              "\n",
              "                                        clean_abstract  \\\n",
              "1    the cornea and its adnexa pose a unique situat...   \n",
              "511  background racial variations in presentation o...   \n",
              "234  background the aabb compiles an annual synopsi...   \n",
              "266  objective microrna mirna are short noncoding r...   \n",
              "665  background health system redesign necessitates...   \n",
              "\n",
              "                                           clean_title  \n",
              "1    isopt clinical hot topic panel discussion on c...  \n",
              "511  racial variation in the complexity of coronary...  \n",
              "234  critical developments of a review of the liter...  \n",
              "266  development and validation of a microrna panel...  \n",
              "665  a simple framework for weighting panels across...  "
            ],
            "text/html": [
              "\n",
              "  <div id=\"df-18789326-ea9e-4f5f-9710-6ad7e20c0683\">\n",
              "    <div class=\"colab-df-container\">\n",
              "      <div>\n",
              "<style scoped>\n",
              "    .dataframe tbody tr th:only-of-type {\n",
              "        vertical-align: middle;\n",
              "    }\n",
              "\n",
              "    .dataframe tbody tr th {\n",
              "        vertical-align: top;\n",
              "    }\n",
              "\n",
              "    .dataframe thead th {\n",
              "        text-align: right;\n",
              "    }\n",
              "</style>\n",
              "<table border=\"1\" class=\"dataframe\">\n",
              "  <thead>\n",
              "    <tr style=\"text-align: right;\">\n",
              "      <th></th>\n",
              "      <th>title</th>\n",
              "      <th>authors</th>\n",
              "      <th>abstract</th>\n",
              "      <th>clean_abstract</th>\n",
              "      <th>clean_title</th>\n",
              "    </tr>\n",
              "  </thead>\n",
              "  <tbody>\n",
              "    <tr>\n",
              "      <th>1</th>\n",
              "      <td>ISOPT Clinical Hot Topic Panel Discussion on C...</td>\n",
              "      <td>[Asbell PA, Aquavella JV, Hamrah P, Pepose JS,...</td>\n",
              "      <td>The cornea and its adnexa pose a unique situat...</td>\n",
              "      <td>the cornea and its adnexa pose a unique situat...</td>\n",
              "      <td>isopt clinical hot topic panel discussion on c...</td>\n",
              "    </tr>\n",
              "    <tr>\n",
              "      <th>511</th>\n",
              "      <td>Racial variation in the complexity of coronary...</td>\n",
              "      <td>[Elbadawi A, Alotaki E, Vazquez C, Barssoum K,...</td>\n",
              "      <td>BACKGROUND: Racial variations in presentation ...</td>\n",
              "      <td>background racial variations in presentation o...</td>\n",
              "      <td>racial variation in the complexity of coronary...</td>\n",
              "    </tr>\n",
              "    <tr>\n",
              "      <th>234</th>\n",
              "      <td>Critical developments of 2018: A review of the...</td>\n",
              "      <td>[Cohn CS, Allen ES, Cushing MM, Dunbar NM, Fri...</td>\n",
              "      <td>BACKGROUND: The AABB compiles an annual synops...</td>\n",
              "      <td>background the aabb compiles an annual synopsi...</td>\n",
              "      <td>critical developments of a review of the liter...</td>\n",
              "    </tr>\n",
              "    <tr>\n",
              "      <th>266</th>\n",
              "      <td>Development and Validation of a MicroRNA Panel...</td>\n",
              "      <td>[Ormseth MJ, Solus JF, Sheng Q, Ye F, Wu Q, Gu...</td>\n",
              "      <td>OBJECTIVE: MicroRNA (miRNA) are short noncodin...</td>\n",
              "      <td>objective microrna mirna are short noncoding r...</td>\n",
              "      <td>development and validation of a microrna panel...</td>\n",
              "    </tr>\n",
              "    <tr>\n",
              "      <th>665</th>\n",
              "      <td>A Simple Framework for Weighting Panels Across...</td>\n",
              "      <td>[Kamnetz S, Trowbridge E, Lochner J, Koslov S,...</td>\n",
              "      <td>BACKGROUND: Health system redesign necessitate...</td>\n",
              "      <td>background health system redesign necessitates...</td>\n",
              "      <td>a simple framework for weighting panels across...</td>\n",
              "    </tr>\n",
              "  </tbody>\n",
              "</table>\n",
              "</div>\n",
              "      <button class=\"colab-df-convert\" onclick=\"convertToInteractive('df-18789326-ea9e-4f5f-9710-6ad7e20c0683')\"\n",
              "              title=\"Convert this dataframe to an interactive table.\"\n",
              "              style=\"display:none;\">\n",
              "        \n",
              "  <svg xmlns=\"http://www.w3.org/2000/svg\" height=\"24px\"viewBox=\"0 0 24 24\"\n",
              "       width=\"24px\">\n",
              "    <path d=\"M0 0h24v24H0V0z\" fill=\"none\"/>\n",
              "    <path d=\"M18.56 5.44l.94 2.06.94-2.06 2.06-.94-2.06-.94-.94-2.06-.94 2.06-2.06.94zm-11 1L8.5 8.5l.94-2.06 2.06-.94-2.06-.94L8.5 2.5l-.94 2.06-2.06.94zm10 10l.94 2.06.94-2.06 2.06-.94-2.06-.94-.94-2.06-.94 2.06-2.06.94z\"/><path d=\"M17.41 7.96l-1.37-1.37c-.4-.4-.92-.59-1.43-.59-.52 0-1.04.2-1.43.59L10.3 9.45l-7.72 7.72c-.78.78-.78 2.05 0 2.83L4 21.41c.39.39.9.59 1.41.59.51 0 1.02-.2 1.41-.59l7.78-7.78 2.81-2.81c.8-.78.8-2.07 0-2.86zM5.41 20L4 18.59l7.72-7.72 1.47 1.35L5.41 20z\"/>\n",
              "  </svg>\n",
              "      </button>\n",
              "      \n",
              "  <style>\n",
              "    .colab-df-container {\n",
              "      display:flex;\n",
              "      flex-wrap:wrap;\n",
              "      gap: 12px;\n",
              "    }\n",
              "\n",
              "    .colab-df-convert {\n",
              "      background-color: #E8F0FE;\n",
              "      border: none;\n",
              "      border-radius: 50%;\n",
              "      cursor: pointer;\n",
              "      display: none;\n",
              "      fill: #1967D2;\n",
              "      height: 32px;\n",
              "      padding: 0 0 0 0;\n",
              "      width: 32px;\n",
              "    }\n",
              "\n",
              "    .colab-df-convert:hover {\n",
              "      background-color: #E2EBFA;\n",
              "      box-shadow: 0px 1px 2px rgba(60, 64, 67, 0.3), 0px 1px 3px 1px rgba(60, 64, 67, 0.15);\n",
              "      fill: #174EA6;\n",
              "    }\n",
              "\n",
              "    [theme=dark] .colab-df-convert {\n",
              "      background-color: #3B4455;\n",
              "      fill: #D2E3FC;\n",
              "    }\n",
              "\n",
              "    [theme=dark] .colab-df-convert:hover {\n",
              "      background-color: #434B5C;\n",
              "      box-shadow: 0px 1px 3px 1px rgba(0, 0, 0, 0.15);\n",
              "      filter: drop-shadow(0px 1px 2px rgba(0, 0, 0, 0.3));\n",
              "      fill: #FFFFFF;\n",
              "    }\n",
              "  </style>\n",
              "\n",
              "      <script>\n",
              "        const buttonEl =\n",
              "          document.querySelector('#df-18789326-ea9e-4f5f-9710-6ad7e20c0683 button.colab-df-convert');\n",
              "        buttonEl.style.display =\n",
              "          google.colab.kernel.accessAllowed ? 'block' : 'none';\n",
              "\n",
              "        async function convertToInteractive(key) {\n",
              "          const element = document.querySelector('#df-18789326-ea9e-4f5f-9710-6ad7e20c0683');\n",
              "          const dataTable =\n",
              "            await google.colab.kernel.invokeFunction('convertToInteractive',\n",
              "                                                     [key], {});\n",
              "          if (!dataTable) return;\n",
              "\n",
              "          const docLinkHtml = 'Like what you see? Visit the ' +\n",
              "            '<a target=\"_blank\" href=https://colab.research.google.com/notebooks/data_table.ipynb>data table notebook</a>'\n",
              "            + ' to learn more about interactive tables.';\n",
              "          element.innerHTML = '';\n",
              "          dataTable['output_type'] = 'display_data';\n",
              "          await google.colab.output.renderOutput(dataTable, element);\n",
              "          const docLink = document.createElement('div');\n",
              "          docLink.innerHTML = docLinkHtml;\n",
              "          element.appendChild(docLink);\n",
              "        }\n",
              "      </script>\n",
              "    </div>\n",
              "  </div>\n",
              "  "
            ]
          },
          "metadata": {},
          "execution_count": 18
        }
      ]
    },
    {
      "cell_type": "markdown",
      "metadata": {
        "id": "pImzHOpQVXQv"
      },
      "source": [
        "**Let's find similar articles using Abstract similarity**"
      ]
    },
    {
      "cell_type": "code",
      "metadata": {
        "id": "Gw71bdocVck0",
        "colab": {
          "base_uri": "https://localhost:8080/",
          "height": 142
        },
        "outputId": "27806168-f60a-4e34-c443-38782e400503"
      },
      "source": [
        "title = \"A contemporary review of obstructive sleep apnea.\" #provide actual name of a paper\n",
        "papers[papers['title']==title]"
      ],
      "execution_count": null,
      "outputs": [
        {
          "output_type": "execute_result",
          "data": {
            "text/plain": [
              "                                               title               authors  \\\n",
              "4  A contemporary review of obstructive sleep apnea.  [Ralls F, Cutchen L]   \n",
              "\n",
              "                                            abstract  \\\n",
              "4  PURPOSE OF REVIEW: This review provides a cont...   \n",
              "\n",
              "                                      clean_abstract  \\\n",
              "4  purpose of review this review provides a conte...   \n",
              "\n",
              "                                         clean_title  \n",
              "4  a contemporary review of obstructive sleep apnea   "
            ],
            "text/html": [
              "\n",
              "  <div id=\"df-b5b59aeb-df3f-4491-8330-2dbe54ab1463\">\n",
              "    <div class=\"colab-df-container\">\n",
              "      <div>\n",
              "<style scoped>\n",
              "    .dataframe tbody tr th:only-of-type {\n",
              "        vertical-align: middle;\n",
              "    }\n",
              "\n",
              "    .dataframe tbody tr th {\n",
              "        vertical-align: top;\n",
              "    }\n",
              "\n",
              "    .dataframe thead th {\n",
              "        text-align: right;\n",
              "    }\n",
              "</style>\n",
              "<table border=\"1\" class=\"dataframe\">\n",
              "  <thead>\n",
              "    <tr style=\"text-align: right;\">\n",
              "      <th></th>\n",
              "      <th>title</th>\n",
              "      <th>authors</th>\n",
              "      <th>abstract</th>\n",
              "      <th>clean_abstract</th>\n",
              "      <th>clean_title</th>\n",
              "    </tr>\n",
              "  </thead>\n",
              "  <tbody>\n",
              "    <tr>\n",
              "      <th>4</th>\n",
              "      <td>A contemporary review of obstructive sleep apnea.</td>\n",
              "      <td>[Ralls F, Cutchen L]</td>\n",
              "      <td>PURPOSE OF REVIEW: This review provides a cont...</td>\n",
              "      <td>purpose of review this review provides a conte...</td>\n",
              "      <td>a contemporary review of obstructive sleep apnea</td>\n",
              "    </tr>\n",
              "  </tbody>\n",
              "</table>\n",
              "</div>\n",
              "      <button class=\"colab-df-convert\" onclick=\"convertToInteractive('df-b5b59aeb-df3f-4491-8330-2dbe54ab1463')\"\n",
              "              title=\"Convert this dataframe to an interactive table.\"\n",
              "              style=\"display:none;\">\n",
              "        \n",
              "  <svg xmlns=\"http://www.w3.org/2000/svg\" height=\"24px\"viewBox=\"0 0 24 24\"\n",
              "       width=\"24px\">\n",
              "    <path d=\"M0 0h24v24H0V0z\" fill=\"none\"/>\n",
              "    <path d=\"M18.56 5.44l.94 2.06.94-2.06 2.06-.94-2.06-.94-.94-2.06-.94 2.06-2.06.94zm-11 1L8.5 8.5l.94-2.06 2.06-.94-2.06-.94L8.5 2.5l-.94 2.06-2.06.94zm10 10l.94 2.06.94-2.06 2.06-.94-2.06-.94-.94-2.06-.94 2.06-2.06.94z\"/><path d=\"M17.41 7.96l-1.37-1.37c-.4-.4-.92-.59-1.43-.59-.52 0-1.04.2-1.43.59L10.3 9.45l-7.72 7.72c-.78.78-.78 2.05 0 2.83L4 21.41c.39.39.9.59 1.41.59.51 0 1.02-.2 1.41-.59l7.78-7.78 2.81-2.81c.8-.78.8-2.07 0-2.86zM5.41 20L4 18.59l7.72-7.72 1.47 1.35L5.41 20z\"/>\n",
              "  </svg>\n",
              "      </button>\n",
              "      \n",
              "  <style>\n",
              "    .colab-df-container {\n",
              "      display:flex;\n",
              "      flex-wrap:wrap;\n",
              "      gap: 12px;\n",
              "    }\n",
              "\n",
              "    .colab-df-convert {\n",
              "      background-color: #E8F0FE;\n",
              "      border: none;\n",
              "      border-radius: 50%;\n",
              "      cursor: pointer;\n",
              "      display: none;\n",
              "      fill: #1967D2;\n",
              "      height: 32px;\n",
              "      padding: 0 0 0 0;\n",
              "      width: 32px;\n",
              "    }\n",
              "\n",
              "    .colab-df-convert:hover {\n",
              "      background-color: #E2EBFA;\n",
              "      box-shadow: 0px 1px 2px rgba(60, 64, 67, 0.3), 0px 1px 3px 1px rgba(60, 64, 67, 0.15);\n",
              "      fill: #174EA6;\n",
              "    }\n",
              "\n",
              "    [theme=dark] .colab-df-convert {\n",
              "      background-color: #3B4455;\n",
              "      fill: #D2E3FC;\n",
              "    }\n",
              "\n",
              "    [theme=dark] .colab-df-convert:hover {\n",
              "      background-color: #434B5C;\n",
              "      box-shadow: 0px 1px 3px 1px rgba(0, 0, 0, 0.15);\n",
              "      filter: drop-shadow(0px 1px 2px rgba(0, 0, 0, 0.3));\n",
              "      fill: #FFFFFF;\n",
              "    }\n",
              "  </style>\n",
              "\n",
              "      <script>\n",
              "        const buttonEl =\n",
              "          document.querySelector('#df-b5b59aeb-df3f-4491-8330-2dbe54ab1463 button.colab-df-convert');\n",
              "        buttonEl.style.display =\n",
              "          google.colab.kernel.accessAllowed ? 'block' : 'none';\n",
              "\n",
              "        async function convertToInteractive(key) {\n",
              "          const element = document.querySelector('#df-b5b59aeb-df3f-4491-8330-2dbe54ab1463');\n",
              "          const dataTable =\n",
              "            await google.colab.kernel.invokeFunction('convertToInteractive',\n",
              "                                                     [key], {});\n",
              "          if (!dataTable) return;\n",
              "\n",
              "          const docLinkHtml = 'Like what you see? Visit the ' +\n",
              "            '<a target=\"_blank\" href=https://colab.research.google.com/notebooks/data_table.ipynb>data table notebook</a>'\n",
              "            + ' to learn more about interactive tables.';\n",
              "          element.innerHTML = '';\n",
              "          dataTable['output_type'] = 'display_data';\n",
              "          await google.colab.output.renderOutput(dataTable, element);\n",
              "          const docLink = document.createElement('div');\n",
              "          docLink.innerHTML = docLinkHtml;\n",
              "          element.appendChild(docLink);\n",
              "        }\n",
              "      </script>\n",
              "    </div>\n",
              "  </div>\n",
              "  "
            ]
          },
          "metadata": {},
          "execution_count": 19
        }
      ]
    },
    {
      "cell_type": "code",
      "metadata": {
        "id": "ySKDGpRIVv17",
        "colab": {
          "base_uri": "https://localhost:8080/"
        },
        "outputId": "493888cd-7a15-466a-9aa6-633186433f08"
      },
      "source": [
        "nearest_papers = find_nearest_papers(4, nn_fitted_abs, tfidf_weights_abs, tfidf_features_abs, papers)\n",
        "for i in nearest_papers['keywords']: print (\"Keywords: \", i)"
      ],
      "execution_count": null,
      "outputs": [
        {
          "output_type": "stream",
          "name": "stdout",
          "text": [
            "Keywords:  sleep\n",
            "Keywords:  amyloid\n",
            "Keywords:  osa\n",
            "Keywords:  apnea\n",
            "Keywords:  breath\n",
            "Keywords:  elder\n",
            "Keywords:  review\n",
            "Keywords:  acid\n",
            "Keywords:  gaba\n",
            "Keywords:  excitatori\n",
            "Keywords:  aminobutyr\n",
            "Keywords:  qualiti\n",
            "Keywords:  neurotransmitt\n",
            "Keywords:  arous\n",
            "Keywords:  hypoxemia\n",
            "Keywords:  sdb\n",
            "Keywords:  apneic\n",
            "Keywords:  contemporari\n",
            "Keywords:  increas\n",
            "Keywords:  precipit\n",
            "Keywords:  glutam\n",
            "Keywords:  sympathet\n",
            "Keywords:  alzheim\n",
            "Keywords:  collaps\n",
            "Keywords:  homeostat\n",
            "Keywords:  disord\n",
            "Keywords:  emphasi\n",
            "Keywords:  fibril\n",
            "Keywords:  untreat\n",
            "Keywords:  puls\n"
          ]
        }
      ]
    },
    {
      "cell_type": "code",
      "metadata": {
        "id": "66ML7so9VzDc",
        "colab": {
          "base_uri": "https://localhost:8080/"
        },
        "outputId": "4f9c7e88-1746-49e4-fa3d-2f1ff73642f5"
      },
      "source": [
        "# Show the abstracts of similar papers\n",
        "for i in nearest_papers['papers']['abstract']: print (\"Abstract: \"+i+\"\\n\")"
      ],
      "execution_count": null,
      "outputs": [
        {
          "output_type": "stream",
          "name": "stdout",
          "text": [
            "Abstract: PURPOSE OF REVIEW: This review provides a contemporary review of sleep apnea with emphasis on definitions, epidemiology, and consequences. RECENT FINDINGS: Amyloid beta-42 is one of the main peptides forming amyloid plaques in the brains of Alzheimer patients. Poorer sleep quality and shorter sleep duration have been associated with a higher amyloid burden. Decreased sleep time in the elderly is a precipitating factor in amyloid retention. Studies have shown that the dysregulation of the homeostatic balance of the major inhibitory and excitatory amino acid neurotransmitter systems of gamma-aminobutyric acid (GABA) and glutamate play a role in sleep disordered breathing (SDB). SUMMARY: Untreated sleep disordered breathing (obstructive sleep apnea and/or central sleep apnea) are an important cause of medical mortality and morbidity. OSA is characterized by recurrent episodes of partial or complete collapse of the upper airway during sleep followed by hypoxia and sympathetic activation. Apneic events are terminated by arousal, followed by increases in pulse and blood pressure, and re-oxygenation and the release of inflammatory factors. Individuals with OSA have an increased risk of developing atrial fibrillation. Hypoxemia and poor sleep quality because of OSA increase the risk of cognitive decline in the elderly.\n",
            "\n",
            "Abstract: Sleep-disordered breathing (SDB), including OSA and central sleep apnea, is highly prevalent in patients with heart failure (HF). Multiple studies have reported this high prevalence in asymptomatic as well as symptomatic patients with reduced left ventricular ejection fraction (HFrEF), as well as in those with HF with preserved ejection fraction. The acute pathobiologic consequences of OSA, including exaggerated sympathetic activity, oxidative stress, and inflammation, eventually could lead to progressive left ventricular dysfunction, repeated hospitalization, and excessive mortality. Large numbers of observational studies and a few small randomized controlled trials have shown improvement in various cardiovascular consequences of SDB with treatment. There are no long-term randomized controlled trials to show improved survival of patients with HF and treatment of OSA. One trial of positive airway pressure treatment of OSA included patients with HF and showed no improvement in clinical outcomes. However, any conclusions derived from this trial must take into account several important pitfalls that have been extensively discussed in the literature. With the role of positive airway pressure as the sole therapy for SDB in HF increasingly questioned, a critical examination of long-accepted concepts in this field is needed. The objective of this review was to incorporate recent advances in the field into a phenotype-based approach to the management of OSA in HF.\n",
            "\n",
            "Abstract: PURPOSE OF REVIEW: To understand the importance of rapid eye movement (REM) sleep in the cognitive and sensorimotor development via neural plasticity during embryonic development and infants. RECENT FINDINGS: REM sleep has remained a mystery as many of the underlying mechanisms of REM sleep remain unclear. Recent findings have demonstrated that REM sleep selectively prunes newly formed dendritic spines in the developing brain as well as strengthening new synapses in the developing brain. This process is critical for normal neuronal circuit development and behavioral improvement after learning. SUMMARY: Although many mechanisms of REM sleep remain unclear, recent findings strongly suggest that REM sleep is vitally important in pruning synapses as well as maintaining new synapses for the development of a healthy brain. Developmental neuroplasticity refers to the continuous change of the developing brain during fetal development. Lack of plasticity may result in reduced intellectual ability, reduced learning and memory consolidation, and mental illness.\n",
            "\n",
            "Abstract: Sleep is critically important to consolidate information learned throughout the day. Slow-wave sleep (SWS) serves to consolidate declarative memories, a process previously modulated with open-loop non-invasive electrical stimulation, though not always effectively. These failures to replicate could be explained by the fact that stimulation has only been performed in open-loop, as opposed to closed-loop where phase and frequency of the endogenous slow-wave oscillations (SWOs) are matched for optimal timing. The current study investigated the effects of closed-loop transcranial Alternating Current Stimulation (tACS) targeting SWOs during sleep on memory consolidation. 21 participants took part in a three-night, counterbalanced, randomized, single-blind, within-subjects study, investigating performance changes (correct rate and F1 score) on images in a target detection task over 24 h. During sleep, 1.5 mA closed-loop tACS was delivered in phase over electrodes at F3 and F4 and 180 degrees out of phase over electrodes at bilateral mastoids at the frequency (range 0.5-1.2 Hz) and phase of ongoing SWOs for a duration of 5 cycles in each discrete event throughout the night. Data were analyzed in a repeated measures ANOVA framework, and results show that verum stimulation improved post-sleep performance specifically on generalized versions of images used in training at both morning and afternoon tests compared to sham, suggesting the facilitation of schematization of information, but not of rote, veridical recall. We also found a surprising inverted U-shaped dose effect of sleep tACS, which is interpreted in terms of tACS-induced faciliatory and subsequent refractory dynamics of SWO power in scalp EEG. This is the first study showing a selective modulation of long-term memory generalization using a novel closed-loop tACS approach, which holds great potential for both healthy and neuropsychiatric populations.\n",
            "\n",
            "Abstract: OBJECTIVE: To describe sociodemographic factors and health behaviors among American Indian (AI) families with young children and determine predictors of adult and child weight status among these factors. DESIGN: Descriptive, cross-sectional baseline data. SETTING: One urban area and 4 rural AI reservations nationwide. PARTICIPANTS: A total of 450 AI families with children aged 2-5 years participating in the Healthy Children, Strong Families 2 intervention. INTERVENTION: Baseline data from a healthy lifestyles intervention. MAIN OUTCOME MEASURES: Child body mass index (BMI) z-score and adult BMI, and multiple healthy lifestyle outcomes. ANALYSIS: Descriptive statistics and stepwise regression. RESULTS: Adult and child combined overweight and obesity rates were high: 82% and 40%, respectively. Food insecurity was high (61%). Multiple lifestyle behaviors, including fruit and vegetable and sugar-sweetened beverage consumption, adult physical activity, and child screen time, did not meet national recommendations. Adult sleep was adequate but children had low overnight sleep duration of 10 h/d. Significant predictors of child obesity included more adults in the household (P = .003; beta = 0.153), an adult AI caregiver (P = .02; beta = 0.116), high adult BMI (P = .001; beta = 0.176), gestational diabetes, high child birth weight (P < .001; beta = 0.247), and the family activity and nutrition score (P = .04; beta = 0.130). CONCLUSIONS AND IMPLICATIONS: We found multiple child-, adult-, and household-level factors influence early childhood obesity in AI children, highlighting the need for interventions to mitigate the modifiable factors identified in this study, including early life influences, home environments, and health behaviors.\n",
            "\n"
          ]
        }
      ]
    },
    {
      "cell_type": "markdown",
      "metadata": {
        "id": "ijj53-6cV58T"
      },
      "source": [
        "Applying k-Nearest Neighbors to TF-IDF weights matrix seems to be pretty effective at returning similar articles. The parameters that were chosen to build the TF-IDF models and k-Nearest Neighbors models were somewhat arbitrary. It would be resonable to assume that the accuracy of document retrieval could be improved if more time was invested in selecting optimal tuning parameters."
      ]
    },
    {
      "cell_type": "markdown",
      "metadata": {
        "id": "eCui25VcjJ0Q"
      },
      "source": [
        "Try optimizing this one with K-means, Agglomerative clustering and DBSCAN."
      ]
    }
  ]
}