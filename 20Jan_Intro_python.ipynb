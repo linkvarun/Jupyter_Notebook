{
 "cells": [
  {
   "cell_type": "markdown",
   "id": "170b070e",
   "metadata": {},
   "source": [
    "# Literals (integer, float, complex number in a+bj format, None literal, Boolean)\n",
    "# Constants and Variables are subsets of Identifiers\n",
    "\n",
    "a=20\n",
    "\n",
    "#a is a variable\n",
    "= is operator\n",
    "20 is literal\n",
    "\n",
    "#An identifier is any name used in python proram so it can be a constant name, class name or function name\n",
    "1. Allowed characters: A-Z, a-z, 0-9 and _\n",
    "2. Not allowed: any special character\n",
    "3. you cannot start with a number\n",
    "4. Identifiers are case sensitive\n",
    "5. Reserved words should not be used as identifiers (like for, while, etc.)\n",
    "\n",
    "PI=3.14\n",
    "r=24\n",
    "PI is a constant, as a best practice it should be written in capital letters but it's not a rule\n",
    "area=PI*(r*r)"
   ]
  },
  {
   "cell_type": "code",
   "execution_count": 1,
   "id": "14463ee0",
   "metadata": {},
   "outputs": [
    {
     "name": "stdout",
     "output_type": "stream",
     "text": [
      "['False', 'None', 'True', 'and', 'as', 'assert', 'async', 'await', 'break', 'class', 'continue', 'def', 'del', 'elif', 'else', 'except', 'finally', 'for', 'from', 'global', 'if', 'import', 'in', 'is', 'lambda', 'nonlocal', 'not', 'or', 'pass', 'raise', 'return', 'try', 'while', 'with', 'yield']\n"
     ]
    }
   ],
   "source": [
    "#how to find the keywords\n",
    "import keyword\n",
    "print(keyword.kwlist)"
   ]
  },
  {
   "cell_type": "markdown",
   "id": "f429cdb1",
   "metadata": {},
   "source": [
    "# Statements and Expressions\n",
    "\n",
    "## An expression is a Combination of variables and literals which returns a result\n",
    "## A statement is a Combination of variables and literals which doesnt return anything\n",
    "\n",
    "### 10+20 is  an expressions as it returns an output or a result\n",
    "### a=10 is a statement as it doesn't  returns any output "
   ]
  },
  {
   "cell_type": "code",
   "execution_count": 2,
   "id": "4043ed89",
   "metadata": {},
   "outputs": [
    {
     "name": "stdout",
     "output_type": "stream",
     "text": [
      "0\n",
      "1\n",
      "2\n",
      "3\n",
      "4\n"
     ]
    }
   ],
   "source": [
    "for i in range(5):\n",
    "    print(i)"
   ]
  },
  {
   "cell_type": "code",
   "execution_count": null,
   "id": "926c455c",
   "metadata": {},
   "outputs": [],
   "source": [
    "def f1():\n",
    "    pass"
   ]
  },
  {
   "cell_type": "code",
   "execution_count": 4,
   "id": "3822ad86",
   "metadata": {},
   "outputs": [
    {
     "data": {
      "text/plain": [
       "30"
      ]
     },
     "execution_count": 4,
     "metadata": {},
     "output_type": "execute_result"
    }
   ],
   "source": [
    "a=10 #statement\n",
    "b=20 #statement\n",
    "a+b #expression"
   ]
  },
  {
   "cell_type": "code",
   "execution_count": null,
   "id": "878b7547",
   "metadata": {},
   "outputs": [],
   "source": [
    "#Blocks and Indentation\n",
    "\n",
    "if a>b:\n",
    "    do this #this is a block of a code\n",
    "    do that #this is a block of a code\n"
   ]
  },
  {
   "cell_type": "markdown",
   "id": "7141ecfb",
   "metadata": {},
   "source": [
    "# Compiler and Interpreter\n",
    "A compiler runs the whole code and throws all the errors at once (like C and C++)\n",
    "In interpreter, line by line code is executed and stops at the first error (like Python)"
   ]
  },
  {
   "cell_type": "markdown",
   "id": "23917083",
   "metadata": {},
   "source": [
    "# Datatypes\n",
    "\n",
    "## Fundamental Datatypes\n",
    "1. Int\n",
    "2. float\n",
    "3. complex\n",
    "4. String\n",
    "5. None\n",
    "6. Boolean\n",
    "\n",
    "## Derived Datatypes\n",
    "1. list\n",
    "2. tuple\n",
    "3. set\n",
    "4. dictionary\n",
    "5. range"
   ]
  },
  {
   "cell_type": "code",
   "execution_count": 14,
   "id": "348ea1d1",
   "metadata": {},
   "outputs": [
    {
     "name": "stdout",
     "output_type": "stream",
     "text": [
      "<class 'int'>\n",
      "<class 'float'>\n",
      "<class 'str'>\n",
      "<class 'NoneType'>\n",
      "<class 'bool'>\n"
     ]
    }
   ],
   "source": [
    "#to check the datatype of a variable\n",
    "a=200\n",
    "b=12.2\n",
    "c='abc'\n",
    "d=None\n",
    "e=False\n",
    "print(type(a))\n",
    "print(type(b))\n",
    "print(type(c))\n",
    "print(type(d))\n",
    "print(type(e))"
   ]
  },
  {
   "cell_type": "markdown",
   "id": "0b388502",
   "metadata": {},
   "source": [
    "# Types of oprarations that we ca perform on int datatype\n",
    "\n",
    "1. Arithmatic op\n",
    "2. Comparison op\n",
    "3. Equality op\n",
    "4. ASCII op\n",
    "5. Logical op\n",
    "6. Bitwise op\n",
    "7. Identity op\n",
    "8. Membership op"
   ]
  }
 ],
 "metadata": {
  "kernelspec": {
   "display_name": "Python 3",
   "language": "python",
   "name": "python3"
  },
  "language_info": {
   "codemirror_mode": {
    "name": "ipython",
    "version": 3
   },
   "file_extension": ".py",
   "mimetype": "text/x-python",
   "name": "python",
   "nbconvert_exporter": "python",
   "pygments_lexer": "ipython3",
   "version": "3.8.8"
  }
 },
 "nbformat": 4,
 "nbformat_minor": 5
}
