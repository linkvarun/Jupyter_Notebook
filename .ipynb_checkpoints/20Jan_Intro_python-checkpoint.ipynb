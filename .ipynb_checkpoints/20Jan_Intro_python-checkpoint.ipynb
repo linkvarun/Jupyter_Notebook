{
 "cells": [
  {
   "cell_type": "markdown",
   "id": "5192c7a2",
   "metadata": {},
   "source": [
    "# Literals (integer, float, complex number in a+bj format, None literal, Boolean)\n",
    "# Constants and Variables are subsets of Identifiers\n",
    "\n",
    "a=20\n",
    "\n",
    "#a is a variable\n",
    "= is operator\n",
    "20 is literal\n",
    "\n",
    "#An identifier is any name used in python proram so it can be a constant name, class name or function name\n",
    "1. Allowed characters: A-Z, a-z, 0-9 and _\n",
    "2. Not allowed: any special character\n",
    "3. you cannot start with a number\n",
    "4. Identifiers are case sensitive\n",
    "5. Reserved words should not be used as identifiers (like for, while, etc.)\n",
    "\n",
    "PI=3.14\n",
    "r=24\n",
    "PI is a constant, as a best practice it should be written in capital letters but it's not a rule\n",
    "area=PI*(r*r)"
   ]
  },
  {
   "cell_type": "code",
   "execution_count": 1,
   "id": "b5495acf",
   "metadata": {},
   "outputs": [
    {
     "name": "stdout",
     "output_type": "stream",
     "text": [
      "['False', 'None', 'True', 'and', 'as', 'assert', 'async', 'await', 'break', 'class', 'continue', 'def', 'del', 'elif', 'else', 'except', 'finally', 'for', 'from', 'global', 'if', 'import', 'in', 'is', 'lambda', 'nonlocal', 'not', 'or', 'pass', 'raise', 'return', 'try', 'while', 'with', 'yield']\n"
     ]
    }
   ],
   "source": [
    "#how to find the keywords\n",
    "import keyword\n",
    "print(keyword.kwlist)"
   ]
  },
  {
   "cell_type": "code",
   "execution_count": null,
   "id": "b99760bc",
   "metadata": {},
   "outputs": [],
   "source": [
    "#Statements and Expressions\n",
    "#An expression is a Combination of variables and literals which returns a result\n",
    "# A statement is a Combination of variables and literals which doesnt return anything\n",
    "\n",
    "# 10+20 is  an expressions as it returns an output or a result\n",
    "\n",
    "# a=10 is a statement as it doesn't  returns any output "
   ]
  },
  {
   "cell_type": "code",
   "execution_count": 2,
   "id": "c9a88117",
   "metadata": {},
   "outputs": [],
   "source": [
    "for i in range(5):\n",
    "    pass"
   ]
  },
  {
   "cell_type": "code",
   "execution_count": null,
   "id": "2153c716",
   "metadata": {},
   "outputs": [],
   "source": [
    "def f1():\n",
    "    pass"
   ]
  },
  {
   "cell_type": "code",
   "execution_count": 4,
   "id": "cdf568c2",
   "metadata": {},
   "outputs": [
    {
     "data": {
      "text/plain": [
       "30"
      ]
     },
     "execution_count": 4,
     "metadata": {},
     "output_type": "execute_result"
    }
   ],
   "source": [
    "a=10 #statement\n",
    "b=20 #statement\n",
    "a+b #expression"
   ]
  },
  {
   "cell_type": "code",
   "execution_count": null,
   "id": "6c8f7817",
   "metadata": {},
   "outputs": [],
   "source": [
    "#Blocks and Indentation\n",
    "\n",
    "if a>b:\n",
    "    do this #this is a block of a code\n",
    "    do that #this is a block of a code\n"
   ]
  },
  {
   "cell_type": "markdown",
   "id": "df949359",
   "metadata": {},
   "source": [
    "# Compiler and Interpreter\n",
    "A compiler runs the whole code and throws all the errors at once (like C and C++)\n",
    "In interpreter, line by line code is executed and stops at the first error (like Python)"
   ]
  }
 ],
 "metadata": {
  "kernelspec": {
   "display_name": "Python 3",
   "language": "python",
   "name": "python3"
  },
  "language_info": {
   "codemirror_mode": {
    "name": "ipython",
    "version": 3
   },
   "file_extension": ".py",
   "mimetype": "text/x-python",
   "name": "python",
   "nbconvert_exporter": "python",
   "pygments_lexer": "ipython3",
   "version": "3.8.8"
  }
 },
 "nbformat": 4,
 "nbformat_minor": 5
}
