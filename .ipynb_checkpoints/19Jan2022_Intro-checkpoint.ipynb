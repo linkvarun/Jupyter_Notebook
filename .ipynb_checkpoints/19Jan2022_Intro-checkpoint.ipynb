{
 "cells": [
  {
   "cell_type": "code",
   "execution_count": 3,
   "id": "90e2f20b",
   "metadata": {},
   "outputs": [],
   "source": [
    "#coding cell is for writing code\n",
    "#Markdown cell is for writing notes"
   ]
  },
  {
   "cell_type": "markdown",
   "id": "e0f8182a",
   "metadata": {},
   "source": [
    "# Header is created with # follwed by space\n",
    "## With two ## the size becomes smaller\n",
    "### more the number of #, smaller becomes the size\n",
    "\n",
    "This is a Markdown Cell created by selecting the \"Markdown\" from the dropdown (by default, it is code)\n",
    "\n",
    "1. point 1\n",
    "2. point 2\n",
    "3. point 3\n",
    "\n",
    "For bullet points '*' should be followed by space\n",
    "* point 1\n",
    "* point 2\n",
    "\n",
    "**Hello** (for bold)"
   ]
  },
  {
   "cell_type": "code",
   "execution_count": 2,
   "id": "9e035271",
   "metadata": {},
   "outputs": [
    {
     "name": "stdout",
     "output_type": "stream",
     "text": [
      "Varun Arora\n"
     ]
    }
   ],
   "source": [
    "print('Varun Arora')"
   ]
  },
  {
   "cell_type": "markdown",
   "id": "e4d92965",
   "metadata": {},
   "source": [
    "Esc\n",
    "----------------------------------------\n",
    "m- for markdowncell\n",
    "y- for coding cell\n",
    "b- add row below\n",
    "a- add row above\n",
    "x- cut cell\n",
    "dd - delete cell\n",
    "c- copy\n",
    "v- paste\n",
    "z- undo deleted cell"
   ]
  },
  {
   "cell_type": "markdown",
   "id": "7d150bb6",
   "metadata": {},
   "source": [
    "extension of a jupyter notebook is .ipynb (interactive python notebook)\n",
    "\n",
    "universal extension of a python file is .py\n",
    "\n",
    "to convert a .ipynb file to .py file, goto file and then download as a python file"
   ]
  },
  {
   "cell_type": "code",
   "execution_count": 4,
   "id": "2535665e",
   "metadata": {},
   "outputs": [],
   "source": [
    "# On a terminal window, >>> means you are in python shell where you can write any code, called Python Interpreter\n",
    "# Here also we can execute a piece of code "
   ]
  },
  {
   "cell_type": "code",
   "execution_count": 5,
   "id": "7ba1d72a",
   "metadata": {},
   "outputs": [
    {
     "data": {
      "text/plain": [
       "'C:\\\\Users\\\\varora13\\\\LearnBay'"
      ]
     },
     "execution_count": 5,
     "metadata": {},
     "output_type": "execute_result"
    }
   ],
   "source": [
    "pwd"
   ]
  },
  {
   "cell_type": "code",
   "execution_count": null,
   "id": "deeccd7a",
   "metadata": {},
   "outputs": [],
   "source": []
  },
  {
   "cell_type": "code",
   "execution_count": null,
   "id": "a949b1a2",
   "metadata": {},
   "outputs": [],
   "source": []
  },
  {
   "cell_type": "code",
   "execution_count": null,
   "id": "5361e538",
   "metadata": {},
   "outputs": [],
   "source": []
  }
 ],
 "metadata": {
  "kernelspec": {
   "display_name": "Python 3",
   "language": "python",
   "name": "python3"
  },
  "language_info": {
   "codemirror_mode": {
    "name": "ipython",
    "version": 3
   },
   "file_extension": ".py",
   "mimetype": "text/x-python",
   "name": "python",
   "nbconvert_exporter": "python",
   "pygments_lexer": "ipython3",
   "version": "3.8.8"
  }
 },
 "nbformat": 4,
 "nbformat_minor": 5
}
